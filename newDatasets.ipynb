{
 "cells": [
  {
   "cell_type": "code",
   "execution_count": 2,
   "metadata": {},
   "outputs": [],
   "source": [
    "import pandas as pd\n",
    "import numpy as np\n",
    "\n",
    "# Load the data\n",
    "\n",
    "x_train = pd.read_csv('CompleteDataSet/x_train_all.csv')  \n",
    "y_train = pd.read_csv('CompleteDataSet/y_train_all.csv')\n",
    "x_test = pd.read_csv('CompleteDataSet/x_test_all.csv')  \n",
    "y_test = pd.read_csv('CompleteDataSet/y_test_all.csv')\n"
   ]
  },
  {
   "cell_type": "markdown",
   "metadata": {},
   "source": [
    "### Part 1 pre-processing"
   ]
  },
  {
   "cell_type": "code",
   "execution_count": 3,
   "metadata": {},
   "outputs": [],
   "source": [
    "# uses isolation forest algorithm to find outliers\n",
    "from sklearn.ensemble import IsolationForest\n",
    "\n",
    "# TODO\n",
    "feature_names = [f'feature_{str(col)}' for col in x_train.columns]\n",
    "x_train_copy = x_train.copy()\n",
    "x_train_copy.columns = feature_names\n",
    "\n",
    "contamination = 0.01\n",
    "iso_forest = IsolationForest(contamination=contamination, random_state=42)\n",
    "\n",
    "outliers = iso_forest.fit_predict(x_train_copy)\n",
    "\n",
    "outlier_indices = x_train_copy.index[outliers == -1]\n",
    "\n",
    "x_train_no_outliers = x_train_copy.drop(outlier_indices)\n",
    "x_train_no_outliers.to_csv('x_train_no_outliers.csv',index=False)\n",
    "\n",
    "outlier_indices_df = pd.DataFrame({'outlier_index': outlier_indices})\n",
    "\n",
    "outlier_indices_df.to_csv('outlier_indices.csv', index=False)"
   ]
  },
  {
   "cell_type": "code",
   "execution_count": 4,
   "metadata": {},
   "outputs": [
    {
     "data": {
      "text/html": [
       "<div>\n",
       "<style scoped>\n",
       "    .dataframe tbody tr th:only-of-type {\n",
       "        vertical-align: middle;\n",
       "    }\n",
       "\n",
       "    .dataframe tbody tr th {\n",
       "        vertical-align: top;\n",
       "    }\n",
       "\n",
       "    .dataframe thead th {\n",
       "        text-align: right;\n",
       "    }\n",
       "</style>\n",
       "<table border=\"1\" class=\"dataframe\">\n",
       "  <thead>\n",
       "    <tr style=\"text-align: right;\">\n",
       "      <th></th>\n",
       "      <th>0</th>\n",
       "      <th>1</th>\n",
       "      <th>2</th>\n",
       "      <th>3</th>\n",
       "      <th>4</th>\n",
       "      <th>5</th>\n",
       "      <th>6</th>\n",
       "      <th>7</th>\n",
       "      <th>8</th>\n",
       "      <th>9</th>\n",
       "      <th>...</th>\n",
       "      <th>2294</th>\n",
       "      <th>2295</th>\n",
       "      <th>2296</th>\n",
       "      <th>2297</th>\n",
       "      <th>2298</th>\n",
       "      <th>2299</th>\n",
       "      <th>2300</th>\n",
       "      <th>2301</th>\n",
       "      <th>2302</th>\n",
       "      <th>2303</th>\n",
       "    </tr>\n",
       "  </thead>\n",
       "  <tbody>\n",
       "    <tr>\n",
       "      <th>0</th>\n",
       "      <td>-0.150391</td>\n",
       "      <td>-0.162019</td>\n",
       "      <td>-0.172510</td>\n",
       "      <td>-0.097637</td>\n",
       "      <td>-0.036321</td>\n",
       "      <td>0.027779</td>\n",
       "      <td>0.183130</td>\n",
       "      <td>0.376504</td>\n",
       "      <td>0.348157</td>\n",
       "      <td>0.382097</td>\n",
       "      <td>...</td>\n",
       "      <td>0.225873</td>\n",
       "      <td>0.109515</td>\n",
       "      <td>0.009264</td>\n",
       "      <td>0.083321</td>\n",
       "      <td>0.205589</td>\n",
       "      <td>0.404792</td>\n",
       "      <td>0.477724</td>\n",
       "      <td>0.472859</td>\n",
       "      <td>0.432739</td>\n",
       "      <td>0.418963</td>\n",
       "    </tr>\n",
       "    <tr>\n",
       "      <th>1</th>\n",
       "      <td>-0.214889</td>\n",
       "      <td>-0.187848</td>\n",
       "      <td>-0.133726</td>\n",
       "      <td>-0.149251</td>\n",
       "      <td>-0.178371</td>\n",
       "      <td>-0.192203</td>\n",
       "      <td>-0.011458</td>\n",
       "      <td>0.220825</td>\n",
       "      <td>0.555781</td>\n",
       "      <td>0.446901</td>\n",
       "      <td>...</td>\n",
       "      <td>0.363553</td>\n",
       "      <td>0.323454</td>\n",
       "      <td>0.208034</td>\n",
       "      <td>0.098671</td>\n",
       "      <td>-0.010174</td>\n",
       "      <td>0.063867</td>\n",
       "      <td>0.228791</td>\n",
       "      <td>0.504208</td>\n",
       "      <td>0.527321</td>\n",
       "      <td>0.529189</td>\n",
       "    </tr>\n",
       "    <tr>\n",
       "      <th>2</th>\n",
       "      <td>-0.227789</td>\n",
       "      <td>-0.187848</td>\n",
       "      <td>-0.133726</td>\n",
       "      <td>-0.162154</td>\n",
       "      <td>-0.113803</td>\n",
       "      <td>-0.011041</td>\n",
       "      <td>0.196103</td>\n",
       "      <td>0.246771</td>\n",
       "      <td>-0.054114</td>\n",
       "      <td>-0.006728</td>\n",
       "      <td>...</td>\n",
       "      <td>0.394149</td>\n",
       "      <td>0.354016</td>\n",
       "      <td>0.253904</td>\n",
       "      <td>0.144723</td>\n",
       "      <td>0.051472</td>\n",
       "      <td>0.032874</td>\n",
       "      <td>0.088767</td>\n",
       "      <td>0.190725</td>\n",
       "      <td>0.338157</td>\n",
       "      <td>0.434710</td>\n",
       "    </tr>\n",
       "    <tr>\n",
       "      <th>3</th>\n",
       "      <td>-0.292287</td>\n",
       "      <td>-0.252422</td>\n",
       "      <td>-0.198367</td>\n",
       "      <td>-0.123444</td>\n",
       "      <td>0.041161</td>\n",
       "      <td>0.221881</td>\n",
       "      <td>0.260966</td>\n",
       "      <td>0.078119</td>\n",
       "      <td>-0.274715</td>\n",
       "      <td>0.122880</td>\n",
       "      <td>...</td>\n",
       "      <td>0.608317</td>\n",
       "      <td>0.308172</td>\n",
       "      <td>0.238614</td>\n",
       "      <td>0.175424</td>\n",
       "      <td>0.113119</td>\n",
       "      <td>0.048370</td>\n",
       "      <td>0.026534</td>\n",
       "      <td>0.065332</td>\n",
       "      <td>0.212048</td>\n",
       "      <td>0.324484</td>\n",
       "    </tr>\n",
       "    <tr>\n",
       "      <th>4</th>\n",
       "      <td>-0.201990</td>\n",
       "      <td>-0.200763</td>\n",
       "      <td>-0.211295</td>\n",
       "      <td>-0.226672</td>\n",
       "      <td>-0.165458</td>\n",
       "      <td>-0.036921</td>\n",
       "      <td>0.183130</td>\n",
       "      <td>0.246771</td>\n",
       "      <td>-0.080067</td>\n",
       "      <td>-0.097454</td>\n",
       "      <td>...</td>\n",
       "      <td>0.424744</td>\n",
       "      <td>0.399861</td>\n",
       "      <td>0.422093</td>\n",
       "      <td>0.451734</td>\n",
       "      <td>0.452175</td>\n",
       "      <td>0.311812</td>\n",
       "      <td>0.151000</td>\n",
       "      <td>-0.028713</td>\n",
       "      <td>0.007120</td>\n",
       "      <td>0.072541</td>\n",
       "    </tr>\n",
       "    <tr>\n",
       "      <th>...</th>\n",
       "      <td>...</td>\n",
       "      <td>...</td>\n",
       "      <td>...</td>\n",
       "      <td>...</td>\n",
       "      <td>...</td>\n",
       "      <td>...</td>\n",
       "      <td>...</td>\n",
       "      <td>...</td>\n",
       "      <td>...</td>\n",
       "      <td>...</td>\n",
       "      <td>...</td>\n",
       "      <td>...</td>\n",
       "      <td>...</td>\n",
       "      <td>...</td>\n",
       "      <td>...</td>\n",
       "      <td>...</td>\n",
       "      <td>...</td>\n",
       "      <td>...</td>\n",
       "      <td>...</td>\n",
       "      <td>...</td>\n",
       "      <td>...</td>\n",
       "    </tr>\n",
       "    <tr>\n",
       "      <th>9685</th>\n",
       "      <td>2.029654</td>\n",
       "      <td>1.684798</td>\n",
       "      <td>2.128704</td>\n",
       "      <td>1.592712</td>\n",
       "      <td>0.506053</td>\n",
       "      <td>1.528831</td>\n",
       "      <td>2.129016</td>\n",
       "      <td>2.140865</td>\n",
       "      <td>2.138915</td>\n",
       "      <td>2.131807</td>\n",
       "      <td>...</td>\n",
       "      <td>-0.569611</td>\n",
       "      <td>-0.654553</td>\n",
       "      <td>-0.678785</td>\n",
       "      <td>-0.684207</td>\n",
       "      <td>-0.688287</td>\n",
       "      <td>-0.710962</td>\n",
       "      <td>-0.720262</td>\n",
       "      <td>-0.655679</td>\n",
       "      <td>-0.654953</td>\n",
       "      <td>-0.636050</td>\n",
       "    </tr>\n",
       "    <tr>\n",
       "      <th>9686</th>\n",
       "      <td>0.791285</td>\n",
       "      <td>0.367488</td>\n",
       "      <td>2.128704</td>\n",
       "      <td>2.134657</td>\n",
       "      <td>2.133176</td>\n",
       "      <td>2.137016</td>\n",
       "      <td>2.129016</td>\n",
       "      <td>2.127892</td>\n",
       "      <td>2.125938</td>\n",
       "      <td>2.092924</td>\n",
       "      <td>...</td>\n",
       "      <td>-0.539015</td>\n",
       "      <td>-0.623990</td>\n",
       "      <td>-0.632915</td>\n",
       "      <td>-0.622805</td>\n",
       "      <td>-0.611229</td>\n",
       "      <td>-0.602486</td>\n",
       "      <td>-0.611354</td>\n",
       "      <td>-0.655679</td>\n",
       "      <td>-0.623425</td>\n",
       "      <td>-0.636050</td>\n",
       "    </tr>\n",
       "    <tr>\n",
       "      <th>9687</th>\n",
       "      <td>2.132851</td>\n",
       "      <td>2.136816</td>\n",
       "      <td>2.141633</td>\n",
       "      <td>2.134657</td>\n",
       "      <td>2.133176</td>\n",
       "      <td>2.137016</td>\n",
       "      <td>2.141989</td>\n",
       "      <td>2.140865</td>\n",
       "      <td>2.138915</td>\n",
       "      <td>2.131807</td>\n",
       "      <td>...</td>\n",
       "      <td>-0.477824</td>\n",
       "      <td>-0.348926</td>\n",
       "      <td>-0.449436</td>\n",
       "      <td>-0.530701</td>\n",
       "      <td>-0.564994</td>\n",
       "      <td>-0.509506</td>\n",
       "      <td>-0.455772</td>\n",
       "      <td>-0.577308</td>\n",
       "      <td>-0.450025</td>\n",
       "      <td>-0.384107</td>\n",
       "    </tr>\n",
       "    <tr>\n",
       "      <th>9688</th>\n",
       "      <td>2.132851</td>\n",
       "      <td>2.110986</td>\n",
       "      <td>2.141633</td>\n",
       "      <td>2.134657</td>\n",
       "      <td>2.133176</td>\n",
       "      <td>2.137016</td>\n",
       "      <td>2.141989</td>\n",
       "      <td>2.140865</td>\n",
       "      <td>2.138915</td>\n",
       "      <td>2.131807</td>\n",
       "      <td>...</td>\n",
       "      <td>-0.523717</td>\n",
       "      <td>-0.685116</td>\n",
       "      <td>-0.694075</td>\n",
       "      <td>-0.668856</td>\n",
       "      <td>-0.534170</td>\n",
       "      <td>-0.633479</td>\n",
       "      <td>-0.642471</td>\n",
       "      <td>-0.655679</td>\n",
       "      <td>-0.654953</td>\n",
       "      <td>-0.683289</td>\n",
       "    </tr>\n",
       "    <tr>\n",
       "      <th>9689</th>\n",
       "      <td>2.094152</td>\n",
       "      <td>1.284439</td>\n",
       "      <td>1.921854</td>\n",
       "      <td>2.134657</td>\n",
       "      <td>2.133176</td>\n",
       "      <td>2.007615</td>\n",
       "      <td>1.674976</td>\n",
       "      <td>1.583015</td>\n",
       "      <td>0.646617</td>\n",
       "      <td>-0.654769</td>\n",
       "      <td>...</td>\n",
       "      <td>-0.584908</td>\n",
       "      <td>-0.746241</td>\n",
       "      <td>-0.739945</td>\n",
       "      <td>-0.622805</td>\n",
       "      <td>-0.580405</td>\n",
       "      <td>-0.710962</td>\n",
       "      <td>-0.704704</td>\n",
       "      <td>-0.655679</td>\n",
       "      <td>-0.749535</td>\n",
       "      <td>-0.793515</td>\n",
       "    </tr>\n",
       "  </tbody>\n",
       "</table>\n",
       "<p>9690 rows × 2304 columns</p>\n",
       "</div>"
      ],
      "text/plain": [
       "             0         1         2         3         4         5         6  \\\n",
       "0    -0.150391 -0.162019 -0.172510 -0.097637 -0.036321  0.027779  0.183130   \n",
       "1    -0.214889 -0.187848 -0.133726 -0.149251 -0.178371 -0.192203 -0.011458   \n",
       "2    -0.227789 -0.187848 -0.133726 -0.162154 -0.113803 -0.011041  0.196103   \n",
       "3    -0.292287 -0.252422 -0.198367 -0.123444  0.041161  0.221881  0.260966   \n",
       "4    -0.201990 -0.200763 -0.211295 -0.226672 -0.165458 -0.036921  0.183130   \n",
       "...        ...       ...       ...       ...       ...       ...       ...   \n",
       "9685  2.029654  1.684798  2.128704  1.592712  0.506053  1.528831  2.129016   \n",
       "9686  0.791285  0.367488  2.128704  2.134657  2.133176  2.137016  2.129016   \n",
       "9687  2.132851  2.136816  2.141633  2.134657  2.133176  2.137016  2.141989   \n",
       "9688  2.132851  2.110986  2.141633  2.134657  2.133176  2.137016  2.141989   \n",
       "9689  2.094152  1.284439  1.921854  2.134657  2.133176  2.007615  1.674976   \n",
       "\n",
       "             7         8         9  ...      2294      2295      2296  \\\n",
       "0     0.376504  0.348157  0.382097  ...  0.225873  0.109515  0.009264   \n",
       "1     0.220825  0.555781  0.446901  ...  0.363553  0.323454  0.208034   \n",
       "2     0.246771 -0.054114 -0.006728  ...  0.394149  0.354016  0.253904   \n",
       "3     0.078119 -0.274715  0.122880  ...  0.608317  0.308172  0.238614   \n",
       "4     0.246771 -0.080067 -0.097454  ...  0.424744  0.399861  0.422093   \n",
       "...        ...       ...       ...  ...       ...       ...       ...   \n",
       "9685  2.140865  2.138915  2.131807  ... -0.569611 -0.654553 -0.678785   \n",
       "9686  2.127892  2.125938  2.092924  ... -0.539015 -0.623990 -0.632915   \n",
       "9687  2.140865  2.138915  2.131807  ... -0.477824 -0.348926 -0.449436   \n",
       "9688  2.140865  2.138915  2.131807  ... -0.523717 -0.685116 -0.694075   \n",
       "9689  1.583015  0.646617 -0.654769  ... -0.584908 -0.746241 -0.739945   \n",
       "\n",
       "          2297      2298      2299      2300      2301      2302      2303  \n",
       "0     0.083321  0.205589  0.404792  0.477724  0.472859  0.432739  0.418963  \n",
       "1     0.098671 -0.010174  0.063867  0.228791  0.504208  0.527321  0.529189  \n",
       "2     0.144723  0.051472  0.032874  0.088767  0.190725  0.338157  0.434710  \n",
       "3     0.175424  0.113119  0.048370  0.026534  0.065332  0.212048  0.324484  \n",
       "4     0.451734  0.452175  0.311812  0.151000 -0.028713  0.007120  0.072541  \n",
       "...        ...       ...       ...       ...       ...       ...       ...  \n",
       "9685 -0.684207 -0.688287 -0.710962 -0.720262 -0.655679 -0.654953 -0.636050  \n",
       "9686 -0.622805 -0.611229 -0.602486 -0.611354 -0.655679 -0.623425 -0.636050  \n",
       "9687 -0.530701 -0.564994 -0.509506 -0.455772 -0.577308 -0.450025 -0.384107  \n",
       "9688 -0.668856 -0.534170 -0.633479 -0.642471 -0.655679 -0.654953 -0.683289  \n",
       "9689 -0.622805 -0.580405 -0.710962 -0.704704 -0.655679 -0.749535 -0.793515  \n",
       "\n",
       "[9690 rows x 2304 columns]"
      ]
     },
     "execution_count": 4,
     "metadata": {},
     "output_type": "execute_result"
    }
   ],
   "source": [
    "# We perform z-normalization on our dataset\n",
    "\n",
    "mean=x_train.mean()\n",
    "std=x_train.std()\n",
    "x_train_norm=(x_train-mean)/std\n",
    "x_train_norm"
   ]
  },
  {
   "cell_type": "code",
   "execution_count": 5,
   "metadata": {},
   "outputs": [],
   "source": [
    "import matplotlib.pyplot as plt\n",
    "import seaborn as sns\n"
   ]
  },
  {
   "cell_type": "code",
   "execution_count": 6,
   "metadata": {},
   "outputs": [
    {
     "data": {
      "image/png": "[encoded data removed]",
      "text/plain": [
       "<Figure size 1200x600 with 1 Axes>"
      ]
     },
     "metadata": {},
     "output_type": "display_data"
    }
   ],
   "source": [
    "# On the normalized dataset, we run another isolation forest model to detect outliers from it.\n",
    "\n",
    "x_train_norm.columns = feature_names\n",
    "\n",
    "x_train_norm_copy = x_train_norm.copy()\n",
    "contamination = 0.41\n",
    "iso_forest = IsolationForest(contamination=contamination, random_state=42)\n",
    "\n",
    "outliers = iso_forest.fit_predict(x_train_norm_copy)\n",
    "\n",
    "outlier_indices = x_train_norm_copy.index[outliers == -1]\n",
    "\n",
    "x_train_no_outliers_norm = x_train_norm_copy.drop(outlier_indices)\n",
    "x_train_no_outliers_norm.to_csv('x_train_no_outliers_norm.csv')\n",
    "plt.figure(figsize=(12, 6))\n",
    "\n",
    "sns.boxplot(data=x_train_no_outliers_norm)\n",
    "plt.title('Box Plot without Outliers (Normalized)')\n",
    "plt.show()\n",
    "\n",
    "outlier_indices_df = pd.DataFrame({'outlier_index_norm': outlier_indices})\n",
    "outlier_indices_df.to_csv('outlier_indices_norm.csv', index=False)"
   ]
  },
  {
   "cell_type": "code",
   "execution_count": 7,
   "metadata": {},
   "outputs": [],
   "source": [
    "df_x_train_no_outliers=pd.read_csv('x_train_no_outliers.csv')\n",
    "df_x_train_no_outliers_norm=pd.read_csv('x_train_no_outliers_norm.csv')\n"
   ]
  },
  {
   "cell_type": "code",
   "execution_count": 8,
   "metadata": {},
   "outputs": [],
   "source": [
    "# applies outlier mining to y train\n",
    "\n",
    "# loads the indices to be removed from each dataset\n",
    "indices_to_remove = pd.read_csv('outlier_indices.csv')\n",
    "indices_to_remove_norm = pd.read_csv('outlier_indices_norm.csv')\n",
    "\n",
    "# removes outliers from y train\n",
    "y_train_filtered_outlier = y_train[~y_train.index.isin(indices_to_remove['outlier_index'])]\n",
    "\n",
    "# removes outliers found after normalizing from y train\n",
    "y_train_filtered_outlier_norm = y_train[~y_train.index.isin(indices_to_remove_norm['outlier_index_norm'])]\n",
    "\n",
    "# saves to csv for future use\n",
    "y_train_filtered_outlier.to_csv('y_train_filtered_outlier.csv')\n",
    "y_train_filtered_outlier_norm.to_csv('y_train_filtered_outlier_norm.csv')"
   ]
  },
  {
   "cell_type": "code",
   "execution_count": 9,
   "metadata": {},
   "outputs": [],
   "source": [
    "# load y train without outliers\n",
    "y_train_filtered_outlier=pd.read_csv('y_train_filtered_outlier.csv')\n",
    "y_train_filtered_outlier_norm=pd.read_csv('y_train_filtered_outlier_norm.csv')\n",
    "\n",
    "# drop previous indices\n",
    "y_train_filtered_outlier.drop('Unnamed: 0',axis=1, inplace=True)\n",
    "y_train_filtered_outlier_norm.drop('Unnamed: 0',axis=1, inplace=True)"
   ]
  },
  {
   "cell_type": "code",
   "execution_count": 10,
   "metadata": {},
   "outputs": [],
   "source": [
    "import cv2\n",
    "data = x_train.iloc[1:9690]\n",
    "x_train.iloc[:1]\n",
    "image_data = np.array(data, dtype=np.uint8)\n",
    "\n",
    "equalized_image = cv2.equalizeHist(image_data)"
   ]
  },
  {
   "cell_type": "code",
   "execution_count": 11,
   "metadata": {},
   "outputs": [],
   "source": [
    "# defines functions for pre-processing\n",
    "\n",
    "# applies dynamic contrasting to images based on their histograms\n",
    "def apply_clahe(row):\n",
    "    row = np.array(row, dtype=np.uint8)\n",
    "    clahe = cv2.createCLAHE(clipLimit=2.0, tileGridSize=(8, 8))\n",
    "    equalized_row = clahe.apply(row)\n",
    "    return equalized_row\n",
    "\n",
    "# dynamically brightens images based on their pixel distribution\n",
    "def brighten(row, target_mean_brightness=128, max_brightness_adjustment=50):\n",
    "    current_mean_brightness = np.mean(row)\n",
    "    brightness_adjustment = target_mean_brightness - current_mean_brightness\n",
    "    brightness_adjustment = np.clip(brightness_adjustment, -max_brightness_adjustment, max_brightness_adjustment)\n",
    "    scaling_factor = (current_mean_brightness + brightness_adjustment) / current_mean_brightness\n",
    "    adjusted_row = row * scaling_factor\n",
    "    adjusted_row[adjusted_row < 0] = 0\n",
    "    adjusted_row[adjusted_row > 255] = 255\n",
    "    return adjusted_row\n",
    "\n",
    "# makes dark areas darker and light areas lighter, accentuates the image\n",
    "def apply_gamma_correction(row, gamma=1.8):\n",
    "    input_shape = row.shape\n",
    "    row = np.array(row, dtype=np.uint8)\n",
    "    corrected_row = ((row / 255.0) ** (1 / gamma) * 255).astype(np.uint8)\n",
    "    corrected_row = corrected_row.reshape(*input_shape) \n",
    "    return corrected_row\n",
    "\n",
    "def add_noise(row, noise_level=20):\n",
    "    row = row + noise_level * np.random.randn(*row.shape)\n",
    "    row[row < 0] = 0\n",
    "    row[row > 255] = 255\n",
    "    return row\n",
    "\n",
    "# blurs using a gaussian function\n",
    "def apply_gaussian_blur(row, kernel_size=(5, 5), sigma=0):\n",
    "    row = np.array(row, dtype=np.uint8)\n",
    "    row = cv2.GaussianBlur(row, kernel_size, sigma)\n",
    "    return row"
   ]
  },
  {
   "cell_type": "code",
   "execution_count": 12,
   "metadata": {},
   "outputs": [],
   "source": [
    "x_copy = x_train.copy()\n"
   ]
  },
  {
   "cell_type": "code",
   "execution_count": 13,
   "metadata": {},
   "outputs": [
    {
     "data": {
      "text/plain": [
       "(9690, 2304)"
      ]
     },
     "execution_count": 13,
     "metadata": {},
     "output_type": "execute_result"
    }
   ],
   "source": [
    "# pre-processing images with the functions above (excl. noise and blur). we do the following without applying noise and blurring \n",
    "# as our feature selection yields a higher accuracy when fed the dataset without noising and gaussian blurring.\n",
    "\n",
    "processed_images = []\n",
    "\n",
    "for i, idx in enumerate(x_copy.index):\n",
    "    original_image = x_copy.iloc[idx].values.reshape(48, 48)\n",
    "    brightened_image = brighten(x_copy.iloc[idx].values).reshape(48, 48)\n",
    "    gamma_image = apply_gamma_correction(brightened_image)\n",
    "    equalized_image = apply_clahe(gamma_image)\n",
    "    processed_images.append(equalized_image.flatten())\n",
    "\n",
    "processed_df_old = pd.DataFrame(processed_images)\n",
    "processed_df_old.shape"
   ]
  },
  {
   "cell_type": "code",
   "execution_count": 14,
   "metadata": {},
   "outputs": [
    {
     "data": {
      "text/plain": [
       "(9690, 2304)"
      ]
     },
     "execution_count": 14,
     "metadata": {},
     "output_type": "execute_result"
    }
   ],
   "source": [
    "# pre-processing images with the functions above\n",
    "processed_images = []\n",
    "\n",
    "for i, idx in enumerate(x_copy.index):\n",
    "    original_image = x_copy.iloc[idx].values.reshape(48, 48)\n",
    "    brightened_image = brighten(x_copy.iloc[idx].values).reshape(48, 48)\n",
    "    gamma_image = apply_gamma_correction(brightened_image)\n",
    "    noisy_image = add_noise(gamma_image)\n",
    "    gaussian_image = apply_gaussian_blur(noisy_image)\n",
    "    equalized_image = apply_clahe(gaussian_image)\n",
    "\n",
    "    processed_images.append(equalized_image.flatten())\n",
    "\n",
    "processed_df = pd.DataFrame(processed_images)\n",
    "processed_df.shape"
   ]
  },
  {
   "cell_type": "code",
   "execution_count": 15,
   "metadata": {},
   "outputs": [],
   "source": [
    "processed_df.to_csv(\"processed_df.csv\", index=True)"
   ]
  },
  {
   "cell_type": "code",
   "execution_count": 16,
   "metadata": {},
   "outputs": [],
   "source": [
    "image_data = np.array(data, dtype=np.uint8)\n",
    "processed_data = np.array(processed_df.iloc[1:9593], dtype=np.uint8)"
   ]
  },
  {
   "cell_type": "code",
   "execution_count": 17,
   "metadata": {},
   "outputs": [],
   "source": [
    "processed_df_p1 = processed_df"
   ]
  },
  {
   "cell_type": "markdown",
   "metadata": {},
   "source": [
    "### Part 2 Pre-Processing"
   ]
  },
  {
   "cell_type": "code",
   "execution_count": 18,
   "metadata": {},
   "outputs": [],
   "source": [
    "x_train = pd.read_csv('CompleteDataSet/x_train_all.csv')  \n",
    "y_train = pd.read_csv('CompleteDataSet/y_train_all.csv')"
   ]
  },
  {
   "cell_type": "code",
   "execution_count": 19,
   "metadata": {},
   "outputs": [],
   "source": [
    "# Grayscale to pseudo-infrared conversion function.\n",
    "\n",
    "def grayscale_to_infrared(grayscale_image):\n",
    "    # Convert the input grayscale image to a NumPy array with a data type of uint8.\n",
    "    row = np.array(grayscale_image, dtype=np.uint8)\n",
    "\n",
    "    # Define a color map for mapping grayscale values to a color representation.\n",
    "    color_map = plt.get_cmap('hot')\n",
    "\n",
    "    # Normalize the grayscale image to the range [0, 1].\n",
    "    normalized_image = row / 255.0\n",
    "\n",
    "    # Apply the color map to the normalized image and extract the red channel (infrared representation).\n",
    "    infrared_image = (color_map(normalized_image)[:, :, 0] * 255).astype(np.uint8)\n",
    "\n",
    "    # Flatten the resulting infrared image to obtain a 1D array.\n",
    "    return infrared_image.flatten()"
   ]
  },
  {
   "cell_type": "code",
   "execution_count": 20,
   "metadata": {},
   "outputs": [
    {
     "data": {
      "text/plain": [
       "(9690, 2304)"
      ]
     },
     "execution_count": 20,
     "metadata": {},
     "output_type": "execute_result"
    }
   ],
   "source": [
    "infrared_original = []\n",
    "\n",
    "# Loop through the indices and values in the 'x_train' DataFrame.\n",
    "for i, idx in enumerate(x_train.index):\n",
    "    # Extract the grayscale image from the DataFrame and reshape it to 48x48 dimensions.\n",
    "    original_image = x_train.iloc[idx].values.reshape(48, 48)\n",
    "\n",
    "    # Convert the grayscale image to an infrared-like representation using the 'grayscale_to_infrared' function.\n",
    "    infrared_image = grayscale_to_infrared(original_image)\n",
    "\n",
    "    # Append the resulting infrared image to the 'infrared_original' list.\n",
    "    infrared_original.append(infrared_image)\n",
    "\n",
    "# Create a DataFrame 'infrared_df_org' from the list of infrared images.\n",
    "infrared_df_org = pd.DataFrame(infrared_original)\n",
    "\n",
    "# Get the shape of the resulting DataFrame to see the dimensions.\n",
    "infrared_df_org.shape"
   ]
  },
  {
   "cell_type": "code",
   "execution_count": 21,
   "metadata": {},
   "outputs": [],
   "source": [
    "infrared_data = infrared_df_org.to_numpy()\n"
   ]
  },
  {
   "cell_type": "code",
   "execution_count": 22,
   "metadata": {},
   "outputs": [],
   "source": [
    "from sklearn.ensemble import IsolationForest\n",
    "\n",
    "# Outlier Mining using Isolation Forest\n",
    "\n",
    "feature_names = [f'feature_{str(col)}' for col in x_train.columns]\n",
    "infrared_copy = x_train.copy()\n",
    "infrared_copy.columns = feature_names\n",
    "\n",
    "contamination = 0.01\n",
    "iso_forest = IsolationForest(contamination=contamination, random_state=42)\n",
    "\n",
    "outliers = iso_forest.fit_predict(infrared_copy)\n",
    "\n",
    "outlier_indices = infrared_copy.index[outliers == -1]\n",
    "\n",
    "infra_no_outliers = infrared_copy.drop(outlier_indices)\n",
    "\n",
    "y_train = y_train.drop(outlier_indices)"
   ]
  },
  {
   "cell_type": "code",
   "execution_count": 23,
   "metadata": {},
   "outputs": [],
   "source": [
    "# Normalizing the Infrared Data without outliers\n",
    "\n",
    "mean=infra_no_outliers.mean()\n",
    "std=infra_no_outliers.std()\n",
    "infra_norm=(infra_no_outliers-mean)/std"
   ]
  },
  {
   "cell_type": "code",
   "execution_count": 24,
   "metadata": {},
   "outputs": [],
   "source": [
    "# Normalizing x_train\n",
    "\n",
    "mean=x_train.mean()\n",
    "std=x_train.std()\n",
    "x_norm=(x_train-mean)/std"
   ]
  },
  {
   "cell_type": "code",
   "execution_count": 25,
   "metadata": {},
   "outputs": [
    {
     "data": {
      "text/plain": [
       "(9690, 2304)"
      ]
     },
     "execution_count": 25,
     "metadata": {},
     "output_type": "execute_result"
    }
   ],
   "source": [
    "# Converting every image from the normalized x_train to pseduo-infrared images.\n",
    "\n",
    "infrared_original = []\n",
    "\n",
    "for i, idx in enumerate(x_norm.index):\n",
    "    original_image = x_norm.iloc[idx].values.reshape(48, 48)\n",
    "    infrared_image = grayscale_to_infrared(original_image)\n",
    "    infrared_original.append(infrared_image)\n",
    "\n",
    "infrared_df_norm = pd.DataFrame(infrared_original)\n",
    "infrared_df_norm.shape"
   ]
  },
  {
   "cell_type": "code",
   "execution_count": 26,
   "metadata": {},
   "outputs": [],
   "source": [
    "from sklearn.ensemble import IsolationForest\n",
    "\n",
    "# Outlier Mining using Isolation Forest on the Normalized Infrared Data\n",
    "\n",
    "feature_names = [f'feature_{str(col)}' for col in infrared_df_norm.columns]\n",
    "infrared_copy = infrared_df_norm.copy()\n",
    "infrared_copy.columns = feature_names\n",
    "\n",
    "contamination = 0.01\n",
    "iso_forest = IsolationForest(contamination=contamination, random_state=42)\n",
    "\n",
    "outliers = iso_forest.fit_predict(infrared_copy)\n",
    "\n",
    "outlier_indices = infrared_copy.index[outliers == -1]\n",
    "\n",
    "infra_norm_no_outliers = infrared_copy.drop(outlier_indices)"
   ]
  },
  {
   "cell_type": "code",
   "execution_count": 27,
   "metadata": {},
   "outputs": [],
   "source": [
    "import cv2\n",
    "\n",
    "# Function to apply Gaussian blur to an input image\n",
    "def apply_gaussian_blur(row, kernel_size=(5, 5), sigma=0):\n",
    "    # Convert the input image to a NumPy array with a data type of uint8.\n",
    "    row = np.array(row, dtype=np.uint8)\n",
    "\n",
    "    # Apply Gaussian blur to the image with the specified kernel size and sigma.\n",
    "    row = cv2.GaussianBlur(row, kernel_size, sigma)\n",
    "\n",
    "    return row\n",
    "\n",
    "# Function to apply Contrast Limited Adaptive Histogram Equalization (CLAHE) to an input image\n",
    "def apply_clahe(row):\n",
    "    # Convert the input image to a NumPy array with a data type of uint8.\n",
    "    row = np.array(row, dtype=np.uint8)\n",
    "\n",
    "    # Create a CLAHE object with specific parameters (clipLimit and tileGridSize).\n",
    "    clahe = cv2.createCLAHE(clipLimit=2.0, tileGridSize=(8, 8))\n",
    "\n",
    "    # Apply CLAHE to the image to enhance local contrast.\n",
    "    equalized_row = clahe.apply(row)\n",
    "\n",
    "    return equalized_row"
   ]
  },
  {
   "cell_type": "code",
   "execution_count": 28,
   "metadata": {},
   "outputs": [
    {
     "data": {
      "text/plain": [
       "(9593, 2304)"
      ]
     },
     "execution_count": 28,
     "metadata": {},
     "output_type": "execute_result"
    }
   ],
   "source": [
    "infrared_prep = []\n",
    "\n",
    "# Apply the above functions to each image in the infra_norm_no_outliers DataFrame.\n",
    "\n",
    "for index, row in infra_norm_no_outliers.iterrows():\n",
    "    image_data = row.values\n",
    "    gaussian_image = apply_gaussian_blur(image_data)\n",
    "    equalized_image = apply_clahe(gaussian_image)\n",
    "    infrared_prep.append(equalized_image.flatten())\n",
    "\n",
    "prepped_infrared_df = pd.DataFrame(infrared_prep)\n",
    "prepped_infrared_df.shape"
   ]
  },
  {
   "cell_type": "code",
   "execution_count": 29,
   "metadata": {},
   "outputs": [],
   "source": [
    "image_df = prepped_infrared_df.copy()"
   ]
  },
  {
   "cell_type": "code",
   "execution_count": 30,
   "metadata": {},
   "outputs": [],
   "source": [
    "# Create a list to store the Fourier Transformed images\n",
    "fourier_transformed_images = []\n",
    "\n",
    "# Iterate through each row (image) in the DataFrame\n",
    "for index, row in image_df.iterrows():\n",
    "    # Convert the row (image) to a NumPy array\n",
    "    image = row.values.reshape(48, 48)\n",
    "\n",
    "    # Apply DFT to the image\n",
    "    dft = cv2.dft(np.float32(image), flags=cv2.DFT_COMPLEX_OUTPUT)\n",
    "\n",
    "    # Shift the zero frequency components to the center\n",
    "    dft_shifted = np.fft.fftshift(dft)\n",
    "\n",
    "    # Calculate the magnitude spectrum\n",
    "    magnitude_spectrum = cv2.magnitude(dft_shifted[:, :, 0], dft_shifted[:, :, 1])\n",
    "\n",
    "    # Flatten the magnitude spectrum to 1D\n",
    "    flattened_magnitude_spectrum = magnitude_spectrum.flatten()\n",
    "\n",
    "    # Append the flattened magnitude spectrum to the list\n",
    "    fourier_transformed_images.append(flattened_magnitude_spectrum)\n",
    "\n",
    "fourier_df = pd.DataFrame(fourier_transformed_images)"
   ]
  },
  {
   "cell_type": "code",
   "execution_count": 31,
   "metadata": {},
   "outputs": [],
   "source": [
    "image_df = prepped_infrared_df.copy()"
   ]
  },
  {
   "cell_type": "code",
   "execution_count": 32,
   "metadata": {},
   "outputs": [],
   "source": [
    "from sklearn.preprocessing import MinMaxScaler\n",
    "\n",
    "# Scale the data using MinMaxScaler.\n",
    "\n",
    "scaler = MinMaxScaler()\n",
    "scaled_data_normalized = scaler.fit_transform(image_df)"
   ]
  },
  {
   "cell_type": "code",
   "execution_count": 33,
   "metadata": {},
   "outputs": [],
   "source": [
    "# Function to apply a median filter to an input image\n",
    "def apply_median_filter(image, kernel_size=37):\n",
    "    # Apply a median filter to the image with the specified kernel size.\n",
    "    return cv2.medianBlur(image, kernel_size)\n",
    "\n",
    "# Function to apply Gaussian blur to an input image using OpenCV\n",
    "def apply_gaussian_blur_cv(image, kernel_size=(15, 15)):\n",
    "    # Apply Gaussian blur to the image with the specified kernel size.\n",
    "    return cv2.GaussianBlur(image, kernel_size, 0)\n",
    "\n",
    "# Function to apply bilateral filter to an input image\n",
    "def apply_bilateral_filter(image, diameter=25, sigma_color=75, sigma_space=75):\n",
    "    # Apply a bilateral filter to the image with the specified parameters (diameter, sigma_color, and sigma_space).\n",
    "    return cv2.bilateralFilter(image, diameter, sigma_color, sigma_space)"
   ]
  },
  {
   "cell_type": "code",
   "execution_count": 34,
   "metadata": {},
   "outputs": [
    {
     "data": {
      "text/plain": [
       "(9593, 2304)"
      ]
     },
     "execution_count": 34,
     "metadata": {},
     "output_type": "execute_result"
    }
   ],
   "source": [
    "image_df = prepped_infrared_df.copy()\n",
    "infrared_prep2 = []\n",
    "\n",
    "# Apply the above functions to each image in the pre-processed pseudo-infrared DataFrame.\n",
    "\n",
    "for index, row in image_df.iterrows():\n",
    "    image_data = row.values\n",
    "    median_image = apply_median_filter(image_data)\n",
    "    gaussian_image = apply_gaussian_blur_cv(median_image)\n",
    "    median_image = apply_median_filter(gaussian_image)\n",
    "    gaussian_image = apply_gaussian_blur_cv(median_image)\n",
    "    infrared_prep2.append(gaussian_image.flatten())\n",
    "\n",
    "prepped_infrared_df2 = pd.DataFrame(infrared_prep2)\n",
    "prepped_infrared_df2.shape"
   ]
  },
  {
   "cell_type": "code",
   "execution_count": 36,
   "metadata": {},
   "outputs": [],
   "source": [
    "from sklearn.random_projection import GaussianRandomProjection\n",
    "\n",
    "# Copy the data from 'prepped_infrared_df2' into 'data_df'\n",
    "data_df = prepped_infrared_df2.copy()\n",
    "\n",
    "# Create a GaussianRandomProjection model with 1000 components\n",
    "rp = GaussianRandomProjection(n_components=1000)\n",
    "\n",
    "# Apply Gaussian random projection to the data, resulting in 'reduced_data'\n",
    "reduced_data = rp.fit_transform(data_df)"
   ]
  },
  {
   "cell_type": "code",
   "execution_count": 37,
   "metadata": {},
   "outputs": [],
   "source": [
    "iso_df = prepped_infrared_df2.copy()"
   ]
  },
  {
   "cell_type": "code",
   "execution_count": 38,
   "metadata": {},
   "outputs": [
    {
     "name": "stderr",
     "output_type": "stream",
     "text": [
      "c:\\Users\\mujta\\anaconda3\\Lib\\site-packages\\sklearn\\manifold\\_isomap.py:383: UserWarning: The number of connected components of the neighbors graph is 2 > 1. Completing the graph to fit Isomap might be slow. Increase the number of neighbors to avoid this issue.\n",
      "  self._fit_transform(X)\n",
      "c:\\Users\\mujta\\anaconda3\\Lib\\site-packages\\scipy\\sparse\\_index.py:103: SparseEfficiencyWarning: Changing the sparsity structure of a csr_matrix is expensive. lil_matrix is more efficient.\n",
      "  self._set_intXint(row, col, x.flat[0])\n"
     ]
    }
   ],
   "source": [
    "# Repeat the same process with 2 components instead this time.\n",
    "\n",
    "from sklearn.manifold import Isomap\n",
    "\n",
    "\n",
    "isomap = Isomap(n_components=2)\n",
    "iso_data = isomap.fit_transform(iso_df)"
   ]
  },
  {
   "cell_type": "code",
   "execution_count": 39,
   "metadata": {},
   "outputs": [],
   "source": [
    "# Define a function to intensify image data based on percentiles\n",
    "def lp_intensify(arr, lower_percentile, upper_percentile):\n",
    "    # Calculate the lower and upper intensity limits based on percentiles\n",
    "    lower_limit = np.percentile(arr, lower_percentile)\n",
    "    upper_limit = np.percentile(arr, upper_percentile)\n",
    "    \n",
    "    # Set values in 'arr' below the lower limit to 0 and values above the upper limit to 255\n",
    "    arr[arr < lower_limit] = 0\n",
    "    arr[arr > upper_limit] = 255\n",
    "    \n",
    "    return arr\n",
    "\n",
    "# Copy data from 'iso_data' into 'data'\n",
    "data = iso_data.copy()\n",
    "\n",
    "# Intensify the data using the 'lp_intensify' function with lower and upper percentiles of 87 and 90\n",
    "lower_frequency_data = lp_intensify(data, 87, 90)"
   ]
  },
  {
   "cell_type": "code",
   "execution_count": 43,
   "metadata": {},
   "outputs": [
    {
     "data": {
      "text/plain": [
       "(9593, 2)"
      ]
     },
     "execution_count": 43,
     "metadata": {},
     "output_type": "execute_result"
    }
   ],
   "source": [
    "lower_frequency_data.shape"
   ]
  },
  {
   "cell_type": "code",
   "execution_count": 44,
   "metadata": {},
   "outputs": [],
   "source": [
    "pd.DataFrame(lower_frequency_data).to_csv(\"processed_df2.csv\")"
   ]
  },
  {
   "cell_type": "code",
   "execution_count": 41,
   "metadata": {},
   "outputs": [
    {
     "data": {
      "text/plain": [
       "19186"
      ]
     },
     "execution_count": 41,
     "metadata": {},
     "output_type": "execute_result"
    }
   ],
   "source": [
    "data.size"
   ]
  },
  {
   "cell_type": "code",
   "execution_count": null,
   "metadata": {},
   "outputs": [],
   "source": [
    "processed_df_p2 = pd.DataFrame(lower_frequency_data)"
   ]
  },
  {
   "cell_type": "code",
   "execution_count": 42,
   "metadata": {},
   "outputs": [
    {
     "data": {
      "text/plain": [
       "(9593, 2304)"
      ]
     },
     "execution_count": 42,
     "metadata": {},
     "output_type": "execute_result"
    }
   ],
   "source": [
    "iso_df.shape"
   ]
  }
 ],
 "metadata": {
  "kernelspec": {
   "display_name": "base",
   "language": "python",
   "name": "python3"
  },
  "language_info": {
   "codemirror_mode": {
    "name": "ipython",
    "version": 3
   },
   "file_extension": ".py",
   "mimetype": "text/x-python",
   "name": "python",
   "nbconvert_exporter": "python",
   "pygments_lexer": "ipython3",
   "version": "3.11.4"
  }
 },
 "nbformat": 4,
 "nbformat_minor": 2
}
