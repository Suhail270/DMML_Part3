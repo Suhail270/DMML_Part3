{
 "cells": [
  {
   "cell_type": "code",
   "execution_count": 18,
   "metadata": {},
   "outputs": [],
   "source": [
    "import pandas as pd \n",
    "import numpy as np\n",
    "from sklearn.tree import DecisionTreeClassifier\n",
    "from sklearn import datasets\n",
    "from sklearn.model_selection import train_test_split\n",
    "from sklearn.metrics import accuracy_score\n",
    "from sklearn.model_selection import RepeatedKFold\n",
    "import matplotlib.pyplot as plt\n",
    "from sklearn.model_selection import TimeSeriesSplit\n",
    "from sklearn.metrics import accuracy_score, f1_score, confusion_matrix,multilabel_confusion_matrix,roc_auc_score,roc_curve,auc,ConfusionMatrixDisplay"
   ]
  },
  {
   "cell_type": "code",
   "execution_count": 3,
   "metadata": {},
   "outputs": [],
   "source": [
    "x_train_all=pd.read_csv(\"CompleteDataSet/x_train_all.csv\")\n",
    "y_train_all=pd.read_csv(\"CompleteDataSet/y_train_all.csv\")\n",
    "x_test_all=pd.read_csv(\"CompleteDataSet/x_test_all.csv\")\n",
    "y_test_all=pd.read_csv(\"CompleteDataSet/y_test_all.csv\")"
   ]
  },
  {
   "cell_type": "markdown",
   "metadata": {},
   "source": [
    "### Metrics"
   ]
  },
  {
   "cell_type": "code",
   "execution_count": 26,
   "metadata": {},
   "outputs": [],
   "source": [
    "def metric(Y_test,predicted):   \n",
    "    accuracy = accuracy_score(Y_test,predicted )\n",
    "    f1 = f1_score(predicted, Y_test, average=\"weighted\")\n",
    "    conf_matrix = confusion_matrix(predicted, Y_test)\n",
    "    precision = precision_score(Y_test, predicted, average=\"weighted\",zero_division=1)\n",
    "    recall = recall_score(Y_test, predicted, average=\"weighted\")\n",
    "\n",
    "    # Y_test_bin = label_binarize(Y_test, classes=[0, 1, 2,3,4,5,6,7,8,9])\n",
    "    # roc = roc_auc_score(Y_test_bin, predicted_probs, multi_class=\"ovr\", average=\"weighted\")\n",
    "\n",
    "    conf_matrices = multilabel_confusion_matrix(Y_test, predicted)\n",
    "    tp = conf_matrices[:,1,1]\n",
    "    fp = conf_matrices[:,0,1]\n",
    "    tn = conf_matrices[:,0,0]\n",
    "    fn = conf_matrices[:,1,0]\n",
    "    # fpr = (fp/(tn + fp), tp + fn)\n",
    "    tnr = (tn/(tn + fp), tp + fn)\n",
    "\n",
    "    # fpr, tpr, _ = roc_curve(Y_test_bin.ravel(), predicted_probs.ravel())\n",
    "\n",
    "\n",
    "    # auc_val = auc(fpr, tpr)\n",
    "    # plt.figure()\n",
    "    # plt.plot(fpr, tpr, color='darkorange', lw=2, label='AUC (area = %0.2f)' % auc_val)\n",
    "    # plt.plot([0, 1], [0, 1], color='navy', lw=2, linestyle='--')\n",
    "    # plt.xlabel('False Positive Rate')\n",
    "    # plt.ylabel('True Positive Rate')\n",
    "    # plt.title('ROC Curve')\n",
    "    # plt.legend(loc=\"lower right\")\n",
    "    # plt.show()\n",
    "\n",
    "    # out=ConfusionMatrixDisplay(conf_matrix,display_labels=gnb.classes_)\n",
    "    # out.plot()\n",
    "    # plt.show()\n",
    "    print(\"Accuracy:\", accuracy)\n",
    "    print(\"F1 Score:\", f1)\n",
    "    print(\"Precision:\", precision)\n",
    "    print(\"Recall/Sensitivity/True Positive Rate:\", recall)\n",
    "    print(\"Specificity:\", tnr)\n",
    "    # print(\"False Positive Rate:\", fpr)\n",
    "    # print(\"Area under ROC curve:\", roc)\n",
    "    print(\"Confusion Matrix:\\n\", conf_matrix)\n"
   ]
  },
  {
   "cell_type": "markdown",
   "metadata": {},
   "source": [
    "### Cross Validation"
   ]
  },
  {
   "cell_type": "code",
   "execution_count": 4,
   "metadata": {},
   "outputs": [],
   "source": [
    "from sklearn.model_selection import KFold \n"
   ]
  },
  {
   "cell_type": "code",
   "execution_count": 5,
   "metadata": {},
   "outputs": [],
   "source": [
    "def kfold_10(input,output):\n",
    "    kf = KFold(n_splits=10) \n",
    "    dt_classifier = DecisionTreeClassifier()\n",
    "    accuracy_scores = []\n",
    "    for train_index, test_index in kf.split(input):\n",
    "        print(\"Train:\", len( train_index), \"Validation:\",len(test_index))\n",
    "        X_train, X_test = input.iloc[train_index], input.iloc[test_index] \n",
    "        y_train, y_test = output.iloc[train_index], output.iloc[test_index]\n",
    "        dt_classifier.fit(X_train, y_train)\n",
    "        pred=dt_classifier.predict(X_test)\n",
    "        accuracy = accuracy_score(y_test, pred)\n",
    "        accuracy_scores.append(accuracy)\n",
    "    average_accuracy = sum(accuracy_scores) / 10\n",
    "\n",
    "    print(f\"Average Accuracy: {average_accuracy}\")\n",
    "\n"
   ]
  },
  {
   "cell_type": "code",
   "execution_count": 6,
   "metadata": {},
   "outputs": [
    {
     "data": {
      "text/plain": [
       "(9690, 2304)"
      ]
     },
     "execution_count": 6,
     "metadata": {},
     "output_type": "execute_result"
    }
   ],
   "source": [
    "x_train_all.shape"
   ]
  },
  {
   "cell_type": "code",
   "execution_count": 7,
   "metadata": {},
   "outputs": [
    {
     "data": {
      "text/plain": [
       "(9690, 1)"
      ]
     },
     "execution_count": 7,
     "metadata": {},
     "output_type": "execute_result"
    }
   ],
   "source": [
    "y_train_all.shape"
   ]
  },
  {
   "cell_type": "code",
   "execution_count": 8,
   "metadata": {},
   "outputs": [
    {
     "name": "stdout",
     "output_type": "stream",
     "text": [
      "Train: 8721 Validation: 969\n",
      "Train: 8721 Validation: 969\n",
      "Train: 8721 Validation: 969\n",
      "Train: 8721 Validation: 969\n",
      "Train: 8721 Validation: 969\n",
      "Train: 8721 Validation: 969\n",
      "Train: 8721 Validation: 969\n",
      "Train: 8721 Validation: 969\n",
      "Train: 8721 Validation: 969\n",
      "Train: 8721 Validation: 969\n",
      "Average Accuracy: 0.4893704850361197\n"
     ]
    }
   ],
   "source": [
    "kfold_10(x_train_all,y_train_all)"
   ]
  },
  {
   "cell_type": "code",
   "execution_count": 24,
   "metadata": {},
   "outputs": [],
   "source": [
    "def train_test_split(X_train,X_test,y_test,y_train):\n",
    "    dt_classifier = DecisionTreeClassifier()\n",
    "    dt_classifier.fit(X_train,y_train)\n",
    "    pred=dt_classifier.predict(X_test)\n",
    "    accuracy = accuracy_score(y_test, pred)\n",
    "    metric(y_test,pred)\n",
    "    print(\"The Accuracy is:\",accuracy)"
   ]
  },
  {
   "cell_type": "code",
   "execution_count": 27,
   "metadata": {},
   "outputs": [
    {
     "name": "stdout",
     "output_type": "stream",
     "text": [
      "Accuracy: 0.6841423948220064\n",
      "F1 Score: 0.6880645350053534\n",
      "Precision: 0.6795979099496501\n",
      "Recall/Sensitivity/True Positive Rate: 0.6841423948220064\n",
      "Specificity: (array([0.98514851, 0.90590717, 0.91153846, 0.94090909, 0.92592593,\n",
      "       0.99174917, 0.98633333, 0.99042904, 0.98707483, 0.98933333]), array([ 60, 720, 750, 450, 660,  60,  90,  60, 150,  90], dtype=int64))\n",
      "Confusion Matrix:\n",
      " [[ 16  11   2   2  28   0   0   0   2   0]\n",
      " [ 11 566  70  24  58   7   8  17  24   4]\n",
      " [ 10  50 569  63  34   1   4   4  19  22]\n",
      " [  2  18  42 300  49   7  13   7  13   5]\n",
      " [ 15  55  57  31 470  15   3   0   4   0]\n",
      " [  0   1   0   0   1  30   8   9   5   1]\n",
      " [  3   0   3  14  10   0  36   0  10   1]\n",
      " [  0   9   3   3   3   0   0  18   6   5]\n",
      " [  3   7   2   3   3   0  13   0  64   7]\n",
      " [  0   3   2  10   4   0   5   5   3  45]]\n",
      "The Accuracy is: 0.6841423948220064\n"
     ]
    }
   ],
   "source": [
    "train_test_split(x_train_all,x_test_all,y_test_all,y_train_all)"
   ]
  },
  {
   "cell_type": "code",
   "execution_count": null,
   "metadata": {},
   "outputs": [],
   "source": []
  }
 ],
 "metadata": {
  "kernelspec": {
   "display_name": "base",
   "language": "python",
   "name": "python3"
  },
  "language_info": {
   "codemirror_mode": {
    "name": "ipython",
    "version": 3
   },
   "file_extension": ".py",
   "mimetype": "text/x-python",
   "name": "python",
   "nbconvert_exporter": "python",
   "pygments_lexer": "ipython3",
   "version": "3.9.12"
  }
 },
 "nbformat": 4,
 "nbformat_minor": 2
}
