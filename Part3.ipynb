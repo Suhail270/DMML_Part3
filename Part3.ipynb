{
 "cells": [
  {
   "cell_type": "code",
   "execution_count": 168,
   "metadata": {},
   "outputs": [],
   "source": [
    "import pandas as pd \n",
    "import numpy as np\n",
    "from sklearn.tree import DecisionTreeClassifier\n",
    "from sklearn import datasets\n",
    "from sklearn.model_selection import train_test_split\n",
    "from sklearn.metrics import accuracy_score\n",
    "from sklearn.model_selection import RepeatedKFold\n",
    "import matplotlib.pyplot as plt\n",
    "from sklearn.preprocessing import label_binarize\n",
    "from sklearn.metrics import accuracy_score, f1_score, confusion_matrix,multilabel_confusion_matrix,roc_auc_score,roc_curve,auc,ConfusionMatrixDisplay,precision_score,recall_score"
   ]
  },
  {
   "cell_type": "code",
   "execution_count": 93,
   "metadata": {},
   "outputs": [],
   "source": [
    "x_train_all=pd.read_csv(\"CompleteDataSet/x_train_all.csv\")\n",
    "y_train_all=pd.read_csv(\"CompleteDataSet/y_train_all.csv\")\n",
    "x_test_all=pd.read_csv(\"CompleteDataSet/x_test_all.csv\")\n",
    "y_test_all=pd.read_csv(\"CompleteDataSet/y_test_all.csv\")"
   ]
  },
  {
   "attachments": {},
   "cell_type": "markdown",
   "metadata": {},
   "source": [
    "### Cross Validation"
   ]
  },
  {
   "attachments": {},
   "cell_type": "markdown",
   "metadata": {},
   "source": [
    "#### LOOCV"
   ]
  },
  {
   "cell_type": "code",
   "execution_count": 94,
   "metadata": {},
   "outputs": [],
   "source": [
    "from sklearn.model_selection import KFold \n"
   ]
  },
  {
   "cell_type": "code",
   "execution_count": 169,
   "metadata": {},
   "outputs": [],
   "source": [
    "# def kfold_10(input,output):\n",
    "#     kf = KFold(n_splits=10) \n",
    "#     dt_classifier = DecisionTreeClassifier()\n",
    "#     accuracy_scores = []\n",
    "#     for train_index, test_index in kf.split(input):\n",
    "#         print(\"Train:\", train_index, \"Validation:\",test_index)\n",
    "#         X_train, X_test = input.iloc[train_index], input.iloc[test_index] \n",
    "#         y_train, y_test = output.iloc[train_index], output.iloc[test_index]\n",
    "#         dt_classifier.fit(X_train, y_train)\n",
    "#         pred=dt_classifier.predict(X_test)\n",
    "#         accuracy = accuracy_score(y_test, pred)\n",
    "#         accuracy_scores.append(accuracy)\n",
    "#     average_accuracy = sum(accuracy_scores) / 10\n",
    "\n",
    "#     print(f\"Average Accuracy: {average_accuracy}\")\n",
    "\n",
    "#function that uses the train test split data\n",
    "def train_test_split(X_train,X_test,y_test,y_train):\n",
    "    dt_classifier = DecisionTreeClassifier()#initializing the tree \n",
    "    dt_classifier.fit(X_train,y_train)# fitting the tree \n",
    "    predicted=dt_classifier.predict(X_test)# predicting the values\n",
    "    #finding the probability predictions\n",
    "    predicted_probs = dt_classifier.predict_proba(X_test)\n",
    "    \n",
    "    #finding the accuracy\n",
    "    accuracy = accuracy_score(y_test,predicted )\n",
    "    #finding the f1\n",
    "    f1 = f1_score(predicted, y_test, average=\"weighted\")\n",
    "    #finding the confusion matrix\n",
    "    conf_matrix = confusion_matrix(y_test, predicted)\n",
    "    #finding the precision\n",
    "    precision = precision_score(y_test, predicted, average=\"weighted\",zero_division=1)\n",
    "    #finding the recall\n",
    "    recall = recall_score(y_test, predicted, average=\"weighted\")\n",
    "    #finding the roc\n",
    "    Y_test_bin = label_binarize(y_test, classes=[0, 1, 2,3,4,5,6,7,8,9])\n",
    "    roc = roc_auc_score(Y_test_bin, predicted_probs, multi_class=\"ovr\", average=\"weighted\")\n",
    "\n",
    "    fpr, tpr, _ = roc_curve(Y_test_bin.ravel(), predicted_probs.ravel())\n",
    "    #plotiing the AUC graph\n",
    "    auc_val = auc(fpr, tpr)\n",
    "    plt.figure()\n",
    "    plt.plot(fpr, tpr, color='darkorange', lw=2, label='AUC (area = %0.2f)' % auc_val)\n",
    "    plt.plot([0, 1], [0, 1], color='navy', lw=2, linestyle='--')\n",
    "    plt.xlabel('False Positive Rate')\n",
    "    plt.ylabel('True Positive Rate')\n",
    "    plt.title('ROC Curve')\n",
    "    plt.legend(loc=\"lower right\")\n",
    "    plt.show()\n",
    "    #plotting the confusion matrix \n",
    "    out=ConfusionMatrixDisplay(conf_matrix,display_labels=dt_classifier.classes_)\n",
    "    out.plot()\n",
    "    plt.show()\n",
    "    print(\"Accuracy:\", accuracy)\n",
    "    print(\"F1 Score:\", f1)\n",
    "    print(\"Precision:\", precision)\n",
    "    print(\"Recall/Sensitivity/True Positive Rate:\", recall)\n",
    "    print(\"False Positive Rate:\", fpr)\n",
    "    print(\"Area under ROC curve:\", roc)\n",
    "    print(\"Confusion Matrix:\\n\", conf_matrix)\n",
    "\n"
   ]
  },
  {
   "cell_type": "code",
   "execution_count": 170,
   "metadata": {},
   "outputs": [],
   "source": [
    "#function that performs 10-fold cross validation\n",
    "def kfold_10(input,output,splits=10):\n",
    "    kf = KFold(n_splits=splits,shuffle=True,random_state=42) #initializing the kfold with 10 splits\n",
    "    dt_classifier = DecisionTreeClassifier() #initializing the tree\n",
    "    #lists to store the evaluation metrics\n",
    "    accuracy_scores = [] \n",
    "    prec_scores = []\n",
    "    roc_scores=[]\n",
    "    f1_scores = []\n",
    "    recall_scores=[]\n",
    "    #loop to iterate over the folds\n",
    "    for train_index, test_index in kf.split(input):\n",
    "        #priting the lengths of each index\n",
    "        print(\"Train:\", len( train_index), \"Validation:\",len(test_index))\n",
    "        X_train, X_test = input.iloc[train_index], input.iloc[test_index] \n",
    "        y_train, y_test = output.iloc[train_index], output.iloc[test_index]\n",
    "        #train the decision tree model\n",
    "        dt_classifier.fit(X_train, y_train)\n",
    "        #predict on the x_test data\n",
    "        pred=dt_classifier.predict(X_test)\n",
    "        #finding the values for the various evaluation metrics\n",
    "        accuracy = accuracy_score(y_test, pred)\n",
    "        precision = precision_score(y_test, pred, average=\"weighted\",zero_division=1)\n",
    "        f1 = f1_score( y_test,pred, average=\"weighted\")\n",
    "        recall = recall_score( y_test, pred, average=\"weighted\")   \n",
    "        #storing the values from each iteration into a list   \n",
    "        f1_scores.append(f1)\n",
    "        recall_scores.append(recall)\n",
    "        prec_scores.append(precision)\n",
    "        accuracy_scores.append(accuracy)\n",
    "        #finding the confusion matrix and printing it out for each model\n",
    "        conf_matrix = confusion_matrix(y_test, pred)\n",
    "        print(\"Confusion Matrix:\\n\", conf_matrix)\n",
    "\n",
    "    # calclulating the average value of all the evaluation metrics\n",
    "    avg_f1=sum(f1_scores)/10\n",
    "    avg_recall=sum(recall_scores)/10\n",
    "    avg_prec=sum(prec_scores)/10\n",
    "    average_accuracy = sum(accuracy_scores) / 10\n",
    "  \n",
    "    # printing the final values\n",
    "    print(f\"Average Accuracy: {average_accuracy}\")\n",
    "    print(f\"Average Precision: {avg_prec}\")\n",
    "    print(f\"Average Recall: {avg_recall}\")\n",
    "    print(f\"Average F1: {avg_f1}\")"
   ]
  },
  {
   "cell_type": "code",
   "execution_count": 96,
   "metadata": {},
   "outputs": [
    {
     "data": {
      "text/plain": [
       "(9690, 2304)"
      ]
     },
     "execution_count": 96,
     "metadata": {},
     "output_type": "execute_result"
    }
   ],
   "source": [
    "x_train_all.shape"
   ]
  },
  {
   "cell_type": "code",
   "execution_count": 97,
   "metadata": {},
   "outputs": [
    {
     "data": {
      "text/plain": [
       "(9690, 1)"
      ]
     },
     "execution_count": 97,
     "metadata": {},
     "output_type": "execute_result"
    }
   ],
   "source": [
    "y_train_all.shape"
   ]
  },
  {
   "cell_type": "code",
   "execution_count": 171,
   "metadata": {},
   "outputs": [
    {
     "name": "stdout",
     "output_type": "stream",
     "text": [
      "Train: 8721 Validation: 969\n",
      "Confusion Matrix:\n",
      " [[ 21   1   2   1   1   0   0   0   0   1]\n",
      " [  3 185  12   3  12   0   2   2   1   1]\n",
      " [  2  17 190   7   4   0   2   2   1   3]\n",
      " [  1   2  12 122   2   0   2   0   1   0]\n",
      " [  2  11   3   0 180   0   0   1   0   1]\n",
      " [  1   1   3   1   0  18   0   2   1   1]\n",
      " [  1   0   0   1   3   0  28   1   0   0]\n",
      " [  0   2   1   0   1   1   0  19   0   1]\n",
      " [  1   0   2   1   1   0   1   0  31   0]\n",
      " [  0   2   1   2   0   1   0   1   0  22]]\n",
      "Train: 8721 Validation: 969\n",
      "Confusion Matrix:\n",
      " [[ 17   0   1   0   1   0   0   0   0   0]\n",
      " [  3 187  12   5  18   1   2   1   1   0]\n",
      " [  0  17 191   7   9   2   2   1   0   0]\n",
      " [  0   5  11 127   2   0   0   0   1   0]\n",
      " [  0   9  11   4 166   0   2   0   1   1]\n",
      " [  0   0   0   0   3  12   0   1   0   0]\n",
      " [  0   0   3   3   0   0  27   0   1   1]\n",
      " [  2   0   1   1   2   1   0  12   3   0]\n",
      " [  0   2   1   1   0   0   1   0  48   1]\n",
      " [  0   4   1   0   0   1   2   0   0  16]]\n",
      "Train: 8721 Validation: 969\n",
      "Confusion Matrix:\n",
      " [[ 12   2   2   2  10   0   0   0   0   1]\n",
      " [  6 175  15   4  10   1   0   1   1   1]\n",
      " [  2  22 177   6  10   0   1   2   0   1]\n",
      " [  0   4   4 117   6   0   2   1   3   1]\n",
      " [  1   7   6   1 176   2   0   2   0   0]\n",
      " [  0   1   1   0   0  23   0   0   0   2]\n",
      " [  0   0   3   3   0   0  23   1   0   1]\n",
      " [  0   1   0   2   1   1   1  12   0   0]\n",
      " [  1   1   5   1   0   1   3   0  55   0]\n",
      " [  0   0   1   2   0   0   1   2   2  21]]\n",
      "Train: 8721 Validation: 969\n",
      "Confusion Matrix:\n",
      " [[ 12   1   0   0   2   0   0   0   0   0]\n",
      " [  2 210  21   2   9   1   1   1   1   1]\n",
      " [  1  23 187   8  10   0   1   0   1   2]\n",
      " [  2   2   5 116   6   0   2   0   1   0]\n",
      " [  3   6   7   1 150   0   0   1   0   0]\n",
      " [  1   0   1   1   1  21   0   0   0   0]\n",
      " [  1   1   1   1   1   1  29   2   4   1]\n",
      " [  0   1   2   0   0   1   1  21   2   0]\n",
      " [  0   0   1   1   0   4   1   0  40   0]\n",
      " [  0   1   2   1   0   0   1   1   3  19]]\n",
      "Train: 8721 Validation: 969\n",
      "Confusion Matrix:\n",
      " [[ 11   2   0   1   1   0   0   0   0   0]\n",
      " [  8 196  13   8  11   2   0   4   0   0]\n",
      " [  0  14 165   7  10   2   1   0   1   3]\n",
      " [  0   5  10 134   2   1   1   0   4   5]\n",
      " [  0  16  13   2 162   1   0   0   0   0]\n",
      " [  0   0   2   1   0   8   0   0   2   2]\n",
      " [  0   1   2   3   3   0  27   0   0   0]\n",
      " [  1   0   1   0   1   0   0  17   1   2]\n",
      " [  1   0   2   2   5   3   0   2  39   1]\n",
      " [  0   1   2   2   1   0   0   0   0  18]]\n",
      "Train: 8721 Validation: 969\n",
      "Confusion Matrix:\n",
      " [[ 20   1   2   2   3   0   0   0   1   0]\n",
      " [  2 152  17   1   7   0   0   0   1   0]\n",
      " [  2  13 203   4  15   0   2   3   2   0]\n",
      " [  1   2  10 125   1   1   2   0   1   1]\n",
      " [  2  11   4   7 174   0   0   4   0   0]\n",
      " [  0   1   0   1   0  15   0   0   0   1]\n",
      " [  0   1   3   3   0   0  32   0   2   0]\n",
      " [  0   1   0   0   1   1   0  25   0   0]\n",
      " [  1   1   2   0   0   0   2   2  49   1]\n",
      " [  0   1   4   0   0   0   2   0   1  17]]\n",
      "Train: 8721 Validation: 969\n",
      "Confusion Matrix:\n",
      " [[ 14   3   0   2   2   0   0   0   0   0]\n",
      " [  1 185  24   4   7   1   3   0   1   0]\n",
      " [  2  22 172   7  10   2   1   2   1   0]\n",
      " [  0   1   9 117   1   1   1   1   0   1]\n",
      " [  3   7   5   3 178   0   2   2   0   0]\n",
      " [  0   2   1   1   0  15   0   0   0   0]\n",
      " [  0   2   2   2   0   1  28   0   2   0]\n",
      " [  0   0   1   0   0   1   0  21   1   0]\n",
      " [  0   4   1   1   2   0   3   1  44   1]\n",
      " [  1   0   2   2   0   1   0   2   0  26]]\n",
      "Train: 8721 Validation: 969\n",
      "Confusion Matrix:\n",
      " [[  8   3   1   0   0   0   0   0   0   0]\n",
      " [  1 183  15   5   9   1   0   0   1   0]\n",
      " [  2  19 177   6   6   1   0   1   0   4]\n",
      " [  1   5   5 117   0   0   1   2   2   0]\n",
      " [  3  15   6   8 188   0   0   1   1   0]\n",
      " [  0   0   2   3   2  15   0   0   0   0]\n",
      " [  0   0   4   0   0   1  32   0   3   1]\n",
      " [  0   0   2   0   1   0   1  14   2   0]\n",
      " [  1   0   3   0   0   1   0   0  48   2]\n",
      " [  0   1   1   1   1   1   0   0   2  26]]\n",
      "Train: 8721 Validation: 969\n",
      "Confusion Matrix:\n",
      " [[ 19   1   0   1   1   0   0   1   0   0]\n",
      " [  4 188  24   3  15   0   1   1   2   0]\n",
      " [  0  10 200  12   7   1   0   1   2   0]\n",
      " [  0   4   4 109   4   0   2   0   1   0]\n",
      " [  3  12   5   3 160   0   2   0   1   0]\n",
      " [  0   0   0   0   0  17   0   1   1   1]\n",
      " [  0   0   0   1   1   1  34   0   0   0]\n",
      " [  0   2   0   0   0   0   0  26   1   1]\n",
      " [  1   2   4   4   1   0   3   0  38   2]\n",
      " [  0   0   1   1   0   0   0   0   3  18]]\n",
      "Train: 8721 Validation: 969\n",
      "Confusion Matrix:\n",
      " [[ 17   1   1   0   1   0   0   0   0   0]\n",
      " [  0 165  17   7  12   1   0   0   1   2]\n",
      " [  1  21 175  12  10   0   2   1   0   2]\n",
      " [  2   8   4 134   4   0   2   0   1   0]\n",
      " [  4   9   7   3 197   1   0   0   0   0]\n",
      " [  0   0   1   0   0  15   0   3   0   1]\n",
      " [  0   0   0   0   0   0  25   0   1   0]\n",
      " [  0   1   0   0   1   1   1  16   0   2]\n",
      " [  0   2   4   1   2   0   2   1  41   2]\n",
      " [  0   0   2   2   0   0   1   0   0  16]]\n",
      "Average Accuracy: 0.8278637770897834\n",
      "Average Precision: 0.8298044483667244\n",
      "Average Recall: 0.8278637770897834\n",
      "Average F1: 0.827819449751398\n"
     ]
    }
   ],
   "source": [
    "kfold_10(x_train_all,y_train_all)"
   ]
  },
  {
   "attachments": {},
   "cell_type": "markdown",
   "metadata": {},
   "source": [
    "#### Funtion for calculating decision tree accuracy"
   ]
  },
  {
   "cell_type": "code",
   "execution_count": 99,
   "metadata": {},
   "outputs": [],
   "source": [
    "def accuracycalc(model,xdata,ydata,xtest,ytest): #func for calculating accuracy when the data is given\n",
    "    dt_classifier = model #assigning the model\n",
    "    dt_classifier.fit(xdata,ydata) #fitting the data into it\n",
    "    pred=dt_classifier.predict(xtest) #predicting the labels for test data\n",
    "    accuracy = accuracy_score(ytest, pred) #comparing and getting the accuracy\n",
    "    print(\"Accuracy:\",accuracy) #printing the accuracy"
   ]
  },
  {
   "attachments": {},
   "cell_type": "markdown",
   "metadata": {},
   "source": [
    "Calculating accuracy on the raw data"
   ]
  },
  {
   "cell_type": "code",
   "execution_count": 100,
   "metadata": {},
   "outputs": [
    {
     "name": "stdout",
     "output_type": "stream",
     "text": [
      "Accuracy: 0.686084142394822\n"
     ]
    }
   ],
   "source": [
    "model = DecisionTreeClassifier() #creating the decision tree model by sklearn\n",
    "accuracycalc(model,x_train_all,y_train_all,x_test_all,y_test_all) #calculating the accuracy for the respective datasets mentioned in the markdown"
   ]
  },
  {
   "cell_type": "code",
   "execution_count": 101,
   "metadata": {},
   "outputs": [],
   "source": [
    "#loading the pre processed dataset from part2\n",
    "part2_pro = pd.read_csv(\"part2_final_processed.csv\")\n",
    "part2_pro_test = pd.read_csv(\"part2_final_processed_xtest.csv\")\n",
    "part2_pro_y = pd.read_csv(\"part2_y_train_no_outliers.csv\")\n",
    "part2_pro_y_test = pd.read_csv(\"part2_y_train_no_outliers_ytest.csv\")"
   ]
  },
  {
   "attachments": {},
   "cell_type": "markdown",
   "metadata": {},
   "source": [
    "Calculating accuracy on the preprocessed data from part2 of the coursework"
   ]
  },
  {
   "cell_type": "code",
   "execution_count": 104,
   "metadata": {},
   "outputs": [
    {
     "name": "stdout",
     "output_type": "stream",
     "text": [
      "Accuracy: 0.2360248447204969\n"
     ]
    }
   ],
   "source": [
    "model = DecisionTreeClassifier() #creating the decision tree model by sklearn\n",
    "accuracycalc(model,part2_pro,part2_pro_y,part2_pro_test,part2_pro_y_test)#calculating the accuracy for the respective datasets mentioned in the markdown"
   ]
  },
  {
   "attachments": {},
   "cell_type": "markdown",
   "metadata": {},
   "source": [
    "Oversampling and calculating the accuracy"
   ]
  },
  {
   "cell_type": "code",
   "execution_count": 105,
   "metadata": {},
   "outputs": [],
   "source": [
    "import pandas as pd\n",
    "from imblearn.over_sampling import SMOTE\n",
    "\n",
    "X = x_train_all #assigning x train data for oversampling\n",
    "y = y_train_all #assigning y train data for oversampling\n",
    "smote = SMOTE(sampling_strategy='auto', random_state=19) #initializing smote for applying oversampling\n",
    "X_resampled, y_resampled = smote.fit_resample(X, y) #performing oversampling and assigning the new x train \n",
    "balanced_data = pd.concat([X_resampled, y_resampled], axis=1)#performing oversampling and assigning the new y train \n",
    "balanced_data.to_csv('balanced_dataset.csv', index=False) #saving the data\n"
   ]
  },
  {
   "cell_type": "code",
   "execution_count": 106,
   "metadata": {},
   "outputs": [
    {
     "name": "stdout",
     "output_type": "stream",
     "text": [
      "Accuracy: 0.6734627831715211\n"
     ]
    }
   ],
   "source": [
    "model = DecisionTreeClassifier() #creating the decision tree model by sklearn\n",
    "accuracycalc(model,X_resampled,y_resampled,x_test_all,y_test_all)#calculating the accuracy for the respective datasets mentioned in the markdown"
   ]
  },
  {
   "attachments": {},
   "cell_type": "markdown",
   "metadata": {},
   "source": [
    "why less compared to raw data: Decision trees are sensitive to the distribution of data. Oversampling might create \"unnatural\" patterns that a decision tree tries to fit. "
   ]
  },
  {
   "attachments": {},
   "cell_type": "markdown",
   "metadata": {},
   "source": [
    "Undersampling and calculating the accuracy"
   ]
  },
  {
   "cell_type": "code",
   "execution_count": 107,
   "metadata": {},
   "outputs": [],
   "source": [
    "import pandas as pd\n",
    "from imblearn.under_sampling import RandomUnderSampler\n",
    "\n",
    "X = x_train_all #assigning x train data for undersampling\n",
    "y = y_train_all #assigning y train data for undersampling\n",
    "rus = RandomUnderSampler(sampling_strategy='auto', random_state=19)#initializing randomundersampler for applying undersampling\n",
    "X_resampled2, y_resampled2 = rus.fit_resample(X, y) #performing undersampling and assigning the new x train \n",
    "balanced_data2 = pd.concat([X_resampled2, y_resampled2], axis=1) #performing undersampling and assigning the new y train \n",
    "balanced_data2.to_csv('balanced_dataset2.csv', index=False)#saving the data\n"
   ]
  },
  {
   "cell_type": "code",
   "execution_count": 108,
   "metadata": {},
   "outputs": [
    {
     "name": "stdout",
     "output_type": "stream",
     "text": [
      "Accuracy: 0.5521035598705502\n"
     ]
    }
   ],
   "source": [
    "model = DecisionTreeClassifier() #creating the decision tree model by sklearn\n",
    "accuracycalc(model,X_resampled2,y_resampled2,x_test_all,y_test_all)#calculating the accuracy for the respective datasets mentioned in the markdown"
   ]
  },
  {
   "attachments": {},
   "cell_type": "markdown",
   "metadata": {},
   "source": [
    "why less comapared to raw data: By removing instances from the majority class, we might be discarding potentially useful information. Decision trees thrive on having diverse data to learn from. Undersampling could lead to a loss of valuable patterns and information that the model requires for accurate predictions."
   ]
  },
  {
   "attachments": {},
   "cell_type": "markdown",
   "metadata": {},
   "source": [
    "label Encoding and calculating the accuracy"
   ]
  },
  {
   "cell_type": "code",
   "execution_count": 111,
   "metadata": {},
   "outputs": [],
   "source": [
    "#creating the complete data set with y labels at the end with column name labels\n",
    "y_train_all_copy = y_train_all.rename(columns={y_train_all.columns[0]:\"labels\"})\n",
    "completedata = pd.concat([x_train_all,y_train_all_copy], axis=1)"
   ]
  },
  {
   "cell_type": "code",
   "execution_count": 112,
   "metadata": {},
   "outputs": [],
   "source": [
    "from sklearn.preprocessing import LabelEncoder\n",
    "\n",
    "le = LabelEncoder() #initializing the encoder\n",
    "completedata['labels'] = le.fit_transform(completedata['labels'])#applying the encoding"
   ]
  },
  {
   "cell_type": "code",
   "execution_count": 119,
   "metadata": {},
   "outputs": [
    {
     "name": "stdout",
     "output_type": "stream",
     "text": [
      "Accuracy: 0.6870550161812298\n"
     ]
    }
   ],
   "source": [
    "completedata_noy = completedata.drop(columns =['labels'])\n",
    "model = DecisionTreeClassifier() #creating the decision tree model by sklearn\n",
    "accuracycalc(model,completedata_noy,y_train_all,x_test_all,y_test_all)#calculating the accuracy for the respective datasets mentioned in the markdown"
   ]
  },
  {
   "attachments": {},
   "cell_type": "markdown",
   "metadata": {},
   "source": [
    "Accuracy similar to raw data no difference"
   ]
  },
  {
   "attachments": {},
   "cell_type": "markdown",
   "metadata": {},
   "source": [
    "Outlier mining on raw data and calculating accuracy"
   ]
  },
  {
   "cell_type": "code",
   "execution_count": 123,
   "metadata": {},
   "outputs": [
    {
     "name": "stderr",
     "output_type": "stream",
     "text": [
      "/Library/Frameworks/Python.framework/Versions/3.11/lib/python3.11/site-packages/sklearn/base.py:439: UserWarning: X does not have valid feature names, but IsolationForest was fitted with feature names\n",
      "  warnings.warn(\n"
     ]
    }
   ],
   "source": [
    "# uses isolation forest algorithm to find outliers\n",
    "from sklearn.ensemble import IsolationForest\n",
    "\n",
    "# TODO\n",
    "feature_names = [f'{str(col)}' for col in x_train_all.columns]\n",
    "x_train_copy = x_train_all.copy()\n",
    "x_train_copy.columns = feature_names\n",
    "\n",
    "contamination = 0.01\n",
    "iso_forest = IsolationForest(contamination=contamination, random_state=42)\n",
    "\n",
    "outliers = iso_forest.fit_predict(x_train_copy)\n",
    "\n",
    "outlier_indices = x_train_copy.index[outliers == -1]\n",
    "\n",
    "x_train_no_outliers = x_train_copy.drop(outlier_indices)\n",
    "x_train_no_outliers.to_csv('x_train_no_outliers.csv',index=False)\n",
    "\n",
    "outlier_indices_df = pd.DataFrame({'outlier_index': outlier_indices})\n",
    "\n",
    "outlier_indices_df.to_csv('outlier_indices.csv', index=False)"
   ]
  },
  {
   "cell_type": "code",
   "execution_count": 124,
   "metadata": {},
   "outputs": [],
   "source": [
    "y_train_no_outliers  = y_train_all.drop(outlier_indices)"
   ]
  },
  {
   "cell_type": "code",
   "execution_count": 125,
   "metadata": {},
   "outputs": [
    {
     "name": "stdout",
     "output_type": "stream",
     "text": [
      "Accuracy: 0.6896440129449838\n"
     ]
    }
   ],
   "source": [
    "model = DecisionTreeClassifier() #creating the decision tree model by sklearn\n",
    "accuracycalc(model,x_train_no_outliers,y_train_no_outliers,x_test_all,y_test_all)#calculating the accuracy for the respective datasets mentioned in the markdown"
   ]
  },
  {
   "attachments": {},
   "cell_type": "markdown",
   "metadata": {},
   "source": [
    "as we can see the accuracy increased by a little that is because we had outliers."
   ]
  },
  {
   "attachments": {},
   "cell_type": "markdown",
   "metadata": {},
   "source": [
    "Normalized Data and accuracy"
   ]
  },
  {
   "cell_type": "code",
   "execution_count": 126,
   "metadata": {},
   "outputs": [],
   "source": [
    "#normalizing the data\n",
    "mean=x_train_all.mean()\n",
    "std=x_train_all.std()\n",
    "x_train_norm=(x_train_all-mean)/std\n",
    "x_train_norm=pd.DataFrame(x_train_norm)"
   ]
  },
  {
   "cell_type": "code",
   "execution_count": 127,
   "metadata": {},
   "outputs": [
    {
     "name": "stdout",
     "output_type": "stream",
     "text": [
      "Accuracy: 0.24271844660194175\n"
     ]
    }
   ],
   "source": [
    "model = DecisionTreeClassifier() #creating the decision tree model by sklearn\n",
    "accuracycalc(model,x_train_norm,y_train_all,x_test_all,y_test_all)#calculating the accuracy for the respective datasets mentioned in the markdown"
   ]
  },
  {
   "attachments": {},
   "cell_type": "markdown",
   "metadata": {},
   "source": [
    "why less compared to raw data: Normalization could accentuate certain features, affecting their importance, potentially altering the tree's decisions in an unintended way."
   ]
  },
  {
   "attachments": {},
   "cell_type": "markdown",
   "metadata": {},
   "source": [
    "Thresholding and accuracy"
   ]
  },
  {
   "cell_type": "code",
   "execution_count": 128,
   "metadata": {},
   "outputs": [],
   "source": [
    "import pandas as pd\n",
    "import cv2\n",
    "import numpy as np\n",
    "\n",
    "df = x_train_all.copy()\n",
    "\n",
    "for index, row in df.iterrows(): # Loop through the rows of the DataFrame\n",
    "    pixel_values = row.values # Extract the pixel values as a 1D array\n",
    "    image = np.array(pixel_values).reshape(48, 48)# Reshape the pixel values to form a 48x48 grayscale image \n",
    "    threshold_value = 128 # Setting the threshold value\n",
    "    _, binary_image = cv2.threshold(image, threshold_value, 255, cv2.THRESH_BINARY) # Apply thresholding\n",
    "    binary_pixel_values = binary_image.reshape(-1) # Flatten the binary image to a 1D array\n",
    "    df.loc[index] = binary_pixel_values# Update the DataFrame with the binary pixel values\n",
    "\n"
   ]
  },
  {
   "cell_type": "code",
   "execution_count": 133,
   "metadata": {},
   "outputs": [],
   "source": [
    "import pandas as pd\n",
    "import cv2\n",
    "import numpy as np\n",
    "\n",
    "\n",
    "df2 = x_test_all.copy()\n",
    "\n",
    "for index, row in df2.iterrows(): # Loop through the rows of the DataFrame\n",
    "    pixel_values = row.values# Extract the pixel values as a 1D array\n",
    "    image = np.array(pixel_values).reshape(48, 48) # Reshape the pixel values to form a 48x48 grayscale image\n",
    "    threshold_value = 128# Setting the threshold value\n",
    "    _, binary_image = cv2.threshold(image, threshold_value, 255, cv2.THRESH_BINARY)# Apply thresholding\n",
    "    binary_pixel_values = binary_image.reshape(-1) # Flatten the binary image to a 1D array\n",
    "    df2.loc[index] = binary_pixel_values # Update the DataFrame with the binary pixel values\n",
    "\n"
   ]
  },
  {
   "cell_type": "code",
   "execution_count": 135,
   "metadata": {},
   "outputs": [
    {
     "name": "stdout",
     "output_type": "stream",
     "text": [
      "Accuracy: 0.4627831715210356\n"
     ]
    }
   ],
   "source": [
    "model =DecisionTreeClassifier() #creating the decision tree model by sklearn\n",
    "accuracycalc(model,df,y_train_all,df2,y_test_all)#calculating the accuracy for the respective datasets mentioned in the markdown"
   ]
  },
  {
   "attachments": {},
   "cell_type": "markdown",
   "metadata": {},
   "source": [
    "why less compared to raw data: Decision trees can naturally handle continuous features and are capable of finding the best splitting points. Applying thresholding might overly simplify the decision-making process, leading to less accurate results."
   ]
  },
  {
   "attachments": {},
   "cell_type": "markdown",
   "metadata": {},
   "source": [
    "Normalize the data then thresholding"
   ]
  },
  {
   "cell_type": "code",
   "execution_count": 137,
   "metadata": {},
   "outputs": [
    {
     "data": {
      "text/plain": [
       "(9690, 2304)"
      ]
     },
     "execution_count": 137,
     "metadata": {},
     "output_type": "execute_result"
    }
   ],
   "source": [
    "x_train_norm.shape"
   ]
  },
  {
   "cell_type": "code",
   "execution_count": 138,
   "metadata": {},
   "outputs": [],
   "source": [
    "import pandas as pd\n",
    "import cv2\n",
    "import numpy as np\n",
    "\n",
    "df3 = x_train_norm.copy()\n",
    "\n",
    "for index, row in df3.iterrows():# Loop through the rows of the DataFrame\n",
    "    pixel_values = row.values # Extract the pixel values as a 1D array\n",
    "    image = np.array(pixel_values).reshape(48, 48) # Reshape the pixel values to form a 48x48 grayscale image\n",
    "    threshold_value = 128 # Setting the threshold value\n",
    "    _, binary_image = cv2.threshold(image, threshold_value, 255, cv2.THRESH_BINARY)# Apply thresholding\n",
    "    binary_pixel_values = binary_image.reshape(-1) # Flatten the binary image to a 1D array \n",
    "    df3.loc[index] = binary_pixel_values # Update the DataFrame with the binary pixel values\n",
    "\n"
   ]
  },
  {
   "cell_type": "code",
   "execution_count": 139,
   "metadata": {},
   "outputs": [
    {
     "name": "stdout",
     "output_type": "stream",
     "text": [
      "Accuracy: 0.24271844660194175\n"
     ]
    }
   ],
   "source": [
    "model =DecisionTreeClassifier() #creating the decision tree model by sklearn\n",
    "accuracycalc(model,df3,y_train_all,df2,y_test_all)#calculating the accuracy for the respective datasets mentioned in the markdown"
   ]
  },
  {
   "attachments": {},
   "cell_type": "markdown",
   "metadata": {},
   "source": [
    "Thresholding then Normalizing"
   ]
  },
  {
   "cell_type": "code",
   "execution_count": 141,
   "metadata": {},
   "outputs": [
    {
     "data": {
      "text/plain": [
       "(9690, 2304)"
      ]
     },
     "execution_count": 141,
     "metadata": {},
     "output_type": "execute_result"
    }
   ],
   "source": [
    "df.shape"
   ]
  },
  {
   "cell_type": "code",
   "execution_count": 142,
   "metadata": {},
   "outputs": [],
   "source": [
    "#normalizing the threshholded data\n",
    "mean=df.mean()\n",
    "std=df.std()\n",
    "x_train_thres_norm=(df-mean)/std\n",
    "x_train_thres_norm=pd.DataFrame(x_train_thres_norm)"
   ]
  },
  {
   "cell_type": "code",
   "execution_count": 143,
   "metadata": {},
   "outputs": [
    {
     "name": "stdout",
     "output_type": "stream",
     "text": [
      "Accuracy: 0.4656957928802589\n"
     ]
    }
   ],
   "source": [
    "model =DecisionTreeClassifier() #creating the decision tree model by sklearn\n",
    "accuracycalc(model,x_train_thres_norm,y_train_all,df2,y_test_all)#calculating the accuracy for the respective datasets mentioned in the markdown"
   ]
  },
  {
   "attachments": {},
   "cell_type": "markdown",
   "metadata": {},
   "source": [
    "Histogram equalized dataset and calculating accuracy"
   ]
  },
  {
   "cell_type": "code",
   "execution_count": 144,
   "metadata": {},
   "outputs": [],
   "source": [
    "import pandas as pd\n",
    "import numpy as np\n",
    "import cv2\n",
    "\n",
    "df = x_train_all.copy()\n",
    "\n",
    "def apply_histogram_equalization(image):#function to apply histogram equalization to an individual image\n",
    "    image_matrix = image.values.reshape(48, 48).astype(np.uint8)# Reshape the image data\n",
    "    equalized_image = cv2.equalizeHist(image_matrix)# Applying histogram equalization\n",
    "    equalized_image_vector = equalized_image.ravel()# Reshaping the equalized image back to a feature vector\n",
    "    return equalized_image_vector\n",
    "\n",
    "equalized_images = df.apply(apply_histogram_equalization, axis=1)# Appling histogram equalization to each image in the DataFrame\n",
    "equalized_df = pd.DataFrame(list(equalized_images))# Creating a new DataFrame with the equalized images\n",
    "\n",
    "equalized_df.to_csv(\"equalized_dataset.csv\", index=False)# Saving the equalized data to a new CSV file\n"
   ]
  },
  {
   "cell_type": "code",
   "execution_count": 145,
   "metadata": {},
   "outputs": [],
   "source": [
    "import pandas as pd\n",
    "import numpy as np\n",
    "import cv2\n",
    "\n",
    "df = x_test_all.copy()\n",
    "\n",
    "def apply_histogram_equalization(image): #function to apply histogram equalization to an individual image\n",
    "    image_matrix = image.values.reshape(48, 48).astype(np.uint8)# Reshaping the image data \n",
    "    equalized_image = cv2.equalizeHist(image_matrix)# Applying histogram equalization\n",
    "    equalized_image_vector = equalized_image.ravel()# Reshaping the equalized image back to a feature vector\n",
    "    return equalized_image_vector\n",
    "\n",
    "equalized_images = df.apply(apply_histogram_equalization, axis=1)# Applying histogram equalization to each image in the DataFrame\n",
    "\n",
    "equalized_df_test = pd.DataFrame(list(equalized_images)) # Creating a new DataFrame with the equalized images\n",
    "\n",
    "equalized_df_test.to_csv(\"equalized_dataset_test.csv\", index=False)# Saving the equalized data to a new CSV file\n"
   ]
  },
  {
   "cell_type": "code",
   "execution_count": 148,
   "metadata": {},
   "outputs": [
    {
     "name": "stdout",
     "output_type": "stream",
     "text": [
      "Accuracy: 0.7427184466019418\n"
     ]
    }
   ],
   "source": [
    "model = DecisionTreeClassifier() #creating the decision tree model by sklearn\n",
    "accuracycalc(model,equalized_df,y_train_all,equalized_df_test,y_test_all)#calculating the accuracy for the respective datasets mentioned in the markdown"
   ]
  },
  {
   "attachments": {},
   "cell_type": "markdown",
   "metadata": {},
   "source": [
    "The reason we used it is, in images where the contrast between different intensity levels is low, histogram equalization can redistribute the intensity values to cover a wider range. This can improve the perception of details in the images which is what we need in our case with the traffic sign."
   ]
  },
  {
   "attachments": {},
   "cell_type": "markdown",
   "metadata": {},
   "source": [
    "Sobel operator"
   ]
  },
  {
   "cell_type": "code",
   "execution_count": 187,
   "metadata": {},
   "outputs": [],
   "source": [
    "import pandas as pd\n",
    "import numpy as np\n",
    "import cv2\n",
    "\n",
    "data1 = x_train_all.copy()\n",
    "y_labels = y_train_all.copy()\n",
    "\n",
    "\n",
    "processed_images = []# Create a list to store the processed images\n",
    "\n",
    "for index, row in data1.iterrows():# Iterate through each row in the dataset\n",
    "    image = row.values.reshape(48, 48).astype(np.uint8)# Reshape the 2304 features into a 48x48 image\n",
    "    # Apply the Sobel filter to the image\n",
    "    sobel_x = cv2.Sobel(image, cv2.CV_64F, 1, 0, ksize=3)\n",
    "    sobel_y = cv2.Sobel(image, cv2.CV_64F, 0, 1, ksize=3)\n",
    "    \n",
    "    sobel_image = np.sqrt(sobel_x ** 2 + sobel_y ** 2)# Combine the horizontal and vertical gradients\n",
    "    \n",
    "    sobel_image = (255 * (sobel_image - np.min(sobel_image)) / (np.max(sobel_image) - np.min(sobel_image))).astype(np.uint8)# Normalize the pixel values to the range [0, 255]\n",
    "    \n",
    "    sobel_features = sobel_image.ravel()# Flatten the image back to 2304 features\n",
    "    \n",
    "    processed_images.append(sobel_features)\n",
    "\n",
    "\n",
    "processed_data = pd.DataFrame(processed_images)# Create a new DataFrame with the processed images\n",
    "\n",
    "# Combine the processed data with the labels\n",
    "#processed_data['label'] = y_labels\n",
    "processed_data.to_csv(\"processed_dataset_sobel.csv\", index=False) # Save the processed data to a new CSV file\n"
   ]
  },
  {
   "cell_type": "code",
   "execution_count": 188,
   "metadata": {},
   "outputs": [],
   "source": [
    "import pandas as pd\n",
    "import numpy as np\n",
    "import cv2\n",
    "\n",
    "data1_test = x_test_all.copy()\n",
    "y_labels = y_test_all.copy()\n",
    "\n",
    "processed_images = []# Create a list to store the processed images\n",
    "\n",
    "for index, row in data1_test.iterrows():# Iterate through each row in the dataset\n",
    "    image = row.values.reshape(48, 48).astype(np.uint8)# Reshape the 2304 features into a 48x48 image\n",
    "    # Apply the Sobel filter to the image\n",
    "    sobel_x = cv2.Sobel(image, cv2.CV_64F, 1, 0, ksize=3)\n",
    "    sobel_y = cv2.Sobel(image, cv2.CV_64F, 0, 1, ksize=3)\n",
    "    \n",
    "    sobel_image = np.sqrt(sobel_x ** 2 + sobel_y ** 2)# Combine the horizontal and vertical gradients\n",
    "    \n",
    "    sobel_image = (255 * (sobel_image - np.min(sobel_image)) / (np.max(sobel_image) - np.min(sobel_image))).astype(np.uint8)# Normalize the pixel values to the range [0, 255]\n",
    "    \n",
    "    sobel_features = sobel_image.ravel()# Flatten the image back to 2304 features\n",
    "    \n",
    "    processed_images.append(sobel_features)\n",
    "\n",
    "processed_data_test = pd.DataFrame(processed_images)# Create a new DataFrame with the processed images\n",
    "\n",
    "# Combine the processed data with the labels\n",
    "#processed_data['label'] = y_labels\n",
    "\n",
    "processed_data_test.to_csv(\"processed_dataset_sobel_test.csv\", index=False)# Save the processed data to a new CSV file\n"
   ]
  },
  {
   "cell_type": "code",
   "execution_count": 189,
   "metadata": {},
   "outputs": [
    {
     "name": "stdout",
     "output_type": "stream",
     "text": [
      "Accuracy: 0.5828478964401295\n"
     ]
    }
   ],
   "source": [
    "model = DecisionTreeClassifier() #creating the decision tree model by sklearn\n",
    "accuracycalc(model,processed_data,y_train_all,processed_data_test,y_test_all)#calculating the accuracy for the respective datasets mentioned in the markdown"
   ]
  },
  {
   "attachments": {},
   "cell_type": "markdown",
   "metadata": {},
   "source": [
    "why less compared to raw data: The Sobel operator focuses on detecting edges, potentially altering the original features or removing certain details that could be crucial for the decision tree to make accurate splits."
   ]
  },
  {
   "attachments": {},
   "cell_type": "markdown",
   "metadata": {},
   "source": [
    "Histogram matching "
   ]
  },
  {
   "cell_type": "code",
   "execution_count": 190,
   "metadata": {},
   "outputs": [
    {
     "name": "stdout",
     "output_type": "stream",
     "text": [
      "Image 0 - Shape: (2304,), Type: <class 'numpy.ndarray'>\n",
      "Image 1 - Shape: (2304,), Type: <class 'numpy.ndarray'>\n",
      "Image 2 - Shape: (2304,), Type: <class 'numpy.ndarray'>\n",
      "Image 3 - Shape: (2304,), Type: <class 'numpy.ndarray'>\n",
      "Image 4 - Shape: (2304,), Type: <class 'numpy.ndarray'>\n",
      "Image 5 - Shape: (2304,), Type: <class 'numpy.ndarray'>\n",
      "Image 6 - Shape: (2304,), Type: <class 'numpy.ndarray'>\n",
      "Image 7 - Shape: (2304,), Type: <class 'numpy.ndarray'>\n",
      "Image 8 - Shape: (2304,), Type: <class 'numpy.ndarray'>\n",
      "Image 9 - Shape: (2304,), Type: <class 'numpy.ndarray'>\n"
     ]
    }
   ],
   "source": [
    "import cv2\n",
    "import numpy as np\n",
    "import pandas as pd\n",
    "\n",
    "# Load your grayscale images dataset\n",
    "images_df = x_train_all.copy()\n",
    "\n",
    "# Choose specific image numbers\n",
    "selected_image_numbers = [4421, 17, 30, 154, 169, 9320, 62, 105, 233, 122]\n",
    "\n",
    "# Create a dictionary to store histograms for each image\n",
    "histograms_dict = {}\n",
    "\n",
    "# Iterate through each selected image\n",
    "for i, image_number in enumerate(selected_image_numbers):\n",
    "    # Extract the pixel values of the selected image\n",
    "    selected_image_pixels = np.array(images_df.loc[image_number])\n",
    "\n",
    "    # Convert the pixel values to np.uint8\n",
    "    selected_image_pixels = selected_image_pixels.astype(np.uint8)\n",
    "\n",
    "    # Convert the pixel values to a one-dimensional array\n",
    "    selected_image_pixels = selected_image_pixels.ravel()\n",
    "\n",
    "    # Print the shape and type of selected_image_pixels for debugging\n",
    "    print(f\"Image {i} - Shape: {selected_image_pixels.shape}, Type: {type(selected_image_pixels)}\")\n",
    "\n",
    "    # Calculate the histogram for the selected image\n",
    "    selected_image_histogram = cv2.calcHist([selected_image_pixels], [0], None, [256], [0, 256])\n",
    "\n",
    "    # Normalize the histogram\n",
    "    cv2.normalize(selected_image_histogram, selected_image_histogram, 0, 255, cv2.NORM_MINMAX)\n",
    "\n",
    "    # Save the histogram in the dictionary\n",
    "    histograms_dict[f'selected_image_histogram{i}'] = selected_image_histogram\n",
    "\n",
    "    # Save the histogram as a numpy array\n",
    "    np.save(f'selected_image_histogram{i}.npy', selected_image_histogram)\n",
    "\n",
    "# Optional: Save the dictionary for future reference\n",
    "np.save('histograms_dict.npy', histograms_dict)\n"
   ]
  },
  {
   "cell_type": "code",
   "execution_count": 191,
   "metadata": {},
   "outputs": [],
   "source": [
    "import cv2\n",
    "import numpy as np\n",
    "import pandas as pd\n",
    "# Load your grayscale images dataset\n",
    "x_train = x_train_all.copy()  # Update with your actual file path\n",
    "\n",
    "# Load your class labels\n",
    "y_train = y_train_all.copy() # Update with your actual file path\n",
    "y_train = y_train.rename(columns={y_train.columns[0]:\"label\"})\n",
    "# Load histograms dictionary\n",
    "histograms_dict = np.load('histograms_dict.npy', allow_pickle=True).item()\n",
    "\n",
    "# Create a function for histogram matching\n",
    "def match_histogram(image, target_histogram):\n",
    "    # Convert image to uint8 and reshape if needed\n",
    "    image = np.array(image, dtype=np.uint8).reshape(-1)\n",
    "\n",
    "    # Equalize the image histogram using the target histogram\n",
    "    equalized_image = cv2.LUT(image, target_histogram).reshape(x_train_all.shape[1], -1)\n",
    "\n",
    "    return equalized_image.ravel()\n",
    "\n",
    "# Apply histogram matching for each image in each class\n",
    "matched_datasets = []\n",
    "\n",
    "for class_label in range(10):\n",
    "    class_df = x_train[y_train['label'] == class_label]\n",
    "\n",
    "    matched_images = []\n",
    "\n",
    "    # Get the target histogram for the current class\n",
    "    target_histogram = histograms_dict[f'selected_image_histogram{class_label}'].astype(np.uint8).ravel()\n",
    "\n",
    "    for _, row in class_df.iterrows():\n",
    "        image = row.values\n",
    "        matched_image = match_histogram(image, target_histogram)\n",
    "        matched_images.append(matched_image)\n",
    "\n",
    "    # Concatenate the matched images for the current class\n",
    "    matched_class_df = pd.DataFrame(matched_images)\n",
    "    matched_class_df['label'] = class_label  # Add a label column\n",
    "    matched_datasets.append(matched_class_df)\n",
    "\n",
    "# Concatenate the matched datasets for all classes\n",
    "matched_x_train = pd.concat(matched_datasets, ignore_index=True)\n",
    "\n",
    "# Save the new dataset with matched images\n",
    "matched_x_train.to_csv('matched_x_train.csv', index=False)\n",
    "\n",
    "matched_x_train = matched_x_train.drop(columns=['label'])\n"
   ]
  },
  {
   "cell_type": "code",
   "execution_count": 192,
   "metadata": {},
   "outputs": [],
   "source": [
    "import cv2\n",
    "import numpy as np\n",
    "import pandas as pd\n",
    "# Load your grayscale images dataset\n",
    "x_test = x_test_all.copy()  # Update with your actual file path\n",
    "\n",
    "# Load your class labels\n",
    "y_test = y_test_all.copy() # Update with your actual file path\n",
    "y_test = y_test.rename(columns={y_test.columns[0]:\"label\"})\n",
    "# Load histograms dictionary\n",
    "histograms_dict = np.load('histograms_dict.npy', allow_pickle=True).item()\n",
    "\n",
    "# Create a function for histogram matching\n",
    "def match_histogram(image, target_histogram):\n",
    "    # Convert image to uint8 and reshape if needed\n",
    "    image = np.array(image, dtype=np.uint8).reshape(-1)\n",
    "\n",
    "    # Equalize the image histogram using the target histogram\n",
    "    equalized_image = cv2.LUT(image, target_histogram).reshape(x_train_all.shape[1], -1)\n",
    "\n",
    "    return equalized_image.ravel()\n",
    "\n",
    "# Apply histogram matching for each image in each class\n",
    "matched_datasets = []\n",
    "\n",
    "for class_label in range(10):\n",
    "    class_df = x_test[y_test['label'] == class_label]\n",
    "\n",
    "    matched_images = []\n",
    "\n",
    "    # Get the target histogram for the current class\n",
    "    target_histogram = histograms_dict[f'selected_image_histogram{class_label}'].astype(np.uint8).ravel()\n",
    "\n",
    "    for _, row in class_df.iterrows():\n",
    "        image = row.values\n",
    "        matched_image = match_histogram(image, target_histogram)\n",
    "        matched_images.append(matched_image)\n",
    "\n",
    "    # Concatenate the matched images for the current class\n",
    "    matched_class_df = pd.DataFrame(matched_images)\n",
    "    matched_class_df['label'] = class_label  # Add a label column\n",
    "    matched_datasets.append(matched_class_df)\n",
    "\n",
    "# Concatenate the matched datasets for all classes\n",
    "matched_x_test = pd.concat(matched_datasets, ignore_index=True)\n",
    "\n",
    "# Save the new dataset with matched images\n",
    "matched_x_test.to_csv('matched_x_test.csv', index=False)\n",
    "\n",
    "matched_x_test = matched_x_test.drop(columns=['label'])\n"
   ]
  },
  {
   "cell_type": "code",
   "execution_count": 193,
   "metadata": {},
   "outputs": [
    {
     "name": "stdout",
     "output_type": "stream",
     "text": [
      "Accuracy: 0.19223300970873786\n"
     ]
    }
   ],
   "source": [
    "model = DecisionTreeClassifier() #creating the decision tree model by sklearn\n",
    "accuracycalc(model,matched_x_train,y_train_all,matched_x_test,y_test_all)#calculating the accuracy for the respective datasets mentioned in the markdown"
   ]
  },
  {
   "cell_type": "markdown",
   "metadata": {},
   "source": []
  },
  {
   "attachments": {},
   "cell_type": "markdown",
   "metadata": {},
   "source": [
    "### ACCURACIES\n",
    "#### Raw Data : 0.6860 (68%)\n",
    "#### Preprocessing from part2 : 0.2360 (23%)\n",
    "#### Oversampling : 0.6734 (67%)\n",
    "#### Undersampling : 0.5521 (55%)\n",
    "#### Label encoding : 0.6870 (68%)\n",
    "#### Outlier mining : 0.6896 (68%)\n",
    "#### Normalized : 0.2427 (24%)\n",
    "#### Thresholded : 0.4627 (46%)\n",
    "#### Normalized then thresholded : 0.2427 (24%)\n",
    "#### Thresholded then normalized : 0.4656 (46%)\n",
    "#### Histogram equalized : 0.7427 (74%)\n",
    "#### Sobel operator : \n",
    "#### Histogram Matching :"
   ]
  },
  {
   "attachments": {},
   "cell_type": "markdown",
   "metadata": {},
   "source": [
    "### Hyperparameter Tuning "
   ]
  },
  {
   "attachments": {},
   "cell_type": "markdown",
   "metadata": {},
   "source": [
    "Using GridSearchCV"
   ]
  },
  {
   "cell_type": "code",
   "execution_count": 149,
   "metadata": {},
   "outputs": [],
   "source": [
    "from sklearn.model_selection import GridSearchCV\n",
    "from sklearn.tree import DecisionTreeClassifier\n",
    "\n",
    "def gridsearch(xdata,ydata): #function for doin grid search on given data and labels\n",
    "    param_grid = { #parameters to go through\n",
    "        'max_depth': [None, 10, 20, 30], #list of max depths\n",
    "        'min_samples_split': [2, 5, 10],  #list of min samples split\n",
    "        'min_samples_leaf': [1, 2, 4],   #list of min leaf\n",
    "        'criterion': ['gini', 'entropy']  #list of the criterion\n",
    "    }\n",
    "    dt = DecisionTreeClassifier() #initializing the decison tree classifier \n",
    "\n",
    "    grid_search = GridSearchCV(dt, param_grid, cv=5, scoring='accuracy',n_jobs=5) #initialzing grid search\n",
    "    grid_search.fit(xdata, ydata)  #fitting the data into the grid search\n",
    "\n",
    "    best_params = grid_search.best_params_ #best hyper parameters\n",
    "    best_model = grid_search.best_estimator_ #best model with the best found parameters\n",
    "\n",
    "    return best_model #returns the best model\n"
   ]
  },
  {
   "attachments": {},
   "cell_type": "markdown",
   "metadata": {},
   "source": [
    "Reasons for choosing GridSeachCV :GridSearchCV performs an exhaustive search over a specified hyperparameter grid. It’s beneficial when you have a small number of hyperparameters and want to evaluate every possible combination. "
   ]
  },
  {
   "attachments": {},
   "cell_type": "markdown",
   "metadata": {},
   "source": [
    "Using RandomizedSearchCV"
   ]
  },
  {
   "cell_type": "code",
   "execution_count": 150,
   "metadata": {},
   "outputs": [],
   "source": [
    "from sklearn.model_selection import RandomizedSearchCV\n",
    "from sklearn.tree import DecisionTreeClassifier\n",
    "\n",
    "def randomsearch(xdata,ydata): #function for doin random search on given data and labels\n",
    "    param_dist = { #parameters to go through\n",
    "        'max_depth': [None] + list(range(10, 31)), #list of max depths\n",
    "        'min_samples_split': [2, 5, 10],  #list of min samples split\n",
    "        'min_samples_leaf': [1, 2, 4],    #list of min leaf\n",
    "        'criterion': ['gini', 'entropy']  #list of the criterion\n",
    "    }\n",
    "\n",
    "    dt = DecisionTreeClassifier()#initializing the decison tree classifier \n",
    "\n",
    "    random_search = RandomizedSearchCV(dt, param_distributions=param_dist, n_iter=10, cv=5, scoring='accuracy', random_state=19)#initialzing random search\n",
    "    random_search.fit(xdata, ydata)   #fitting the data into the random search\n",
    "\n",
    "    best_params = random_search.best_params_ #best hyper parameters\n",
    "    best_model = random_search.best_estimator_ #best model with the best found parameters\n",
    "\n",
    "    return best_model #returns the best model\n"
   ]
  },
  {
   "attachments": {},
   "cell_type": "markdown",
   "metadata": {},
   "source": [
    "Reasons for choosing RandomizedSearchCV: RandomizedSearchCV randomly samples hyperparameters from a specified distribution. It's advantageous when the search space is large(which is very true our case with the images), and evaluating every combination isn’t feasible. This method explores the hyperparameter space more efficiently by focusing on a random subset of points, potentially uncovering good configurations faster."
   ]
  },
  {
   "attachments": {},
   "cell_type": "markdown",
   "metadata": {},
   "source": [
    "Using BayesSearchCV"
   ]
  },
  {
   "cell_type": "code",
   "execution_count": 151,
   "metadata": {},
   "outputs": [],
   "source": [
    "from skopt import BayesSearchCV\n",
    "from sklearn.tree import DecisionTreeClassifier\n",
    "\n",
    "def bayesearch(xdata,ydata): #function for doin bayes search on given data and labels\n",
    "    param_space = { #parameters to go through\n",
    "        'max_depth': (2, 30), #range of max depths\n",
    "        'min_samples_leaf': (1, 10), #range of min leaf\n",
    "        'criterion': ['gini', 'entropy'] #list of the criterion\n",
    "    }\n",
    "\n",
    "    dt = DecisionTreeClassifier() #initializing the decison tree classifier \n",
    "\n",
    "    bayes_search = BayesSearchCV(dt, param_space, n_iter=50, cv=5)#initialzing bayes search\n",
    "    bayes_search.fit(xdata, ydata) #fitting the data into the bayes search\n",
    "\n",
    "    best_params = bayes_search.best_params_ #best hyper parameters\n",
    "    best_model = bayes_search.best_estimator_ #best model with the best found parameters\n",
    "    \n",
    "    return best_model #returns the best model\n"
   ]
  },
  {
   "attachments": {},
   "cell_type": "markdown",
   "metadata": {},
   "source": [
    "Reasons for choosing BayesSearchCV :BayesSearchCV employs Bayesian optimization to determine the next hyperparameter values based on the outcomes of previous evaluations. It’s useful when the evaluation of hyperparameters is costly (in terms of time or resources) and aims to find optimal values by leveraging probabilistic modeling. This method adapts the search based on previous results, making it more resource-efficient and suitable for larger search spaces."
   ]
  },
  {
   "attachments": {},
   "cell_type": "markdown",
   "metadata": {},
   "source": [
    "#### We will be applying the above tuning functions on the dataset which gave the most accuracy (histogram equalized) and the next best which are 3 (raw data, outlier mined, label encoded). then we will calculate the accuracies for models produced"
   ]
  },
  {
   "attachments": {},
   "cell_type": "markdown",
   "metadata": {},
   "source": [
    "Raw data"
   ]
  },
  {
   "cell_type": "code",
   "execution_count": 155,
   "metadata": {},
   "outputs": [
    {
     "name": "stdout",
     "output_type": "stream",
     "text": [
      "Accuracy: 0.7304207119741101\n"
     ]
    }
   ],
   "source": [
    "model = gridsearch(x_train_all,y_train_all) #getting the best parameters model given by the search algorithm\n",
    "accuracycalc(model, x_train_all, y_train_all, x_test_all, y_test_all ) #calculating the accuracy on the model found"
   ]
  },
  {
   "cell_type": "code",
   "execution_count": 156,
   "metadata": {},
   "outputs": [
    {
     "name": "stdout",
     "output_type": "stream",
     "text": [
      "Accuracy: 0.7268608414239482\n"
     ]
    }
   ],
   "source": [
    "model = randomsearch(x_train_all,y_train_all) #getting the best parameters model given by the search algorithm\n",
    "accuracycalc(model, x_train_all, y_train_all, x_test_all, y_test_all )#calculating the accuracy on the model found"
   ]
  },
  {
   "cell_type": "code",
   "execution_count": 157,
   "metadata": {},
   "outputs": [
    {
     "name": "stderr",
     "output_type": "stream",
     "text": [
      "/Library/Frameworks/Python.framework/Versions/3.11/lib/python3.11/site-packages/skopt/optimizer/optimizer.py:449: UserWarning: The objective has been evaluated at this point before.\n",
      "  warnings.warn(\"The objective has been evaluated \"\n",
      "/Library/Frameworks/Python.framework/Versions/3.11/lib/python3.11/site-packages/skopt/optimizer/optimizer.py:449: UserWarning: The objective has been evaluated at this point before.\n",
      "  warnings.warn(\"The objective has been evaluated \"\n",
      "/Library/Frameworks/Python.framework/Versions/3.11/lib/python3.11/site-packages/skopt/optimizer/optimizer.py:449: UserWarning: The objective has been evaluated at this point before.\n",
      "  warnings.warn(\"The objective has been evaluated \"\n",
      "/Library/Frameworks/Python.framework/Versions/3.11/lib/python3.11/site-packages/skopt/optimizer/optimizer.py:449: UserWarning: The objective has been evaluated at this point before.\n",
      "  warnings.warn(\"The objective has been evaluated \"\n",
      "/Library/Frameworks/Python.framework/Versions/3.11/lib/python3.11/site-packages/skopt/optimizer/optimizer.py:449: UserWarning: The objective has been evaluated at this point before.\n",
      "  warnings.warn(\"The objective has been evaluated \"\n",
      "/Library/Frameworks/Python.framework/Versions/3.11/lib/python3.11/site-packages/skopt/optimizer/optimizer.py:449: UserWarning: The objective has been evaluated at this point before.\n",
      "  warnings.warn(\"The objective has been evaluated \"\n",
      "/Library/Frameworks/Python.framework/Versions/3.11/lib/python3.11/site-packages/skopt/optimizer/optimizer.py:449: UserWarning: The objective has been evaluated at this point before.\n",
      "  warnings.warn(\"The objective has been evaluated \"\n",
      "/Library/Frameworks/Python.framework/Versions/3.11/lib/python3.11/site-packages/skopt/optimizer/optimizer.py:449: UserWarning: The objective has been evaluated at this point before.\n",
      "  warnings.warn(\"The objective has been evaluated \"\n"
     ]
    },
    {
     "name": "stdout",
     "output_type": "stream",
     "text": [
      "Accuracy: 0.7310679611650486\n"
     ]
    }
   ],
   "source": [
    "model = bayesearch(x_train_all,y_train_all) #getting the best parameters model given by the search algorithm\n",
    "accuracycalc(model, x_train_all, y_train_all, x_test_all, y_test_all ) #calculating the accuracy on the model found"
   ]
  },
  {
   "attachments": {},
   "cell_type": "markdown",
   "metadata": {},
   "source": [
    "Outlier mined"
   ]
  },
  {
   "cell_type": "code",
   "execution_count": 158,
   "metadata": {},
   "outputs": [
    {
     "name": "stdout",
     "output_type": "stream",
     "text": [
      "Accuracy: 0.7093851132686084\n"
     ]
    }
   ],
   "source": [
    "model = gridsearch(x_train_no_outliers,y_train_no_outliers) #getting the best parameters model given by the search algorithm\n",
    "accuracycalc(model,x_train_no_outliers,y_train_no_outliers,x_test_all,y_test_all) #calculating the accuracy on the model found"
   ]
  },
  {
   "cell_type": "code",
   "execution_count": 159,
   "metadata": {},
   "outputs": [
    {
     "name": "stdout",
     "output_type": "stream",
     "text": [
      "Accuracy: 0.7087378640776699\n"
     ]
    }
   ],
   "source": [
    "model = randomsearch(x_train_no_outliers,y_train_no_outliers) #getting the best parameters model given by the search algorithm\n",
    "accuracycalc(model,x_train_no_outliers,y_train_no_outliers,x_test_all,y_test_all) #calculating the accuracy on the model found"
   ]
  },
  {
   "cell_type": "code",
   "execution_count": 160,
   "metadata": {},
   "outputs": [
    {
     "name": "stderr",
     "output_type": "stream",
     "text": [
      "/Library/Frameworks/Python.framework/Versions/3.11/lib/python3.11/site-packages/skopt/optimizer/optimizer.py:449: UserWarning: The objective has been evaluated at this point before.\n",
      "  warnings.warn(\"The objective has been evaluated \"\n",
      "/Library/Frameworks/Python.framework/Versions/3.11/lib/python3.11/site-packages/skopt/optimizer/optimizer.py:449: UserWarning: The objective has been evaluated at this point before.\n",
      "  warnings.warn(\"The objective has been evaluated \"\n",
      "/Library/Frameworks/Python.framework/Versions/3.11/lib/python3.11/site-packages/skopt/optimizer/optimizer.py:449: UserWarning: The objective has been evaluated at this point before.\n",
      "  warnings.warn(\"The objective has been evaluated \"\n",
      "/Library/Frameworks/Python.framework/Versions/3.11/lib/python3.11/site-packages/skopt/optimizer/optimizer.py:449: UserWarning: The objective has been evaluated at this point before.\n",
      "  warnings.warn(\"The objective has been evaluated \"\n"
     ]
    },
    {
     "name": "stdout",
     "output_type": "stream",
     "text": [
      "Accuracy: 0.6980582524271844\n"
     ]
    }
   ],
   "source": [
    "model = bayesearch(x_train_no_outliers,y_train_no_outliers) #getting the best parameters model given by the search algorithm\n",
    "accuracycalc(model,x_train_no_outliers,y_train_no_outliers,x_test_all,y_test_all) #calculating the accuracy on the model found"
   ]
  },
  {
   "attachments": {},
   "cell_type": "markdown",
   "metadata": {},
   "source": [
    "Label encoded"
   ]
  },
  {
   "cell_type": "code",
   "execution_count": 161,
   "metadata": {},
   "outputs": [
    {
     "name": "stdout",
     "output_type": "stream",
     "text": [
      "Accuracy: 0.7216828478964401\n"
     ]
    }
   ],
   "source": [
    "model = gridsearch(completedata_noy,y_train_all) #getting the best parameters model given by the search algorithm\n",
    "accuracycalc(model,completedata_noy,y_train_all,x_test_all,y_test_all) #calculating the accuracy on the model found"
   ]
  },
  {
   "cell_type": "code",
   "execution_count": 162,
   "metadata": {},
   "outputs": [
    {
     "name": "stdout",
     "output_type": "stream",
     "text": [
      "Accuracy: 0.7213592233009709\n"
     ]
    }
   ],
   "source": [
    "model = randomsearch(completedata_noy,y_train_all) #getting the best parameters model given by the search algorithm\n",
    "accuracycalc(model,completedata_noy,y_train_all,x_test_all,y_test_all) #calculating the accuracy on the model found"
   ]
  },
  {
   "cell_type": "code",
   "execution_count": 163,
   "metadata": {},
   "outputs": [
    {
     "name": "stderr",
     "output_type": "stream",
     "text": [
      "/Library/Frameworks/Python.framework/Versions/3.11/lib/python3.11/site-packages/skopt/optimizer/optimizer.py:449: UserWarning: The objective has been evaluated at this point before.\n",
      "  warnings.warn(\"The objective has been evaluated \"\n",
      "/Library/Frameworks/Python.framework/Versions/3.11/lib/python3.11/site-packages/skopt/optimizer/optimizer.py:449: UserWarning: The objective has been evaluated at this point before.\n",
      "  warnings.warn(\"The objective has been evaluated \"\n",
      "/Library/Frameworks/Python.framework/Versions/3.11/lib/python3.11/site-packages/skopt/optimizer/optimizer.py:449: UserWarning: The objective has been evaluated at this point before.\n",
      "  warnings.warn(\"The objective has been evaluated \"\n",
      "/Library/Frameworks/Python.framework/Versions/3.11/lib/python3.11/site-packages/skopt/optimizer/optimizer.py:449: UserWarning: The objective has been evaluated at this point before.\n",
      "  warnings.warn(\"The objective has been evaluated \"\n",
      "/Library/Frameworks/Python.framework/Versions/3.11/lib/python3.11/site-packages/skopt/optimizer/optimizer.py:449: UserWarning: The objective has been evaluated at this point before.\n",
      "  warnings.warn(\"The objective has been evaluated \"\n",
      "/Library/Frameworks/Python.framework/Versions/3.11/lib/python3.11/site-packages/skopt/optimizer/optimizer.py:449: UserWarning: The objective has been evaluated at this point before.\n",
      "  warnings.warn(\"The objective has been evaluated \"\n",
      "/Library/Frameworks/Python.framework/Versions/3.11/lib/python3.11/site-packages/skopt/optimizer/optimizer.py:449: UserWarning: The objective has been evaluated at this point before.\n",
      "  warnings.warn(\"The objective has been evaluated \"\n",
      "/Library/Frameworks/Python.framework/Versions/3.11/lib/python3.11/site-packages/skopt/optimizer/optimizer.py:449: UserWarning: The objective has been evaluated at this point before.\n",
      "  warnings.warn(\"The objective has been evaluated \"\n",
      "/Library/Frameworks/Python.framework/Versions/3.11/lib/python3.11/site-packages/skopt/optimizer/optimizer.py:449: UserWarning: The objective has been evaluated at this point before.\n",
      "  warnings.warn(\"The objective has been evaluated \"\n",
      "/Library/Frameworks/Python.framework/Versions/3.11/lib/python3.11/site-packages/skopt/optimizer/optimizer.py:449: UserWarning: The objective has been evaluated at this point before.\n",
      "  warnings.warn(\"The objective has been evaluated \"\n"
     ]
    },
    {
     "name": "stdout",
     "output_type": "stream",
     "text": [
      "Accuracy: 0.7152103559870551\n"
     ]
    }
   ],
   "source": [
    "model = bayesearch(completedata_noy,y_train_all) #getting the best parameters model given by the search algorithm\n",
    "accuracycalc(model,completedata_noy,y_train_all,x_test_all,y_test_all) #calculating the accuracy on the model found"
   ]
  },
  {
   "attachments": {},
   "cell_type": "markdown",
   "metadata": {},
   "source": [
    "Histogram Equalized"
   ]
  },
  {
   "cell_type": "code",
   "execution_count": 152,
   "metadata": {},
   "outputs": [
    {
     "name": "stdout",
     "output_type": "stream",
     "text": [
      "Accuracy: 0.7951456310679612\n"
     ]
    }
   ],
   "source": [
    "model = gridsearch(equalized_df,y_train_all) #getting the best parameters model given by the search algorithm\n",
    "accuracycalc(model,equalized_df,y_train_all,equalized_df_test,y_test_all)#calculating the accuracy on the model found"
   ]
  },
  {
   "cell_type": "code",
   "execution_count": 153,
   "metadata": {},
   "outputs": [
    {
     "name": "stdout",
     "output_type": "stream",
     "text": [
      "Accuracy: 0.7873786407766991\n"
     ]
    }
   ],
   "source": [
    "model = randomsearch(equalized_df,y_train_all)  #getting the best parameters model given by the search algorithm\n",
    "accuracycalc(model,equalized_df,y_train_all,equalized_df_test,y_test_all) #calculating the accuracy on the model found"
   ]
  },
  {
   "cell_type": "code",
   "execution_count": 154,
   "metadata": {},
   "outputs": [
    {
     "name": "stderr",
     "output_type": "stream",
     "text": [
      "/Library/Frameworks/Python.framework/Versions/3.11/lib/python3.11/site-packages/skopt/optimizer/optimizer.py:449: UserWarning: The objective has been evaluated at this point before.\n",
      "  warnings.warn(\"The objective has been evaluated \"\n",
      "/Library/Frameworks/Python.framework/Versions/3.11/lib/python3.11/site-packages/skopt/optimizer/optimizer.py:449: UserWarning: The objective has been evaluated at this point before.\n",
      "  warnings.warn(\"The objective has been evaluated \"\n",
      "/Library/Frameworks/Python.framework/Versions/3.11/lib/python3.11/site-packages/skopt/optimizer/optimizer.py:449: UserWarning: The objective has been evaluated at this point before.\n",
      "  warnings.warn(\"The objective has been evaluated \"\n",
      "/Library/Frameworks/Python.framework/Versions/3.11/lib/python3.11/site-packages/skopt/optimizer/optimizer.py:449: UserWarning: The objective has been evaluated at this point before.\n",
      "  warnings.warn(\"The objective has been evaluated \"\n",
      "/Library/Frameworks/Python.framework/Versions/3.11/lib/python3.11/site-packages/skopt/optimizer/optimizer.py:449: UserWarning: The objective has been evaluated at this point before.\n",
      "  warnings.warn(\"The objective has been evaluated \"\n"
     ]
    },
    {
     "name": "stdout",
     "output_type": "stream",
     "text": [
      "Accuracy: 0.7844660194174757\n"
     ]
    }
   ],
   "source": [
    "model = bayesearch(equalized_df,y_train_all) #getting the best parameters model given by the search algorithm\n",
    "accuracycalc(model,equalized_df,y_train_all,equalized_df_test,y_test_all) #calculating the accuracy on the model found"
   ]
  },
  {
   "attachments": {},
   "cell_type": "markdown",
   "metadata": {},
   "source": [
    "Kfold on the best datasets"
   ]
  },
  {
   "cell_type": "code",
   "execution_count": 172,
   "metadata": {},
   "outputs": [
    {
     "name": "stdout",
     "output_type": "stream",
     "text": [
      "Train: 8721 Validation: 969\n",
      "Confusion Matrix:\n",
      " [[ 21   1   3   1   1   0   0   0   0   0]\n",
      " [  7 185  14   3   8   1   1   0   1   1]\n",
      " [  1  13 192   7   8   0   1   2   2   2]\n",
      " [  1   3   9 123   2   0   0   2   0   2]\n",
      " [  0  11   4   0 181   1   0   0   1   0]\n",
      " [  0   1   5   0   2  18   0   1   0   1]\n",
      " [  1   1   0   1   1   0  28   0   1   1]\n",
      " [  0   2   0   1   1   0   2  19   0   0]\n",
      " [  0   0   2   1   1   0   1   0  32   0]\n",
      " [  0   2   1   1   0   0   0   0   1  24]]\n",
      "Train: 8721 Validation: 969\n",
      "Confusion Matrix:\n",
      " [[ 16   2   0   0   0   1   0   0   0   0]\n",
      " [  2 186  16   5  14   1   2   0   3   1]\n",
      " [  0  18 194   6   8   2   0   1   0   0]\n",
      " [  0   4   9 128   2   0   1   1   1   0]\n",
      " [  1  12   8   2 168   0   3   0   0   0]\n",
      " [  0   0   1   0   3  11   0   1   0   0]\n",
      " [  0   0   2   0   2   0  30   0   1   0]\n",
      " [  2   0   0   0   2   1   1  16   0   0]\n",
      " [  0   1   2   3   0   0   2   0  46   0]\n",
      " [  0   3   4   1   0   0   1   0   1  14]]\n",
      "Train: 8721 Validation: 969\n",
      "Confusion Matrix:\n",
      " [[ 13   3   2   1   9   0   0   0   0   1]\n",
      " [  6 177  15   3  10   1   1   0   1   0]\n",
      " [  1  22 178   4   8   1   1   4   1   1]\n",
      " [  0   3   4 118   4   0   4   2   2   1]\n",
      " [  1  12   5   4 168   1   1   1   1   1]\n",
      " [  0   1   1   0   0  23   0   0   0   2]\n",
      " [  1   0   3   2   0   1  21   1   2   0]\n",
      " [  0   1   0   2   1   1   1  12   0   0]\n",
      " [  0   3   4   0   1   2   3   0  52   2]\n",
      " [  1   0   1   1   1   0   0   2   2  21]]\n",
      "Train: 8721 Validation: 969\n",
      "Confusion Matrix:\n",
      " [[ 12   1   0   0   2   0   0   0   0   0]\n",
      " [  4 207  19   2   8   1   0   3   4   1]\n",
      " [  2  13 192   6  13   1   2   0   2   2]\n",
      " [  0   3  10 113   4   0   1   0   2   1]\n",
      " [  4   4  14   0 145   0   1   0   0   0]\n",
      " [  0   0   0   1   2  19   1   1   1   0]\n",
      " [  0   2   1   3   0   1  27   2   2   4]\n",
      " [  1   3   1   1   0   0   2  20   0   0]\n",
      " [  0   0   2   0   0   2   1   0  41   1]\n",
      " [  0   1   4   0   0   1   1   2   2  17]]\n",
      "Train: 8721 Validation: 969\n",
      "Confusion Matrix:\n",
      " [[ 12   1   0   0   2   0   0   0   0   0]\n",
      " [  7 202   9   7   4   4   2   3   3   1]\n",
      " [  0  15 169   3   8   4   0   2   2   0]\n",
      " [  0   7   9 132   2   0   4   0   2   6]\n",
      " [  1  15  12   3 158   1   0   1   2   1]\n",
      " [  0   0   1   2   0   9   1   0   1   1]\n",
      " [  0   1   2   3   2   0  26   0   0   2]\n",
      " [  0   0   0   0   1   0   0  20   0   2]\n",
      " [  1   1   2   3   3   2   0   1  41   1]\n",
      " [  0   1   2   1   1   0   0   0   0  19]]\n",
      "Train: 8721 Validation: 969\n",
      "Confusion Matrix:\n",
      " [[ 18   1   2   4   4   0   0   0   0   0]\n",
      " [  3 153  14   1   8   0   0   0   1   0]\n",
      " [  0  12 201   7  19   1   1   1   2   0]\n",
      " [  0   3  12 121   2   1   4   0   0   1]\n",
      " [  1  13   5   5 175   1   0   1   1   0]\n",
      " [  0   1   0   1   0  15   0   0   0   1]\n",
      " [  0   4   2   2   0   0  30   0   2   1]\n",
      " [  0   2   0   0   0   1   0  25   0   0]\n",
      " [  2   2   2   1   0   0   0   1  49   1]\n",
      " [  0   1   1   1   2   0   1   0   0  19]]\n",
      "Train: 8721 Validation: 969\n",
      "Confusion Matrix:\n",
      " [[ 13   4   1   1   0   0   0   1   0   1]\n",
      " [  2 181  24   3  10   1   2   0   2   1]\n",
      " [  2  17 175   7  10   1   2   1   3   1]\n",
      " [  0   2   8 117   2   1   1   1   0   0]\n",
      " [  2   5   5   4 178   0   3   3   0   0]\n",
      " [  0   2   0   1   1  15   0   0   0   0]\n",
      " [  1   1   1   2   0   1  27   0   3   1]\n",
      " [  0   0   1   0   1   1   0  21   0   0]\n",
      " [  1   2   1   1   2   0   2   0  45   3]\n",
      " [  1   0   1   1   0   1   1   3   0  26]]\n",
      "Train: 8721 Validation: 969\n",
      "Confusion Matrix:\n",
      " [[  7   3   0   1   1   0   0   0   0   0]\n",
      " [  2 180  14   3  10   0   0   2   2   2]\n",
      " [  2  15 179   6   8   0   1   3   2   0]\n",
      " [  2   4   5 117   1   0   1   1   0   2]\n",
      " [  3  12   8   5 194   0   0   0   0   0]\n",
      " [  0   0   1   3   2  16   0   0   0   0]\n",
      " [  0   3   3   0   0   1  29   0   4   1]\n",
      " [  0   0   1   1   1   0   1  13   3   0]\n",
      " [  1   1   1   1   1   2   0   0  46   2]\n",
      " [  1   3   0   2   1   0   0   0   2  24]]\n",
      "Train: 8721 Validation: 969\n",
      "Confusion Matrix:\n",
      " [[ 19   0   0   0   2   0   0   2   0   0]\n",
      " [  3 192  23   4  12   0   1   2   1   0]\n",
      " [  0  11 194  10   9   2   1   1   3   2]\n",
      " [  0   3   4 113   2   0   2   0   0   0]\n",
      " [  1   9   7   4 161   1   2   0   1   0]\n",
      " [  0   0   0   0   0  17   1   0   1   1]\n",
      " [  0   0   0   1   1   0  33   1   1   0]\n",
      " [  0   0   0   1   0   0   1  27   1   0]\n",
      " [  2   4   4   4   0   0   2   0  36   3]\n",
      " [  1   1   0   1   0   0   0   0   3  17]]\n",
      "Train: 8721 Validation: 969\n",
      "Confusion Matrix:\n",
      " [[ 17   1   1   0   1   0   0   0   0   0]\n",
      " [  0 174   8   7   7   2   0   2   2   3]\n",
      " [  1  16 178  13   8   0   2   2   2   2]\n",
      " [  2   7   4 133   4   0   4   0   1   0]\n",
      " [  3   9   6   3 195   1   2   1   0   1]\n",
      " [  0   0   1   1   0  15   0   2   1   0]\n",
      " [  0   0   0   0   1   0  24   0   1   0]\n",
      " [  0   1   1   1   0   1   1  16   0   1]\n",
      " [  1   2   2   1   2   3   2   1  40   1]\n",
      " [  0   0   2   1   1   0   1   0   0  16]]\n",
      "Average Accuracy: 0.8278637770897832\n",
      "Average Precision: 0.8303887112685958\n",
      "Average Recall: 0.8278637770897832\n",
      "Average F1: 0.8280511350428018\n"
     ]
    }
   ],
   "source": [
    "kfold_10(x_train_all,y_train_all)"
   ]
  },
  {
   "cell_type": "code",
   "execution_count": 173,
   "metadata": {},
   "outputs": [
    {
     "name": "stdout",
     "output_type": "stream",
     "text": [
      "Train: 8633 Validation: 960\n",
      "Confusion Matrix:\n",
      " [[ 22   2   2   0   1   0   0   0   0   0]\n",
      " [  3 174  14   7   8   0   3   1   1   0]\n",
      " [  1  22 170   8  11   1   2   2   4   1]\n",
      " [  0   4  15 105   6   0   2   0   0   1]\n",
      " [  2  10  11   1 174   1   1   0   1   0]\n",
      " [  0   0   1   1   1  13   0   3   1   2]\n",
      " [  0   0   0   3   1   0  25   0   2   0]\n",
      " [  0   1   1   0   1   0   1  16   2   0]\n",
      " [  2   0   1   2   0   1   2   2  46   1]\n",
      " [  0   0   4   0   0   0   0   1   1  28]]\n",
      "Train: 8633 Validation: 960\n",
      "Confusion Matrix:\n",
      " [[ 13   4   0   1   0   0   0   0   0   0]\n",
      " [  5 193  16   5   8   2   1   1   1   0]\n",
      " [  1  13 198   7  11   1   0   2   2   0]\n",
      " [  1   2   6 120   6   0   3   0   0   1]\n",
      " [  2   6  16   3 163   0   0   0   0   0]\n",
      " [  0   1   2   0   0  14   1   0   0   1]\n",
      " [  0   0   1   1   0   0  29   0   1   1]\n",
      " [  0   1   3   0   1   0   0  18   0   0]\n",
      " [  0   0   0   2   2   0   1   1  42   2]\n",
      " [  0   1   2   3   1   0   0   0   1  13]]\n",
      "Train: 8633 Validation: 960\n",
      "Confusion Matrix:\n",
      " [[ 21   4   1   0   4   0   0   0   0   0]\n",
      " [  5 167  13   4   5   2   2   3   2   0]\n",
      " [  1  16 181   4  14   3   3   1   2   0]\n",
      " [  2   4  12 128   1   1   3   0   1   1]\n",
      " [  1   9  12   3 160   2   0   3   1   0]\n",
      " [  0   1   1   0   0  22   0   2   0   2]\n",
      " [  0   0   1   3   0   1  24   0   1   1]\n",
      " [  0   0   1   0   1   0   0  25   2   1]\n",
      " [  2   2   0   0   0   1   1   0  40   1]\n",
      " [  0   0   0   1   0   1   2   0   1  17]]\n",
      "Train: 8634 Validation: 959\n",
      "Confusion Matrix:\n",
      " [[ 11   2   0   0   1   0   0   0   1   0]\n",
      " [  2 214  26  10   9   1   0   1   1   0]\n",
      " [  1  13 170  10  11   2   2   0   1   1]\n",
      " [  0   1   8 115   1   1   0   0   2   1]\n",
      " [  2   7   6   4 150   0   0   1   0   0]\n",
      " [  2   1   2   1   1  14   0   1   0   0]\n",
      " [  1   0   1   3   3   0  28   1   0   1]\n",
      " [  1   1   1   1   1   0   2  23   2   0]\n",
      " [  0   0   5   2   1   0   2   0  39   3]\n",
      " [  0   3   2   2   2   0   0   2   2  13]]\n",
      "Train: 8634 Validation: 959\n",
      "Confusion Matrix:\n",
      " [[ 12   2   1   0   0   0   0   0   1   0]\n",
      " [  0 187  14   4  10   1   2   2   1   1]\n",
      " [  1  13 181  17  12   1   1   1   0   1]\n",
      " [  0   2   7 139   3   0   0   2   0   1]\n",
      " [  1   9  10   1 164   2   2   0   1   0]\n",
      " [  0   1   0   1   0  13   0   1   0   0]\n",
      " [  1   0   3   1   1   0  25   0   4   0]\n",
      " [  0   2   0   0   1   1   1  15   0   0]\n",
      " [  0   2   4   2   2   0   1   1  44   1]\n",
      " [  0   0   0   1   0   1   1   0   0  18]]\n",
      "Train: 8634 Validation: 959\n",
      "Confusion Matrix:\n",
      " [[ 22   2   2   1   2   0   0   1   0   0]\n",
      " [  3 148  14   2   7   0   1   2   0   0]\n",
      " [  0  14 208   6  12   1   1   1   2   0]\n",
      " [  0  14  12 111   4   0   0   0   0   2]\n",
      " [  3   8   7   2 183   2   0   1   0   1]\n",
      " [  0   1   1   0   0  18   0   0   0   0]\n",
      " [  0   3   1   3   0   0  33   0   4   1]\n",
      " [  0   1   2   1   0   0   0  21   1   1]\n",
      " [  0   1   0   3   1   0   1   1  32   3]\n",
      " [  0   1   0   1   2   0   0   0   1  18]]\n",
      "Train: 8634 Validation: 959\n",
      "Confusion Matrix:\n",
      " [[ 12   2   2   2   1   0   0   0   0   0]\n",
      " [  5 181  21   4   9   0   1   0   3   2]\n",
      " [  0   7 180  12   4   0   1   0   1   3]\n",
      " [  1   7   8 120   4   1   0   0   0   0]\n",
      " [  4   8  12   1 182   1   0   0   0   0]\n",
      " [  0   0   0   0   0  13   0   1   0   2]\n",
      " [  0   0   2   0   2   0  27   1   2   0]\n",
      " [  0   1   0   1   0   0   0  16   1   1]\n",
      " [  0   0   1   1   1   0   0   0  49   3]\n",
      " [  0   3   0   1   1   1   3   0   1  22]]\n",
      "Train: 8634 Validation: 959\n",
      "Confusion Matrix:\n",
      " [[ 12   1   0   0   0   0   0   0   0   0]\n",
      " [  1 170  22   7   7   0   0   2   1   1]\n",
      " [  1  15 170   5   9   2   3   1   1   2]\n",
      " [  0   5   6 103   9   0   0   0   5   3]\n",
      " [  2  10  10   2 195   1   0   1   0   2]\n",
      " [  0   0   2   1   0  16   0   1   1   0]\n",
      " [  0   2   1   0   2   0  30   2   0   1]\n",
      " [  0   0   0   0   1   0   0  19   0   1]\n",
      " [  0   2   3   0   1   0   1   0  44   1]\n",
      " [  1   4   1   3   0   2   2   0   0  27]]\n",
      "Train: 8634 Validation: 959\n",
      "Confusion Matrix:\n",
      " [[ 15   3   2   0   2   0   0   0   0   0]\n",
      " [  5 196  20   6  10   0   2   0   3   0]\n",
      " [  0  18 194   4   7   1   1   4   1   2]\n",
      " [  0   4   6  98   2   0   3   0   0   1]\n",
      " [  0   7   9   1 154   1   1   0   0   0]\n",
      " [  0   1   2   1   0  15   0   1   0   0]\n",
      " [  0   1   1   1   0   0  40   2   2   1]\n",
      " [  0   0   2   1   1   0   1  20   1   0]\n",
      " [  0   1   0   0   1   0   0   1  51   1]\n",
      " [  0   0   0   2   0   1   0   1   1  22]]\n",
      "Train: 8634 Validation: 959\n",
      "Confusion Matrix:\n",
      " [[ 15   0   0   0   4   0   0   1   0   0]\n",
      " [  3 179  13   3   6   0   0   0   0   0]\n",
      " [  0  15 179  10  10   2   2   0   0   0]\n",
      " [  1   5   6 139   3   1   4   0   0   1]\n",
      " [  0   4   3   2 204   0   1   0   1   0]\n",
      " [  0   0   0   0   2  15   3   0   3   1]\n",
      " [  0   1   1   2   0   0  18   1   1   1]\n",
      " [  0   0   0   0   0   1   1  16   1   0]\n",
      " [  0   2   1   2   0   3   1   1  43   1]\n",
      " [  0   1   0   1   3   0   0   0   0  15]]\n",
      "Average Accuracy: 0.8283149765380605\n",
      "Average Precision: 0.8299949042795849\n",
      "Average Recall: 0.8283149765380605\n",
      "Average F1: 0.828304481217622\n"
     ]
    }
   ],
   "source": [
    "kfold_10(x_train_no_outliers,y_train_no_outliers)"
   ]
  },
  {
   "cell_type": "code",
   "execution_count": 174,
   "metadata": {},
   "outputs": [
    {
     "name": "stdout",
     "output_type": "stream",
     "text": [
      "Train: 8721 Validation: 969\n",
      "Confusion Matrix:\n",
      " [[ 23   2   0   1   1   0   0   0   0   0]\n",
      " [  3 183  16   4  10   1   0   2   0   2]\n",
      " [  0  18 189   6   8   1   2   2   0   2]\n",
      " [  1   3   6 124   4   0   1   0   2   1]\n",
      " [  0  12   4   0 179   0   1   2   0   0]\n",
      " [  0   0   2   1   1  20   1   1   0   2]\n",
      " [  1   1   0   0   2   0  29   0   1   0]\n",
      " [  0   1   3   0   0   0   1  20   0   0]\n",
      " [  0   1   1   0   0   0   1   0  32   2]\n",
      " [  1   1   1   1   1   2   0   0   0  22]]\n",
      "Train: 8721 Validation: 969\n",
      "Confusion Matrix:\n",
      " [[ 17   1   0   0   1   0   0   0   0   0]\n",
      " [  1 193  12   5  13   3   2   1   0   0]\n",
      " [  1  18 195   4   5   2   2   1   1   0]\n",
      " [  0   5  10 128   2   0   0   0   1   0]\n",
      " [  1   7  10   4 169   0   2   0   1   0]\n",
      " [  0   0   0   0   0  13   0   1   1   1]\n",
      " [  0   0   2   1   2   0  29   0   1   0]\n",
      " [  1   0   2   1   2   1   0  12   2   1]\n",
      " [  0   1   1   3   0   1   1   1  45   1]\n",
      " [  0   4   1   0   0   0   1   0   2  16]]\n",
      "Train: 8721 Validation: 969\n",
      "Confusion Matrix:\n",
      " [[ 13   2   1   4   8   0   0   0   0   1]\n",
      " [  4 171  21   6   6   1   0   1   1   3]\n",
      " [  2  23 176   3  12   1   0   2   1   1]\n",
      " [  0   3   6 117   5   1   1   0   3   2]\n",
      " [  0   9   6   5 173   2   0   0   0   0]\n",
      " [  0   0   1   0   0  23   1   0   0   2]\n",
      " [  0   0   2   3   0   0  24   2   0   0]\n",
      " [  0   2   0   1   0   1   0  14   0   0]\n",
      " [  0   2   5   0   1   2   3   1  53   0]\n",
      " [  0   2   0   3   0   0   1   2   2  19]]\n",
      "Train: 8721 Validation: 969\n",
      "Confusion Matrix:\n",
      " [[ 11   3   0   0   1   0   0   0   0   0]\n",
      " [  3 207  18   5  12   0   0   2   2   0]\n",
      " [  4  17 186   8  13   0   1   0   3   1]\n",
      " [  1   2   6 116   5   0   3   0   0   1]\n",
      " [  2   7   9   1 148   0   0   1   0   0]\n",
      " [  0   0   0   1   1  22   1   0   0   0]\n",
      " [  1   2   3   1   0   1  26   2   2   4]\n",
      " [  0   1   1   0   1   1   1  21   2   0]\n",
      " [  0   0   3   0   0   1   1   2  39   1]\n",
      " [  0   1   1   0   0   0   2   1   4  19]]\n",
      "Train: 8721 Validation: 969\n",
      "Confusion Matrix:\n",
      " [[ 12   1   0   0   2   0   0   0   0   0]\n",
      " [  5 196  12  10   9   2   3   3   0   2]\n",
      " [  0  12 172   5   8   3   1   1   1   0]\n",
      " [  0  10  11 130   2   1   2   0   1   5]\n",
      " [  1  11  12   2 163   1   0   0   2   2]\n",
      " [  0   1   1   2   1   8   0   1   0   1]\n",
      " [  0   2   1   3   2   0  27   0   1   0]\n",
      " [  0   0   1   1   0   0   0  19   0   2]\n",
      " [  0   1   1   3   4   2   1   2  41   0]\n",
      " [  0   0   2   2   1   0   0   1   0  18]]\n",
      "Train: 8721 Validation: 969\n",
      "Confusion Matrix:\n",
      " [[ 19   2   2   3   3   0   0   0   0   0]\n",
      " [  1 149  16   4   6   0   1   1   1   1]\n",
      " [  1  13 200  10  16   0   0   2   2   0]\n",
      " [  1   2   9 124   2   1   3   0   1   1]\n",
      " [  1  11   5   2 179   2   0   0   0   2]\n",
      " [  0   3   1   1   0  13   0   0   0   0]\n",
      " [  1   2   4   1   0   1  29   1   2   0]\n",
      " [  0   3   0   0   0   0   0  25   0   0]\n",
      " [  1   2   1   0   0   0   2   1  51   0]\n",
      " [  0   1   1   1   1   0   2   0   0  19]]\n",
      "Train: 8721 Validation: 969\n",
      "Confusion Matrix:\n",
      " [[ 15   3   0   0   2   0   0   0   1   0]\n",
      " [  2 185  21   6   8   1   1   1   1   0]\n",
      " [  1  20 176   7   7   1   2   4   0   1]\n",
      " [  1   4   7 114   1   2   2   1   0   0]\n",
      " [  4   4   6   2 177   1   1   4   1   0]\n",
      " [  0   1   0   1   0  16   0   1   0   0]\n",
      " [  0   1   0   0   0   1  30   0   3   2]\n",
      " [  0   0   2   0   0   1   0  21   0   0]\n",
      " [  1   4   0   1   1   0   4   0  45   1]\n",
      " [  0   1   0   3   0   1   0   2   1  26]]\n",
      "Train: 8721 Validation: 969\n",
      "Confusion Matrix:\n",
      " [[  7   3   0   0   2   0   0   0   0   0]\n",
      " [  2 179  14   5  12   0   0   2   0   1]\n",
      " [  2  14 177   8   7   1   1   2   1   3]\n",
      " [  0   4   6 115   0   0   1   1   4   2]\n",
      " [  2  10   8   6 192   1   0   1   1   1]\n",
      " [  0   2   2   1   3  12   0   0   2   0]\n",
      " [  0   3   4   0   0   0  30   0   3   1]\n",
      " [  0   0   2   0   0   0   2  12   4   0]\n",
      " [  0   0   2   1   0   0   0   0  49   3]\n",
      " [  1   1   0   2   1   1   0   1   0  26]]\n",
      "Train: 8721 Validation: 969\n",
      "Confusion Matrix:\n",
      " [[ 19   0   0   1   2   0   0   0   1   0]\n",
      " [  1 197  19   6   9   1   3   0   1   1]\n",
      " [  1   9 199  11   7   1   0   0   3   2]\n",
      " [  0   7   4 108   1   0   3   0   1   0]\n",
      " [  3   8   6   3 162   1   2   1   0   0]\n",
      " [  0   0   0   0   0  18   0   0   1   1]\n",
      " [  0   0   0   1   1   0  34   0   0   1]\n",
      " [  0   0   0   1   0   0   3  24   1   1]\n",
      " [  2   2   2   6   1   1   2   1  37   1]\n",
      " [  0   1   0   1   0   0   0   0   4  17]]\n",
      "Train: 8721 Validation: 969\n",
      "Confusion Matrix:\n",
      " [[ 17   1   1   0   1   0   0   0   0   0]\n",
      " [  2 167  14   8   9   2   0   0   1   2]\n",
      " [  1  16 180  11  12   0   2   0   2   0]\n",
      " [  2   6   5 131   6   0   2   1   1   1]\n",
      " [  3   9   7   3 196   0   1   0   0   2]\n",
      " [  0   0   2   0   0  16   0   0   1   1]\n",
      " [  0   0   0   0   0   1  24   0   1   0]\n",
      " [  0   1   0   1   0   1   1  16   0   2]\n",
      " [  0   1   4   1   3   2   2   0  41   1]\n",
      " [  2   0   1   1   0   0   1   0   0  16]]\n",
      "Average Accuracy: 0.8289989680082559\n",
      "Average Precision: 0.8310935225789231\n",
      "Average Recall: 0.8289989680082559\n",
      "Average F1: 0.8290068868544044\n"
     ]
    }
   ],
   "source": [
    "kfold_10(completedata_noy,y_train_all)"
   ]
  },
  {
   "cell_type": "code",
   "execution_count": 175,
   "metadata": {},
   "outputs": [
    {
     "name": "stdout",
     "output_type": "stream",
     "text": [
      "Train: 8721 Validation: 969\n",
      "Confusion Matrix:\n",
      " [[ 19   2   2   1   1   0   1   0   0   1]\n",
      " [  2 183  11   6  11   0   5   1   2   0]\n",
      " [  0  10 196   9   6   0   3   0   3   1]\n",
      " [  1   4  11 116   5   0   1   0   3   1]\n",
      " [  5  11   5   1 172   1   0   1   2   0]\n",
      " [  0   1   0   4   1  20   0   0   2   0]\n",
      " [  0   1   0   4   1   0  24   0   4   0]\n",
      " [  0   0   0   2   1   2   0  20   0   0]\n",
      " [  1   1   0   0   2   1   0   1  30   1]\n",
      " [  0   0   2   2   0   0   2   0   1  22]]\n",
      "Train: 8721 Validation: 969\n",
      "Confusion Matrix:\n",
      " [[ 12   3   3   0   1   0   0   0   0   0]\n",
      " [  3 197  11   2  13   1   1   0   1   1]\n",
      " [  1  16 195  11   5   0   0   1   0   0]\n",
      " [  2   4  13 119   3   1   0   0   2   2]\n",
      " [  1   7   3   2 179   1   1   0   0   0]\n",
      " [  0   0   1   0   0  15   0   0   0   0]\n",
      " [  0   1   1   0   0   2  27   0   2   2]\n",
      " [  0   1   2   1   0   2   1  15   0   0]\n",
      " [  1   1   0   3   0   1   2   2  40   4]\n",
      " [  0   0   0   2   0   0   1   1   2  18]]\n",
      "Train: 8721 Validation: 969\n",
      "Confusion Matrix:\n",
      " [[ 18   2   0   1   5   0   1   0   2   0]\n",
      " [  3 187  10   6   5   1   0   0   1   1]\n",
      " [  1  11 189  10   4   0   2   0   2   2]\n",
      " [  0   3   7 115   7   1   1   1   1   2]\n",
      " [  0  10   8   1 175   1   0   0   0   0]\n",
      " [  0   0   2   1   1  21   0   1   0   1]\n",
      " [  0   1   1   1   0   1  24   0   3   0]\n",
      " [  0   1   0   1   1   0   2  13   0   0]\n",
      " [  1   1   2   1   0   2   4   2  50   4]\n",
      " [  1   2   0   1   1   1   1   0   2  20]]\n",
      "Train: 8721 Validation: 969\n",
      "Confusion Matrix:\n",
      " [[  9   4   1   0   0   0   0   1   0   0]\n",
      " [  1 208  20   7  11   0   1   0   0   1]\n",
      " [  1  20 195  10   4   1   1   0   1   0]\n",
      " [  2   5  10 103   2   0   6   1   3   2]\n",
      " [  1   9   6   0 151   1   0   0   0   0]\n",
      " [  0   0   3   0   0  16   1   1   2   2]\n",
      " [  0   0   3   0   1   1  33   0   3   1]\n",
      " [  0   1   0   1   0   0   2  24   0   0]\n",
      " [  0   0   2   0   0   0   2   1  39   3]\n",
      " [  1   0   0   3   0   0   1   0   3  20]]\n",
      "Train: 8721 Validation: 969\n",
      "Confusion Matrix:\n",
      " [[ 11   2   0   1   1   0   0   0   0   0]\n",
      " [  3 195  25   4  10   1   2   1   0   1]\n",
      " [  1  11 177   6   3   1   4   0   0   0]\n",
      " [  1   6  10 132   2   1   3   2   0   5]\n",
      " [  1  10   7   5 170   0   0   0   1   0]\n",
      " [  0   1   0   2   0  11   0   0   0   1]\n",
      " [  0   1   2   2   2   1  24   2   1   1]\n",
      " [  0   1   0   1   1   0   0  17   2   1]\n",
      " [  0   0   0   2   0   1   5   2  44   1]\n",
      " [  2   0   2   3   1   0   1   1   0  14]]\n",
      "Train: 8721 Validation: 969\n",
      "Confusion Matrix:\n",
      " [[ 21   4   1   0   0   0   0   0   3   0]\n",
      " [  1 154  10   5   6   0   1   0   2   1]\n",
      " [  4  15 200   9  10   1   1   0   0   4]\n",
      " [  0   5  10 123   3   1   1   0   1   0]\n",
      " [  1   6   5   1 185   2   0   1   1   0]\n",
      " [  0   0   0   0   1  14   1   0   1   1]\n",
      " [  1   0   1   2   0   0  33   2   2   0]\n",
      " [  0   1   2   0   0   0   1  23   1   0]\n",
      " [  1   0   2   4   1   0   4   0  44   2]\n",
      " [  0   1   4   1   1   0   0   0   2  16]]\n",
      "Train: 8721 Validation: 969\n",
      "Confusion Matrix:\n",
      " [[ 14   2   0   2   3   0   0   0   0   0]\n",
      " [  0 197  11   5   5   0   2   5   1   0]\n",
      " [  0  11 180  14  11   0   2   0   1   0]\n",
      " [  0   2  10 112   2   2   3   0   0   1]\n",
      " [  0  13   5   3 177   0   1   0   1   0]\n",
      " [  0   1   0   1   0  15   1   0   1   0]\n",
      " [  0   1   2   4   0   0  27   0   1   2]\n",
      " [  0   1   1   0   0   1   1  19   1   0]\n",
      " [  1   0   0   0   0   1   2   1  52   0]\n",
      " [  0   0   0   2   2   0   2   1   7  20]]\n",
      "Train: 8721 Validation: 969\n",
      "Confusion Matrix:\n",
      " [[ 12   0   0   0   0   0   0   0   0   0]\n",
      " [  2 172  15   4  16   0   3   0   0   3]\n",
      " [  0   8 190   6   6   0   1   1   1   3]\n",
      " [  3   7   7 110   3   0   1   1   0   1]\n",
      " [  2  10   6   4 198   0   0   0   1   1]\n",
      " [  0   0   0   0   1  17   3   0   0   1]\n",
      " [  0   0   2   2   2   0  32   0   1   2]\n",
      " [  0   0   0   0   0   0   1  18   0   1]\n",
      " [  0   4   2   2   1   2   4   1  38   1]\n",
      " [  0   1   1   3   1   3   1   0   4  19]]\n",
      "Train: 8721 Validation: 969\n",
      "Confusion Matrix:\n",
      " [[ 16   3   1   1   2   0   0   0   0   0]\n",
      " [  3 197  16   6  14   0   0   0   2   0]\n",
      " [  2  13 197  12   6   1   0   1   1   0]\n",
      " [  2   3  13 105   1   0   0   0   0   0]\n",
      " [  0   8   6   8 162   1   1   0   0   0]\n",
      " [  0   0   1   0   0  19   0   0   0   0]\n",
      " [  0   3   0   2   0   3  21   2   5   1]\n",
      " [  0   1   0   1   0   1   0  25   1   1]\n",
      " [  0   2   0   1   1   3   2   1  43   2]\n",
      " [  0   3   0   2   0   0   2   0   4  12]]\n",
      "Train: 8721 Validation: 969\n",
      "Confusion Matrix:\n",
      " [[ 14   3   1   0   2   0   0   0   0   0]\n",
      " [  4 171   7   9   9   0   1   2   1   1]\n",
      " [  0  15 192   5   9   2   1   0   0   0]\n",
      " [  0   5  12 129   4   1   2   1   1   0]\n",
      " [  2   7  13   2 194   2   0   0   0   1]\n",
      " [  0   0   0   1   2  13   1   1   1   1]\n",
      " [  0   1   0   1   0   0  23   0   0   1]\n",
      " [  1   0   0   2   0   2   1  14   1   1]\n",
      " [  0   3   0   1   1   0   3   1  46   0]\n",
      " [  0   1   1   0   0   0   0   1   2  16]]\n",
      "Average Accuracy: 0.8323013415892673\n",
      "Average Precision: 0.8340411786994067\n",
      "Average Recall: 0.8323013415892673\n",
      "Average F1: 0.8321758139709404\n"
     ]
    }
   ],
   "source": [
    "kfold_10(equalized_df,y_train_all)"
   ]
  },
  {
   "attachments": {},
   "cell_type": "markdown",
   "metadata": {},
   "source": [
    "### The Moving 30% and 60% data from training data and apllying the above"
   ]
  },
  {
   "cell_type": "code",
   "execution_count": 176,
   "metadata": {},
   "outputs": [],
   "source": [
    "import numpy as np\n",
    "# x,y_train/test_data needs to be in DataFrame type\n",
    "def doMove(percent, X_train_data ,y_train_data ,X_test_data, y_test_data):\n",
    "\n",
    "    num_datapoints = (percent * len(X_train_data))/100\n",
    "    random_order = np.arange(len(X_train_data))\n",
    "    np.random.shuffle(random_order)\n",
    "    \n",
    "    randomized_data  = np.array(X_train_data)[random_order]\n",
    "    randomized_labels = np.array(y_train_data)[random_order]\n",
    "\n",
    "    moved_test_data = randomized_data[:int(num_datapoints)]\n",
    "    moved_test_labels = randomized_labels[:int(num_datapoints)]\n",
    "\n",
    "    \n",
    "    new_test_data = np.concatenate([np.array(X_test_data),moved_test_data])\n",
    "    \n",
    "    new_test_labels = np.concatenate([np.array(y_test_data),moved_test_labels])\n",
    "\n",
    "    new_train_data = randomized_data[int(num_datapoints):]\n",
    "    new_train_labels = randomized_labels[int(num_datapoints):]\n",
    "    \n",
    "\n",
    "    \n",
    "    return pd.DataFrame(new_train_data),pd.DataFrame(new_train_labels),pd.DataFrame(new_test_data),pd.DataFrame(new_test_labels)"
   ]
  },
  {
   "attachments": {},
   "cell_type": "markdown",
   "metadata": {},
   "source": [
    "we will be applying the 30% and 60% move on the raw data and the histogram equilized data"
   ]
  },
  {
   "attachments": {},
   "cell_type": "markdown",
   "metadata": {},
   "source": [
    "Rawdata"
   ]
  },
  {
   "cell_type": "code",
   "execution_count": 177,
   "metadata": {},
   "outputs": [],
   "source": [
    "X30,y30,Xt30,yt30 =doMove(30,x_train_all,y_train_all,x_test_all,y_test_all)"
   ]
  },
  {
   "cell_type": "code",
   "execution_count": 178,
   "metadata": {},
   "outputs": [],
   "source": [
    "X60,y60,Xt60,yt60 =doMove(60,x_train_all,y_train_all,x_test_all,y_test_all)"
   ]
  },
  {
   "attachments": {},
   "cell_type": "markdown",
   "metadata": {},
   "source": [
    "Preprocessed data\n"
   ]
  },
  {
   "cell_type": "code",
   "execution_count": 179,
   "metadata": {},
   "outputs": [],
   "source": [
    "X30_pro,y30_pro,Xt30_pro,yt30_pro =doMove(30,equalized_df,y_train_all,equalized_df_test,y_test_all)"
   ]
  },
  {
   "cell_type": "code",
   "execution_count": 180,
   "metadata": {},
   "outputs": [],
   "source": [
    "X60_pro,y60_pro,Xt60_pro,yt60_pro =doMove(60,equalized_df,y_train_all,equalized_df_test,y_test_all)"
   ]
  },
  {
   "attachments": {},
   "cell_type": "markdown",
   "metadata": {},
   "source": [
    "now we will apply the hyper parameter tuning function and then find the accuracies "
   ]
  },
  {
   "attachments": {},
   "cell_type": "markdown",
   "metadata": {},
   "source": [
    "Raw data"
   ]
  },
  {
   "attachments": {},
   "cell_type": "markdown",
   "metadata": {},
   "source": [
    "30% data"
   ]
  },
  {
   "cell_type": "code",
   "execution_count": 181,
   "metadata": {},
   "outputs": [
    {
     "name": "stdout",
     "output_type": "stream",
     "text": [
      "Accuracy: 0.7770551942637985\n"
     ]
    }
   ],
   "source": [
    "model = gridsearch(X30,y30) #getting the best parameters model given by the search algorithm\n",
    "accuracycalc(model,X30,y30,Xt30,yt30)#calculating the accuracy on the model found"
   ]
  },
  {
   "cell_type": "code",
   "execution_count": 182,
   "metadata": {},
   "outputs": [
    {
     "name": "stdout",
     "output_type": "stream",
     "text": [
      "Accuracy: 0.7815574453893613\n"
     ]
    }
   ],
   "source": [
    "model = randomsearch(X30,y30) #getting the best parameters model given by the search algorithm\n",
    "accuracycalc(model,X30,y30,Xt30,yt30)#calculating the accuracy on the model found"
   ]
  },
  {
   "cell_type": "code",
   "execution_count": 183,
   "metadata": {},
   "outputs": [
    {
     "name": "stderr",
     "output_type": "stream",
     "text": [
      "/Library/Frameworks/Python.framework/Versions/3.11/lib/python3.11/site-packages/skopt/optimizer/optimizer.py:449: UserWarning: The objective has been evaluated at this point before.\n",
      "  warnings.warn(\"The objective has been evaluated \"\n",
      "/Library/Frameworks/Python.framework/Versions/3.11/lib/python3.11/site-packages/skopt/optimizer/optimizer.py:449: UserWarning: The objective has been evaluated at this point before.\n",
      "  warnings.warn(\"The objective has been evaluated \"\n",
      "/Library/Frameworks/Python.framework/Versions/3.11/lib/python3.11/site-packages/skopt/optimizer/optimizer.py:449: UserWarning: The objective has been evaluated at this point before.\n",
      "  warnings.warn(\"The objective has been evaluated \"\n",
      "/Library/Frameworks/Python.framework/Versions/3.11/lib/python3.11/site-packages/skopt/optimizer/optimizer.py:449: UserWarning: The objective has been evaluated at this point before.\n",
      "  warnings.warn(\"The objective has been evaluated \"\n",
      "/Library/Frameworks/Python.framework/Versions/3.11/lib/python3.11/site-packages/skopt/optimizer/optimizer.py:449: UserWarning: The objective has been evaluated at this point before.\n",
      "  warnings.warn(\"The objective has been evaluated \"\n",
      "/Library/Frameworks/Python.framework/Versions/3.11/lib/python3.11/site-packages/skopt/optimizer/optimizer.py:449: UserWarning: The objective has been evaluated at this point before.\n",
      "  warnings.warn(\"The objective has been evaluated \"\n",
      "/Library/Frameworks/Python.framework/Versions/3.11/lib/python3.11/site-packages/skopt/optimizer/optimizer.py:449: UserWarning: The objective has been evaluated at this point before.\n",
      "  warnings.warn(\"The objective has been evaluated \"\n",
      "/Library/Frameworks/Python.framework/Versions/3.11/lib/python3.11/site-packages/skopt/optimizer/optimizer.py:449: UserWarning: The objective has been evaluated at this point before.\n",
      "  warnings.warn(\"The objective has been evaluated \"\n",
      "/Library/Frameworks/Python.framework/Versions/3.11/lib/python3.11/site-packages/skopt/optimizer/optimizer.py:449: UserWarning: The objective has been evaluated at this point before.\n",
      "  warnings.warn(\"The objective has been evaluated \"\n",
      "/Library/Frameworks/Python.framework/Versions/3.11/lib/python3.11/site-packages/skopt/optimizer/optimizer.py:449: UserWarning: The objective has been evaluated at this point before.\n",
      "  warnings.warn(\"The objective has been evaluated \"\n",
      "/Library/Frameworks/Python.framework/Versions/3.11/lib/python3.11/site-packages/skopt/optimizer/optimizer.py:449: UserWarning: The objective has been evaluated at this point before.\n",
      "  warnings.warn(\"The objective has been evaluated \"\n",
      "/Library/Frameworks/Python.framework/Versions/3.11/lib/python3.11/site-packages/skopt/optimizer/optimizer.py:449: UserWarning: The objective has been evaluated at this point before.\n",
      "  warnings.warn(\"The objective has been evaluated \"\n",
      "/Library/Frameworks/Python.framework/Versions/3.11/lib/python3.11/site-packages/skopt/optimizer/optimizer.py:449: UserWarning: The objective has been evaluated at this point before.\n",
      "  warnings.warn(\"The objective has been evaluated \"\n",
      "/Library/Frameworks/Python.framework/Versions/3.11/lib/python3.11/site-packages/skopt/optimizer/optimizer.py:449: UserWarning: The objective has been evaluated at this point before.\n",
      "  warnings.warn(\"The objective has been evaluated \"\n",
      "/Library/Frameworks/Python.framework/Versions/3.11/lib/python3.11/site-packages/skopt/optimizer/optimizer.py:449: UserWarning: The objective has been evaluated at this point before.\n",
      "  warnings.warn(\"The objective has been evaluated \"\n",
      "/Library/Frameworks/Python.framework/Versions/3.11/lib/python3.11/site-packages/skopt/optimizer/optimizer.py:449: UserWarning: The objective has been evaluated at this point before.\n",
      "  warnings.warn(\"The objective has been evaluated \"\n",
      "/Library/Frameworks/Python.framework/Versions/3.11/lib/python3.11/site-packages/skopt/optimizer/optimizer.py:449: UserWarning: The objective has been evaluated at this point before.\n",
      "  warnings.warn(\"The objective has been evaluated \"\n"
     ]
    },
    {
     "name": "stdout",
     "output_type": "stream",
     "text": [
      "Accuracy: 0.7785559446389861\n"
     ]
    }
   ],
   "source": [
    "model = bayesearch(X30,y30) #getting the best parameters model given by the search algorithm\n",
    "accuracycalc(model,X30,y30,Xt30,yt30)#calculating the accuracy on the model found"
   ]
  },
  {
   "cell_type": "code",
   "execution_count": 185,
   "metadata": {},
   "outputs": [
    {
     "data": {
      "image/png": "[encoded data removed]",
      "text/plain": [
       "<Figure size 640x480 with 1 Axes>"
      ]
     },
     "metadata": {},
     "output_type": "display_data"
    },
    {
     "data": {
      "image/png": "[encoded data removed]",
      "text/plain": [
       "<Figure size 640x480 with 2 Axes>"
      ]
     },
     "metadata": {},
     "output_type": "display_data"
    },
    {
     "name": "stdout",
     "output_type": "stream",
     "text": [
      "Accuracy: 0.7538769384692346\n",
      "F1 Score: 0.754499427860584\n",
      "Precision: 0.7542856430357494\n",
      "Recall/Sensitivity/True Positive Rate: 0.7538769384692346\n",
      "False Positive Rate: [0.         0.02734701 1.        ]\n",
      "Area under ROC curve: 0.8501277789187455\n",
      "Confusion Matrix:\n",
      " [[  71   16   16    1   17    0    1    0    1    0]\n",
      " [  24 1041  146   26  118    7   10    9   13    3]\n",
      " [  12  121 1132   50   80    8    5    4    4    3]\n",
      " [  13   49   63  705   24    1   11    3    8    7]\n",
      " [  13   96   63   29 1005    3   12    8    4    7]\n",
      " [   1    6    2    2   30   66    1    0    2    7]\n",
      " [   2    3   10   26    5    2  112    3   16   20]\n",
      " [   1   10   10    2    1    8    4   88    1   11]\n",
      " [   1   26   20   31    4    7   15    7  201   10]\n",
      " [   1    9   12    7    1    4    6   17    3  100]]\n"
     ]
    }
   ],
   "source": [
    "train_test_split(X30,Xt30,yt30,y30)"
   ]
  },
  {
   "attachments": {},
   "cell_type": "markdown",
   "metadata": {},
   "source": [
    "60% data"
   ]
  },
  {
   "cell_type": "code",
   "execution_count": 194,
   "metadata": {},
   "outputs": [
    {
     "name": "stdout",
     "output_type": "stream",
     "text": [
      "Accuracy: 0.7650494159928122\n"
     ]
    }
   ],
   "source": [
    "model = gridsearch(X60,y60) #getting the best parameters model given by the search algorithm\n",
    "accuracycalc(model,X60,y60,Xt60,yt60)#calculating the accuracy on the model found"
   ]
  },
  {
   "cell_type": "code",
   "execution_count": 195,
   "metadata": {},
   "outputs": [
    {
     "name": "stdout",
     "output_type": "stream",
     "text": [
      "Accuracy: 0.762915543575921\n"
     ]
    }
   ],
   "source": [
    "model = randomsearch(X60,y60) #getting the best parameters model given by the search algorithm\n",
    "accuracycalc(model,X60,y60,Xt60,yt60)#calculating the accuracy on the model found"
   ]
  },
  {
   "cell_type": "code",
   "execution_count": 196,
   "metadata": {},
   "outputs": [
    {
     "name": "stderr",
     "output_type": "stream",
     "text": [
      "/Library/Frameworks/Python.framework/Versions/3.11/lib/python3.11/site-packages/skopt/optimizer/optimizer.py:449: UserWarning: The objective has been evaluated at this point before.\n",
      "  warnings.warn(\"The objective has been evaluated \"\n",
      "/Library/Frameworks/Python.framework/Versions/3.11/lib/python3.11/site-packages/skopt/optimizer/optimizer.py:449: UserWarning: The objective has been evaluated at this point before.\n",
      "  warnings.warn(\"The objective has been evaluated \"\n",
      "/Library/Frameworks/Python.framework/Versions/3.11/lib/python3.11/site-packages/skopt/optimizer/optimizer.py:449: UserWarning: The objective has been evaluated at this point before.\n",
      "  warnings.warn(\"The objective has been evaluated \"\n",
      "/Library/Frameworks/Python.framework/Versions/3.11/lib/python3.11/site-packages/skopt/optimizer/optimizer.py:449: UserWarning: The objective has been evaluated at this point before.\n",
      "  warnings.warn(\"The objective has been evaluated \"\n",
      "/Library/Frameworks/Python.framework/Versions/3.11/lib/python3.11/site-packages/skopt/optimizer/optimizer.py:449: UserWarning: The objective has been evaluated at this point before.\n",
      "  warnings.warn(\"The objective has been evaluated \"\n",
      "/Library/Frameworks/Python.framework/Versions/3.11/lib/python3.11/site-packages/skopt/optimizer/optimizer.py:449: UserWarning: The objective has been evaluated at this point before.\n",
      "  warnings.warn(\"The objective has been evaluated \"\n",
      "/Library/Frameworks/Python.framework/Versions/3.11/lib/python3.11/site-packages/skopt/optimizer/optimizer.py:449: UserWarning: The objective has been evaluated at this point before.\n",
      "  warnings.warn(\"The objective has been evaluated \"\n",
      "/Library/Frameworks/Python.framework/Versions/3.11/lib/python3.11/site-packages/skopt/optimizer/optimizer.py:449: UserWarning: The objective has been evaluated at this point before.\n",
      "  warnings.warn(\"The objective has been evaluated \"\n",
      "/Library/Frameworks/Python.framework/Versions/3.11/lib/python3.11/site-packages/skopt/optimizer/optimizer.py:449: UserWarning: The objective has been evaluated at this point before.\n",
      "  warnings.warn(\"The objective has been evaluated \"\n",
      "/Library/Frameworks/Python.framework/Versions/3.11/lib/python3.11/site-packages/skopt/optimizer/optimizer.py:449: UserWarning: The objective has been evaluated at this point before.\n",
      "  warnings.warn(\"The objective has been evaluated \"\n",
      "/Library/Frameworks/Python.framework/Versions/3.11/lib/python3.11/site-packages/skopt/optimizer/optimizer.py:449: UserWarning: The objective has been evaluated at this point before.\n",
      "  warnings.warn(\"The objective has been evaluated \"\n",
      "/Library/Frameworks/Python.framework/Versions/3.11/lib/python3.11/site-packages/skopt/optimizer/optimizer.py:449: UserWarning: The objective has been evaluated at this point before.\n",
      "  warnings.warn(\"The objective has been evaluated \"\n",
      "/Library/Frameworks/Python.framework/Versions/3.11/lib/python3.11/site-packages/skopt/optimizer/optimizer.py:449: UserWarning: The objective has been evaluated at this point before.\n",
      "  warnings.warn(\"The objective has been evaluated \"\n",
      "/Library/Frameworks/Python.framework/Versions/3.11/lib/python3.11/site-packages/skopt/optimizer/optimizer.py:449: UserWarning: The objective has been evaluated at this point before.\n",
      "  warnings.warn(\"The objective has been evaluated \"\n",
      "/Library/Frameworks/Python.framework/Versions/3.11/lib/python3.11/site-packages/skopt/optimizer/optimizer.py:449: UserWarning: The objective has been evaluated at this point before.\n",
      "  warnings.warn(\"The objective has been evaluated \"\n"
     ]
    },
    {
     "name": "stdout",
     "output_type": "stream",
     "text": [
      "Accuracy: 0.7677448337825696\n"
     ]
    }
   ],
   "source": [
    "model = bayesearch(X60,y60) #getting the best parameters model given by the search algorithm\n",
    "accuracycalc(model,X60,y60,Xt60,yt60)#calculating the accuracy on the model found"
   ]
  },
  {
   "cell_type": "code",
   "execution_count": 197,
   "metadata": {},
   "outputs": [
    {
     "data": {
      "image/png": "[encoded data removed]",
      "text/plain": [
       "<Figure size 640x480 with 1 Axes>"
      ]
     },
     "metadata": {},
     "output_type": "display_data"
    },
    {
     "data": {
      "image/png": "[encoded data removed]",
      "text/plain": [
       "<Figure size 640x480 with 2 Axes>"
      ]
     },
     "metadata": {},
     "output_type": "display_data"
    },
    {
     "name": "stdout",
     "output_type": "stream",
     "text": [
      "Accuracy: 0.7334905660377359\n",
      "F1 Score: 0.7331237347172506\n",
      "Precision: 0.7354932184635244\n",
      "Recall/Sensitivity/True Positive Rate: 0.7334905660377359\n",
      "False Positive Rate: [0.         0.02961216 1.        ]\n",
      "Area under ROC curve: 0.8393766033743908\n",
      "Confusion Matrix:\n",
      " [[ 117   29    6    6   24    1    0    0    1    0]\n",
      " [  45 1544  188   52  147   11   11   17   22   15]\n",
      " [  10  165 1650  104  118   19   10   13   11    5]\n",
      " [   9   48  141  979   46   17   23    8   12   15]\n",
      " [  42  160  122   61 1401   11   22   10    8    9]\n",
      " [   1    8    8   26    4   93    9   22    7    5]\n",
      " [   4    7   21   24    7   14  170    9   37    5]\n",
      " [   0   13   12    6    3    7   18  138   11    3]\n",
      " [   8   13   34   22   18   18   21   12  304   24]\n",
      " [   4   19   41   16    2    2    7    3   24  135]]\n"
     ]
    }
   ],
   "source": [
    "train_test_split(X60,Xt60,yt60,y60)"
   ]
  },
  {
   "attachments": {},
   "cell_type": "markdown",
   "metadata": {},
   "source": [
    "Preprocessed Data"
   ]
  },
  {
   "attachments": {},
   "cell_type": "markdown",
   "metadata": {},
   "source": [
    "30% data"
   ]
  },
  {
   "cell_type": "code",
   "execution_count": 198,
   "metadata": {},
   "outputs": [
    {
     "name": "stdout",
     "output_type": "stream",
     "text": [
      "Accuracy: 0.807903951975988\n"
     ]
    }
   ],
   "source": [
    "model = gridsearch(X30_pro,y30_pro) #getting the best parameters model given by the search algorithm\n",
    "accuracycalc(model,X30_pro,y30_pro,Xt30_pro,yt30_pro)#calculating the accuracy on the model found"
   ]
  },
  {
   "cell_type": "code",
   "execution_count": 199,
   "metadata": {},
   "outputs": [
    {
     "name": "stdout",
     "output_type": "stream",
     "text": [
      "Accuracy: 0.8137402034350508\n"
     ]
    }
   ],
   "source": [
    "model = randomsearch(X30_pro,y30_pro) #getting the best parameters model given by the search algorithm\n",
    "accuracycalc(model,X30_pro,y30_pro,Xt30_pro,yt30_pro)#calculating the accuracy on the model found"
   ]
  },
  {
   "cell_type": "code",
   "execution_count": 200,
   "metadata": {},
   "outputs": [
    {
     "name": "stderr",
     "output_type": "stream",
     "text": [
      "/Library/Frameworks/Python.framework/Versions/3.11/lib/python3.11/site-packages/skopt/optimizer/optimizer.py:449: UserWarning: The objective has been evaluated at this point before.\n",
      "  warnings.warn(\"The objective has been evaluated \"\n",
      "/Library/Frameworks/Python.framework/Versions/3.11/lib/python3.11/site-packages/skopt/optimizer/optimizer.py:449: UserWarning: The objective has been evaluated at this point before.\n",
      "  warnings.warn(\"The objective has been evaluated \"\n",
      "/Library/Frameworks/Python.framework/Versions/3.11/lib/python3.11/site-packages/skopt/optimizer/optimizer.py:449: UserWarning: The objective has been evaluated at this point before.\n",
      "  warnings.warn(\"The objective has been evaluated \"\n",
      "/Library/Frameworks/Python.framework/Versions/3.11/lib/python3.11/site-packages/skopt/optimizer/optimizer.py:449: UserWarning: The objective has been evaluated at this point before.\n",
      "  warnings.warn(\"The objective has been evaluated \"\n",
      "/Library/Frameworks/Python.framework/Versions/3.11/lib/python3.11/site-packages/skopt/optimizer/optimizer.py:449: UserWarning: The objective has been evaluated at this point before.\n",
      "  warnings.warn(\"The objective has been evaluated \"\n",
      "/Library/Frameworks/Python.framework/Versions/3.11/lib/python3.11/site-packages/skopt/optimizer/optimizer.py:449: UserWarning: The objective has been evaluated at this point before.\n",
      "  warnings.warn(\"The objective has been evaluated \"\n",
      "/Library/Frameworks/Python.framework/Versions/3.11/lib/python3.11/site-packages/skopt/optimizer/optimizer.py:449: UserWarning: The objective has been evaluated at this point before.\n",
      "  warnings.warn(\"The objective has been evaluated \"\n",
      "/Library/Frameworks/Python.framework/Versions/3.11/lib/python3.11/site-packages/skopt/optimizer/optimizer.py:449: UserWarning: The objective has been evaluated at this point before.\n",
      "  warnings.warn(\"The objective has been evaluated \"\n",
      "/Library/Frameworks/Python.framework/Versions/3.11/lib/python3.11/site-packages/skopt/optimizer/optimizer.py:449: UserWarning: The objective has been evaluated at this point before.\n",
      "  warnings.warn(\"The objective has been evaluated \"\n",
      "/Library/Frameworks/Python.framework/Versions/3.11/lib/python3.11/site-packages/skopt/optimizer/optimizer.py:449: UserWarning: The objective has been evaluated at this point before.\n",
      "  warnings.warn(\"The objective has been evaluated \"\n",
      "/Library/Frameworks/Python.framework/Versions/3.11/lib/python3.11/site-packages/skopt/optimizer/optimizer.py:449: UserWarning: The objective has been evaluated at this point before.\n",
      "  warnings.warn(\"The objective has been evaluated \"\n",
      "/Library/Frameworks/Python.framework/Versions/3.11/lib/python3.11/site-packages/skopt/optimizer/optimizer.py:449: UserWarning: The objective has been evaluated at this point before.\n",
      "  warnings.warn(\"The objective has been evaluated \"\n",
      "/Library/Frameworks/Python.framework/Versions/3.11/lib/python3.11/site-packages/skopt/optimizer/optimizer.py:449: UserWarning: The objective has been evaluated at this point before.\n",
      "  warnings.warn(\"The objective has been evaluated \"\n",
      "/Library/Frameworks/Python.framework/Versions/3.11/lib/python3.11/site-packages/skopt/optimizer/optimizer.py:449: UserWarning: The objective has been evaluated at this point before.\n",
      "  warnings.warn(\"The objective has been evaluated \"\n"
     ]
    },
    {
     "name": "stdout",
     "output_type": "stream",
     "text": [
      "Accuracy: 0.8032349508087377\n"
     ]
    }
   ],
   "source": [
    "model = bayesearch(X30_pro,y30_pro) #getting the best parameters model given by the search algorithm\n",
    "accuracycalc(model,X30_pro,y30_pro,Xt30_pro,yt30_pro)#calculating the accuracy on the model found"
   ]
  },
  {
   "cell_type": "code",
   "execution_count": 201,
   "metadata": {},
   "outputs": [
    {
     "data": {
      "image/png": "[encoded data removed]",
      "text/plain": [
       "<Figure size 640x480 with 1 Axes>"
      ]
     },
     "metadata": {},
     "output_type": "display_data"
    },
    {
     "data": {
      "image/png": "[encoded data removed]",
      "text/plain": [
       "<Figure size 640x480 with 2 Axes>"
      ]
     },
     "metadata": {},
     "output_type": "display_data"
    },
    {
     "name": "stdout",
     "output_type": "stream",
     "text": [
      "Accuracy: 0.7922294480573621\n",
      "F1 Score: 0.7925641364114279\n",
      "Precision: 0.7931131140287712\n",
      "Recall/Sensitivity/True Positive Rate: 0.7922294480573621\n",
      "False Positive Rate: [0.         0.02308562 1.        ]\n",
      "Area under ROC curve: 0.8753463449215033\n",
      "Confusion Matrix:\n",
      " [[  66   17    4    9   26    0    2    1    1    2]\n",
      " [  16 1111  107   28   68    4    3    6   22   12]\n",
      " [   4   59 1206   43   33    5    9    3    9    7]\n",
      " [   5   50   69  721   13    1   20    2   10   10]\n",
      " [  17  109   74   16 1032    9    4    6    5    5]\n",
      " [   0    1    3    2    0   80    5    2   12    8]\n",
      " [   0    8    4    5    5    1  168    4    9   11]\n",
      " [   0   11    9    1    2    4    4   79    6    7]\n",
      " [   6   21   11   19    5    6   18    9  196   17]\n",
      " [   1    7    7    9    3    9    6   10   33   92]]\n"
     ]
    }
   ],
   "source": [
    "train_test_split(X30_pro,Xt30_pro,yt30_pro,y30_pro)"
   ]
  },
  {
   "attachments": {},
   "cell_type": "markdown",
   "metadata": {},
   "source": [
    "60% data"
   ]
  },
  {
   "cell_type": "code",
   "execution_count": 202,
   "metadata": {},
   "outputs": [
    {
     "name": "stdout",
     "output_type": "stream",
     "text": [
      "Accuracy: 0.7603324348607368\n"
     ]
    }
   ],
   "source": [
    "model = gridsearch(X60_pro,y60_pro) #getting the best parameters model given by the search algorithm\n",
    "accuracycalc(model,X60_pro,y60_pro,Xt60_pro,yt60_pro)#calculating the accuracy on the model found"
   ]
  },
  {
   "cell_type": "code",
   "execution_count": 203,
   "metadata": {},
   "outputs": [
    {
     "name": "stdout",
     "output_type": "stream",
     "text": [
      "Accuracy: 0.7642632524707996\n"
     ]
    }
   ],
   "source": [
    "model = randomsearch(X60_pro,y60_pro) #getting the best parameters model given by the search algorithm\n",
    "accuracycalc(model,X60_pro,y60_pro,Xt60_pro,yt60_pro)#calculating the accuracy on the model found"
   ]
  },
  {
   "cell_type": "code",
   "execution_count": 204,
   "metadata": {},
   "outputs": [
    {
     "name": "stderr",
     "output_type": "stream",
     "text": [
      "/Library/Frameworks/Python.framework/Versions/3.11/lib/python3.11/site-packages/skopt/optimizer/optimizer.py:449: UserWarning: The objective has been evaluated at this point before.\n",
      "  warnings.warn(\"The objective has been evaluated \"\n",
      "/Library/Frameworks/Python.framework/Versions/3.11/lib/python3.11/site-packages/skopt/optimizer/optimizer.py:449: UserWarning: The objective has been evaluated at this point before.\n",
      "  warnings.warn(\"The objective has been evaluated \"\n",
      "/Library/Frameworks/Python.framework/Versions/3.11/lib/python3.11/site-packages/skopt/optimizer/optimizer.py:449: UserWarning: The objective has been evaluated at this point before.\n",
      "  warnings.warn(\"The objective has been evaluated \"\n",
      "/Library/Frameworks/Python.framework/Versions/3.11/lib/python3.11/site-packages/skopt/optimizer/optimizer.py:449: UserWarning: The objective has been evaluated at this point before.\n",
      "  warnings.warn(\"The objective has been evaluated \"\n",
      "/Library/Frameworks/Python.framework/Versions/3.11/lib/python3.11/site-packages/skopt/optimizer/optimizer.py:449: UserWarning: The objective has been evaluated at this point before.\n",
      "  warnings.warn(\"The objective has been evaluated \"\n",
      "/Library/Frameworks/Python.framework/Versions/3.11/lib/python3.11/site-packages/skopt/optimizer/optimizer.py:449: UserWarning: The objective has been evaluated at this point before.\n",
      "  warnings.warn(\"The objective has been evaluated \"\n",
      "/Library/Frameworks/Python.framework/Versions/3.11/lib/python3.11/site-packages/skopt/optimizer/optimizer.py:449: UserWarning: The objective has been evaluated at this point before.\n",
      "  warnings.warn(\"The objective has been evaluated \"\n",
      "/Library/Frameworks/Python.framework/Versions/3.11/lib/python3.11/site-packages/skopt/optimizer/optimizer.py:449: UserWarning: The objective has been evaluated at this point before.\n",
      "  warnings.warn(\"The objective has been evaluated \"\n",
      "/Library/Frameworks/Python.framework/Versions/3.11/lib/python3.11/site-packages/skopt/optimizer/optimizer.py:449: UserWarning: The objective has been evaluated at this point before.\n",
      "  warnings.warn(\"The objective has been evaluated \"\n",
      "/Library/Frameworks/Python.framework/Versions/3.11/lib/python3.11/site-packages/skopt/optimizer/optimizer.py:449: UserWarning: The objective has been evaluated at this point before.\n",
      "  warnings.warn(\"The objective has been evaluated \"\n",
      "/Library/Frameworks/Python.framework/Versions/3.11/lib/python3.11/site-packages/skopt/optimizer/optimizer.py:449: UserWarning: The objective has been evaluated at this point before.\n",
      "  warnings.warn(\"The objective has been evaluated \"\n",
      "/Library/Frameworks/Python.framework/Versions/3.11/lib/python3.11/site-packages/skopt/optimizer/optimizer.py:449: UserWarning: The objective has been evaluated at this point before.\n",
      "  warnings.warn(\"The objective has been evaluated \"\n",
      "/Library/Frameworks/Python.framework/Versions/3.11/lib/python3.11/site-packages/skopt/optimizer/optimizer.py:449: UserWarning: The objective has been evaluated at this point before.\n",
      "  warnings.warn(\"The objective has been evaluated \"\n"
     ]
    },
    {
     "name": "stdout",
     "output_type": "stream",
     "text": [
      "Accuracy: 0.7687556154537286\n"
     ]
    }
   ],
   "source": [
    "model = bayesearch(X60_pro,y60_pro) #getting the best parameters model given by the search algorithm\n",
    "accuracycalc(model,X60_pro,y60_pro,Xt60_pro,yt60_pro)#calculating the accuracy on the model found"
   ]
  },
  {
   "cell_type": "code",
   "execution_count": 205,
   "metadata": {},
   "outputs": [
    {
     "data": {
      "image/png": "[encoded data removed]",
      "text/plain": [
       "<Figure size 640x480 with 1 Axes>"
      ]
     },
     "metadata": {},
     "output_type": "display_data"
    },
    {
     "data": {
      "image/png": "[encoded data removed]",
      "text/plain": [
       "<Figure size 640x480 with 2 Axes>"
      ]
     },
     "metadata": {},
     "output_type": "display_data"
    },
    {
     "name": "stdout",
     "output_type": "stream",
     "text": [
      "Accuracy: 0.7620170709793351\n",
      "F1 Score: 0.7620250442331314\n",
      "Precision: 0.7632397636776479\n",
      "Recall/Sensitivity/True Positive Rate: 0.7620170709793351\n",
      "False Positive Rate: [0.         0.02644255 1.        ]\n",
      "Area under ROC curve: 0.856875991242887\n",
      "Confusion Matrix:\n",
      " [[  93   33   11   23   21    0    2    0    7    1]\n",
      " [  37 1548  165   98  115    1   21   12   14   14]\n",
      " [   4  165 1722  109   54    4    9   10   25    9]\n",
      " [   7   73  111 1000   23    5   18    3   33   21]\n",
      " [  16  149  101   30 1508    5   21   12   19    7]\n",
      " [   0    1   24    2    4  124    2    4   13   10]\n",
      " [   2   13   10   20    8    0  213   15   14    5]\n",
      " [   7   18    8    4    7    8    3  127    3    7]\n",
      " [   3   25   15   29    4    2   28   12  333   35]\n",
      " [   2   10   16   24    6    3   26   14   35  117]]\n"
     ]
    }
   ],
   "source": [
    "train_test_split(X60_pro,Xt60_pro,yt60_pro,y60_pro)"
   ]
  },
  {
   "attachments": {},
   "cell_type": "markdown",
   "metadata": {},
   "source": [
    "now we apply kfold on the 30% and 60% data"
   ]
  },
  {
   "attachments": {},
   "cell_type": "markdown",
   "metadata": {},
   "source": [
    "Raw data"
   ]
  },
  {
   "cell_type": "code",
   "execution_count": 206,
   "metadata": {},
   "outputs": [
    {
     "name": "stdout",
     "output_type": "stream",
     "text": [
      "Train: 6104 Validation: 679\n",
      "Confusion Matrix:\n",
      " [[  7   1   1   0   1   0   1   0   0   0]\n",
      " [  0 123   9   4  14   0   2   1   0   1]\n",
      " [  3  16 129   9   9   1   1   0   1   1]\n",
      " [  0   3   8  76   5   0   1   0   0   1]\n",
      " [  1  13   8   1 129   0   1   0   0   0]\n",
      " [  0   0   1   0   1   9   1   0   0   0]\n",
      " [  0   2   1   1   0   0  20   0   0   0]\n",
      " [  0   2   0   0   0   0   1  11   1   0]\n",
      " [  0   1   0   0   0   1   0   1  25   0]\n",
      " [  0   0   0   0   1   1   1   0   0  15]]\n",
      "Train: 6104 Validation: 679\n",
      "Confusion Matrix:\n",
      " [[  6   2   1   0   0   0   0   0   0   0]\n",
      " [  2 122  17   2   9   1   0   0   1   0]\n",
      " [  2  15 133   4   4   0   1   2   0   0]\n",
      " [  0   2   5  76   0   0   0   3   1   0]\n",
      " [  1   3   4   5 124   0   0   0   0   0]\n",
      " [  0   0   0   0   0   7   0   0   0   3]\n",
      " [  0   0   1   2   2   0  22   0   2   1]\n",
      " [  0   0   0   0   0   1   0   9   0   0]\n",
      " [  0   2   1   2   0   2   3   2  34   4]\n",
      " [  0   2   0   5   2   0   0   2   2  18]]\n",
      "Train: 6104 Validation: 679\n",
      "Confusion Matrix:\n",
      " [[ 11   4   2   1   1   0   0   0   1   0]\n",
      " [  0 119   8   4   5   0   0   1   0   0]\n",
      " [  0  15 114   9   9   0   2   0   1   0]\n",
      " [  1   3   3  71   1   0   1   0   2   4]\n",
      " [  1   6   5   4 134   1   1   0   0   1]\n",
      " [  0   0   1   1   0  15   0   0   0   1]\n",
      " [  0   1   1   2   0   0  20   0   2   3]\n",
      " [  0   2   0   0   2   0   1  10   0   0]\n",
      " [  0   1   1   0   0   0   2   2  34   2]\n",
      " [  0   0   3   0   2   0   1   0   3  20]]\n",
      "Train: 6105 Validation: 678\n",
      "Confusion Matrix:\n",
      " [[ 15   3   0   1   0   0   0   0   1   0]\n",
      " [  0 124   4   4   3   0   1   1   2   3]\n",
      " [  0   9 136   3   9   0   0   0   0   4]\n",
      " [  1   3   8  99   4   1   3   1   0   2]\n",
      " [  0   9   5   1 122   0   1   0   0   0]\n",
      " [  1   0   2   1   3  15   0   0   0   0]\n",
      " [  0   0   0   2   0   1  13   0   2   0]\n",
      " [  0   0   0   0   0   1   0  12   0   0]\n",
      " [  0   0   0   0   1   0   0   0  21   1]\n",
      " [  0   2   2   0   1   0   0   0   0  14]]\n",
      "Train: 6105 Validation: 678\n",
      "Confusion Matrix:\n",
      " [[  9   3   0   1   2   0   0   0   0   0]\n",
      " [  1 128  15   3   8   1   1   0   0   2]\n",
      " [  1  13 117   5   6   1   0   2   4   1]\n",
      " [  0   7   4  77   3   1   4   1   1   0]\n",
      " [  1  10   6   3 120   0   0   0   1   0]\n",
      " [  0   0   1   0   1  15   0   1   0   0]\n",
      " [  0   1   1   0   1   0  14   0   2   1]\n",
      " [  0   0   0   2   0   0   0  16   0   0]\n",
      " [  0   0   1   2   0   1   1   1  36   0]\n",
      " [  1   0   0   2   1   0   1   1   0  11]]\n",
      "Train: 6105 Validation: 678\n",
      "Confusion Matrix:\n",
      " [[ 12   1   0   0   0   0   0   0   1   0]\n",
      " [  2 120  12   3   8   0   0   3   2   2]\n",
      " [  1   7 118   7   7   1   1   0   2   2]\n",
      " [  0   7   8  86   1   1   3   0   1   1]\n",
      " [  0  11   4   1 128   1   0   0   5   0]\n",
      " [  0   0   0   0   1  11   0   1   0   0]\n",
      " [  0   0   1   2   1   0  17   1   2   0]\n",
      " [  0   1   2   1   0   1   3   9   0   0]\n",
      " [  0   0   2   2   0   0   0   0  27   0]\n",
      " [  0   0   1   1   0   0   0   0   1  20]]\n",
      "Train: 6105 Validation: 678\n",
      "Confusion Matrix:\n",
      " [[  8   1   0   0   2   0   0   0   0   0]\n",
      " [  2 141  10   4   7   0   0   0   0   1]\n",
      " [  4  12 138   1   5   2   2   0   0   2]\n",
      " [  0   1  10  83   3   1   2   0   1   1]\n",
      " [  0   6   8   4 115   0   1   0   0   0]\n",
      " [  0   0   0   0   1  13   0   0   0   0]\n",
      " [  0   0   1   1   0   0  21   0   2   0]\n",
      " [  0   2   2   1   0   0   1   9   1   0]\n",
      " [  0   0   0   0   0   0   0   0  33   1]\n",
      " [  0   0   1   1   1   0   0   0   0   8]]\n",
      "Train: 6105 Validation: 678\n",
      "Confusion Matrix:\n",
      " [[ 13   3   0   0   1   0   0   0   0   0]\n",
      " [  1 139   9   4   3   1   1   0   0   1]\n",
      " [  1  19 128   5  11   0   0   1   0   0]\n",
      " [  0   5   8  61   1   0   0   1   0   0]\n",
      " [  1   3   0   2 126   0   1   0   0   0]\n",
      " [  0   1   0   0   0   8   0   0   0   1]\n",
      " [  0   0   1   2   1   1  28   1   2   0]\n",
      " [  0   2   0   1   1   1   0  15   2   1]\n",
      " [  0   3   1   1   1   1   1   1  34   0]\n",
      " [  0   1   0   1   1   0   0   0   2  11]]\n",
      "Train: 6105 Validation: 678\n",
      "Confusion Matrix:\n",
      " [[  6   1   2   1   1   1   0   0   1   0]\n",
      " [  1 135   5   1   1   0   0   0   0   0]\n",
      " [  2  12 115  11   9   0   2   3   0   3]\n",
      " [  0   2   7  93   2   1   1   0   1   2]\n",
      " [  0   9   7   2 119   0   0   0   0   0]\n",
      " [  0   0   1   0   1  13   0   1   1   0]\n",
      " [  0   1   1   0   3   0  21   1   1   0]\n",
      " [  0   1   2   0   1   0   0  13   2   0]\n",
      " [  1   0   1   2   3   0   1   1  26   4]\n",
      " [  0   0   0   1   1   0   0   1   1  12]]\n",
      "Train: 6105 Validation: 678\n",
      "Confusion Matrix:\n",
      " [[ 10   4   1   0   1   1   0   0   0   0]\n",
      " [  0 151  10   2   8   1   1   1   4   0]\n",
      " [  1   8 128   6  10   0   1   0   0   1]\n",
      " [  0   6  11  74   1   1   0   0   1   0]\n",
      " [  1   7   3   0 113   0   0   0   0   0]\n",
      " [  0   3   3   0   1  12   0   0   0   0]\n",
      " [  0   2   2   1   1   0  11   0   0   0]\n",
      " [  1   1   1   0   0   0   0  15   0   0]\n",
      " [  0   2   1   0   1   0   1   3  27   1]\n",
      " [  1   1   1   2   0   1   1   0   0  13]]\n",
      "Average Accuracy: 0.8173422219905205\n",
      "Average Precision: 0.8194629694407156\n",
      "Average Recall: 0.8173422219905205\n",
      "Average F1: 0.8167530296258707\n"
     ]
    }
   ],
   "source": [
    "kfold_10(X30,y30) #applying kfold and getting the accuracy"
   ]
  },
  {
   "cell_type": "code",
   "execution_count": 207,
   "metadata": {},
   "outputs": [
    {
     "name": "stdout",
     "output_type": "stream",
     "text": [
      "Train: 3488 Validation: 388\n",
      "Confusion Matrix:\n",
      " [[ 3  0  2  0  2  0  0  0  0  0]\n",
      " [ 1 60  7  2  5  0  1  0  2  0]\n",
      " [ 0  7 79  2  3  0  0  0  0  0]\n",
      " [ 0  4  6 47  3  0  1  0  2  0]\n",
      " [ 1  4  4  1 71  0  0  0  1  1]\n",
      " [ 0  0  0  0  1  3  0  1  0  0]\n",
      " [ 0  1  0  1  0  1 11  0  0  0]\n",
      " [ 0  0  0  1  0  0  1  9  1  0]\n",
      " [ 1  2  1  1  0  0  0  1 14  3]\n",
      " [ 0  0  1  0  1  0  2  0  1  7]]\n",
      "Train: 3488 Validation: 388\n",
      "Confusion Matrix:\n",
      " [[ 5  2  1  0  0  0  0  0  0  0]\n",
      " [ 4 64  8  2  7  3  0  0  1  0]\n",
      " [ 1  8 66  3  6  2  0  1  1  0]\n",
      " [ 1  0  0 42  2  0  3  1  1  0]\n",
      " [ 0  4  2  0 74  1  0  0  1  0]\n",
      " [ 0  0  0  0  0  7  0  1  0  1]\n",
      " [ 0  0  1  1  0  1 10  0  3  0]\n",
      " [ 0  0  0  0  1  1  2  6  1  0]\n",
      " [ 0  1  0  1  0  0  4  1 15  2]\n",
      " [ 0  1  0  1  0  0  1  0  0  8]]\n",
      "Train: 3488 Validation: 388\n",
      "Confusion Matrix:\n",
      " [[ 4  1  0  0  1  0  1  0  0  0]\n",
      " [ 2 70 12  2  3  0  1  0  1  0]\n",
      " [ 0  9 72  3  1  0  0  0  1  1]\n",
      " [ 0  4  6 50  3  0  0  0  2  0]\n",
      " [ 1  7  0  0 59  0  0  0  1  0]\n",
      " [ 0  1  0  1  0  6  0  0  2  0]\n",
      " [ 0  0  2  0  2  1 18  0  0  1]\n",
      " [ 0  0  0  0  0  0  0  4  2  0]\n",
      " [ 1  0  1  0  1  0  3  1 15  0]\n",
      " [ 0  1  2  2  0  0  0  0  0  3]]\n",
      "Train: 3488 Validation: 388\n",
      "Confusion Matrix:\n",
      " [[ 4  0  1  0  1  0  0  0  1  0]\n",
      " [ 3 78  8  1  3  0  1  0  1  0]\n",
      " [ 0  7 74  6  3  0  1  0  0  1]\n",
      " [ 0  3  3 46  3  1  1  0  0  1]\n",
      " [ 4  9  2  1 59  1  1  0  0  0]\n",
      " [ 0  0  3  0  2  6  0  0  1  0]\n",
      " [ 0  0  2  0  1  1  9  0  1  0]\n",
      " [ 0  0  1  0  0  0  1  8  1  0]\n",
      " [ 0  0  0  2  1  0  0  1  9  0]\n",
      " [ 0  0  0  2  1  0  0  0  1  5]]\n",
      "Train: 3488 Validation: 388\n",
      "Confusion Matrix:\n",
      " [[ 7  3  0  0  1  0  0  0  0  0]\n",
      " [ 1 71  9  5  8  0  0  0  2  1]\n",
      " [ 0  7 64  4  5  0  0  0  1  0]\n",
      " [ 0  4  3 43  1  0  0  0  1  0]\n",
      " [ 1  7  7  3 64  1  0  1  0  0]\n",
      " [ 0  1  0  0  2  3  0  0  1  0]\n",
      " [ 0  0  1  0  0  2  9  0  0  1]\n",
      " [ 0  0  1  0  0  1  0  7  0  1]\n",
      " [ 0  0  1  1  1  2  2  0  9  0]\n",
      " [ 0  0  1  2  2  0  1  0  1 10]]\n",
      "Train: 3488 Validation: 388\n",
      "Confusion Matrix:\n",
      " [[ 9  2  1  1  1  0  0  0  0  0]\n",
      " [ 1 78  8  3  3  1  0  0  0  0]\n",
      " [ 0  8 60  9  7  0  0  0  0  1]\n",
      " [ 0  1  4 46  1  0  0  0  0  1]\n",
      " [ 0  3  2  1 66  0  1  0  2  0]\n",
      " [ 0  0  0  0  1  6  0  0  0  2]\n",
      " [ 0  0  2  1  0  2  7  0  0  1]\n",
      " [ 0  0  1  0  0  0  0  9  0  0]\n",
      " [ 1  0  2  0  4  1  1  2 17  0]\n",
      " [ 0  0  1  2  0  0  1  0  0  3]]\n",
      "Train: 3489 Validation: 387\n",
      "Confusion Matrix:\n",
      " [[ 3  2  1  0  0  0  0  0  0  1]\n",
      " [ 2 71  5  1  6  1  0  1  0  0]\n",
      " [ 0 14 58  3  1  3  3  0  1  0]\n",
      " [ 0  1  4 46  1  0  1  2  0  0]\n",
      " [ 0  5  6  1 76  0  0  1  1  0]\n",
      " [ 0  0  0  0  0  2  1  0  1  0]\n",
      " [ 0  0  1  0  1  0 15  0  1  2]\n",
      " [ 0  0  1  0  0  0  0  5  0  0]\n",
      " [ 0  0  1  0  0  2  2  0 18  1]\n",
      " [ 0  0  0  3  0  1  0  0  0  7]]\n",
      "Train: 3489 Validation: 387\n",
      "Confusion Matrix:\n",
      " [[ 2  1  0  1  0  0  0  0  0  0]\n",
      " [ 3 60  9  3  5  2  0  0  0  0]\n",
      " [ 3  5 81  3  7  1  0  2  3  3]\n",
      " [ 0  2  3 37  0  0  1  0  0  0]\n",
      " [ 1  6  9  4 68  0  0  0  0  0]\n",
      " [ 1  1  1  0  1  7  1  0  0  0]\n",
      " [ 0  0  0  1  1  0  4  0  1  0]\n",
      " [ 0  1  1  0  2  2  1  2  0  1]\n",
      " [ 0  1  1  3  1  1  1  0 12  1]\n",
      " [ 0  1  0  2  0  0  0  1  1  7]]\n",
      "Train: 3489 Validation: 387\n",
      "Confusion Matrix:\n",
      " [[ 7  0  1  0  1  0  1  0  0  0]\n",
      " [ 0 60 13  8  3  1  1  0  0  1]\n",
      " [ 1  5 70  5  2  0  1  0  3  0]\n",
      " [ 0  3  4 46  3  1  1  0  1  0]\n",
      " [ 0  4  6  2 59  1  1  1  1  0]\n",
      " [ 0  0  0  0  0  7  0  1  1  1]\n",
      " [ 0  0  0  1  0  2 12  0  0  1]\n",
      " [ 0  2  0  0  0  0  1  6  1  0]\n",
      " [ 0  4  0  0  3  1  0  2 12  2]\n",
      " [ 0  0  0  2  0  0  0  0  0  7]]\n",
      "Train: 3489 Validation: 387\n",
      "Confusion Matrix:\n",
      " [[ 5  1  1  0  3  0  0  1  0  0]\n",
      " [ 0 68  4  4  6  1  0  1  4  0]\n",
      " [ 0 10 70  7  3  1  0  1  0  1]\n",
      " [ 0  7  4 49  0  1  3  0  0  0]\n",
      " [ 2  5  3  0 59  0  3  0  0  0]\n",
      " [ 0  0  0  0  0  7  2  0  0  0]\n",
      " [ 0  1  0  1  1  0 10  0  2  0]\n",
      " [ 0  0  1  0  0  0  0  1  1  0]\n",
      " [ 0  2  1  0  2  3  0  0 13  0]\n",
      " [ 1  1  1  0  1  0  0  1  0  6]]\n",
      "Average Accuracy: 0.759274354671142\n",
      "Average Precision: 0.7648757431416364\n",
      "Average Recall: 0.759274354671142\n",
      "Average F1: 0.7595833700503738\n"
     ]
    }
   ],
   "source": [
    "kfold_10(X60,y60) #applying kfold and getting the accuracy"
   ]
  },
  {
   "attachments": {},
   "cell_type": "markdown",
   "metadata": {},
   "source": [
    "Preprocessed Data"
   ]
  },
  {
   "cell_type": "code",
   "execution_count": 208,
   "metadata": {},
   "outputs": [
    {
     "name": "stdout",
     "output_type": "stream",
     "text": [
      "Train: 6104 Validation: 679\n",
      "Confusion Matrix:\n",
      " [[ 11   3   0   0   2   0   0   0   0   0]\n",
      " [  2 104   7   4   9   1   2   2   0   1]\n",
      " [  0   9 138   4  13   0   0   0   1   0]\n",
      " [  2   4   4  81   1   1   3   0   0   0]\n",
      " [  1   8   6   1 121   1   0   1   0   2]\n",
      " [  0   0   0   0   0  12   0   0   2   0]\n",
      " [  0   1   2   1   1   0  19   0   4   2]\n",
      " [  0   0   0   1   0   1   0  18   0   1]\n",
      " [  0   1   1   3   0   1   4   0  32   3]\n",
      " [  0   0   1   0   0   0   1   0   3  14]]\n",
      "Train: 6104 Validation: 679\n",
      "Confusion Matrix:\n",
      " [[ 14   4   3   2   1   0   0   0   0   0]\n",
      " [  0 131  18   2   7   0   1   0   0   1]\n",
      " [  1   9 140   6   5   2   0   2   0   0]\n",
      " [  0   1  15  90   1   0   1   2   2   3]\n",
      " [  1   8   3   0 103   0   5   0   0   0]\n",
      " [  0   0   0   0   0   8   0   0   0   0]\n",
      " [  0   2   1   1   0   1  10   0   0   2]\n",
      " [  0   1   1   0   1   0   0  17   0   0]\n",
      " [  0   1   1   0   0   0   2   0  23   2]\n",
      " [  0   3   0   2   1   0   0   1   2  12]]\n",
      "Train: 6104 Validation: 679\n",
      "Confusion Matrix:\n",
      " [[  9   0   1   0   1   0   0   0   0   0]\n",
      " [  0 131   8   6  11   1   0   2   0   0]\n",
      " [  0  18 128  11   5   0   0   0   2   0]\n",
      " [  2   4   6  71   2   1   4   0   3   0]\n",
      " [  1   8   7   1 117   0   2   0   1   0]\n",
      " [  0   0   0   0   1  11   0   0   1   0]\n",
      " [  0   2   1   3   3   1  19   1   1   3]\n",
      " [  0   0   0   0   0   0   0  19   0   2]\n",
      " [  0   0   1   2   1   0   2   0  24   1]\n",
      " [  0   0   1   2   0   0   0   0   2  11]]\n",
      "Train: 6105 Validation: 678\n",
      "Confusion Matrix:\n",
      " [[  5   4   0   0   0   0   0   0   0   0]\n",
      " [  3 138  10   2   9   0   2   1   2   3]\n",
      " [  2  11 127   5   3   0   3   1   1   2]\n",
      " [  1   3  12  72   2   0   0   0   1   1]\n",
      " [  1   9   5   2 127   0   2   0   0   0]\n",
      " [  0   0   0   0   0  16   0   0   2   0]\n",
      " [  0   1   0   1   0   1  11   4   0   0]\n",
      " [  0   1   1   1   0   2   1  14   1   0]\n",
      " [  0   1   1   2   0   2   1   1  28   1]\n",
      " [  0   0   1   0   1   1   2   0   0   7]]\n",
      "Train: 6105 Validation: 678\n",
      "Confusion Matrix:\n",
      " [[ 10   1   1   0   0   0   0   0   1   0]\n",
      " [  1 123  11   6   9   0   2   0   1   0]\n",
      " [  0  14 143  12   3   0   0   0   1   2]\n",
      " [  1   3   6  72   3   0   1   0   1   1]\n",
      " [  0   6   6   2 123   1   0   0   0   2]\n",
      " [  0   0   1   1   0  10   2   0   0   0]\n",
      " [  0   1   0   3   1   1  11   0   2   0]\n",
      " [  0   3   0   1   0   0   0  13   0   4]\n",
      " [  0   0   0   2   0   0   1   0  29   2]\n",
      " [  0   0   0   3   0   1   1   0   2  14]]\n",
      "Train: 6105 Validation: 678\n",
      "Confusion Matrix:\n",
      " [[  8   3   0   0   4   0   0   0   0   0]\n",
      " [  2 126  14   6  10   0   0   0   0   0]\n",
      " [  1   7 139   5   7   0   0   1   0   0]\n",
      " [  0   1   7  81   2   1   0   0   1   1]\n",
      " [  4   9   3   3 119   0   0   0   0   0]\n",
      " [  0   1   3   1   0  15   1   0   0   1]\n",
      " [  0   0   5   1   1   3   9   0   2   1]\n",
      " [  0   0   1   0   0   1   1  15   0   0]\n",
      " [  0   0   1   1   1   0   2   1  25   2]\n",
      " [  0   1   1   2   0   0   0   0   1  13]]\n",
      "Train: 6105 Validation: 678\n",
      "Confusion Matrix:\n",
      " [[ 14   0   0   0   1   0   0   0   1   0]\n",
      " [  1 134   8   6   5   0   1   1   1   1]\n",
      " [  2  10 123  11   1   0   0   2   2   0]\n",
      " [  0   4   2  78   1   1   3   3   0   0]\n",
      " [  1   5   4   1 119   0   3   0   1   0]\n",
      " [  0   2   0   2   0  12   1   1   0   0]\n",
      " [  0   2   0   2   0   0  19   0   2   0]\n",
      " [  0   0   0   1   2   1   2  10   1   0]\n",
      " [  0   0   3   1   1   0   3   0  38   2]\n",
      " [  0   0   1   1   0   1   1   0   0  15]]\n",
      "Train: 6105 Validation: 678\n",
      "Confusion Matrix:\n",
      " [[  9   2   1   0   1   0   0   0   1   0]\n",
      " [  4 131  11   1   6   0   0   0   0   2]\n",
      " [  0  14 118   6   8   1   2   0   2   4]\n",
      " [  0   4   6  73   0   1   2   0   3   2]\n",
      " [  2  10   5   2 125   0   3   0   0   0]\n",
      " [  0   0   0   0   1  14   0   2   0   0]\n",
      " [  0   1   3   1   0   0  19   1   1   1]\n",
      " [  0   1   2   0   0   0   0   8   0   1]\n",
      " [  0   1   2   0   1   0   0   1  31   2]\n",
      " [  0   3   2   1   2   1   2   1   1   9]]\n",
      "Train: 6105 Validation: 678\n",
      "Confusion Matrix:\n",
      " [[  6   0   0   1   0   0   1   0   0   0]\n",
      " [  2 141  10   3  10   0   0   0   1   0]\n",
      " [  0   8 143   7   5   0   1   0   1   0]\n",
      " [  1   4   4  81   2   0   1   0   1   2]\n",
      " [  0   9   4   2 112   0   0   1   0   0]\n",
      " [  0   0   0   0   0   9   0   1   1   0]\n",
      " [  1   2   1   1   1   0  14   1   1   0]\n",
      " [  0   0   0   0   0   0   0  16   1   0]\n",
      " [  1   0   0   2   0   1   2   0  44   1]\n",
      " [  0   1   1   0   0   0   0   0   0  11]]\n",
      "Train: 6105 Validation: 678\n",
      "Confusion Matrix:\n",
      " [[  9   3   1   1   2   0   0   0   0   0]\n",
      " [  1 126  10   3   9   2   0   0   0   0]\n",
      " [  3   8 144   2   5   1   1   2   0   1]\n",
      " [  1   3   4  89   2   1   0   0   0   2]\n",
      " [  0   9   4   2 117   0   0   0   0   0]\n",
      " [  0   0   0   0   1  18   0   0   0   3]\n",
      " [  0   0   0   1   0   0  17   1   2   0]\n",
      " [  0   2   0   0   0   0   0   6   0   1]\n",
      " [  1   2   0   2   1   1   1   0  26   2]\n",
      " [  0   1   1   1   0   0   1   1   3  14]]\n",
      "Average Accuracy: 0.814245962959584\n",
      "Average Precision: 0.816854183050195\n",
      "Average Recall: 0.814245962959584\n",
      "Average F1: 0.8143681923312329\n"
     ]
    }
   ],
   "source": [
    "kfold_10(X30_pro,y30_pro) #applying kfold and getting the accuracy"
   ]
  },
  {
   "cell_type": "code",
   "execution_count": 209,
   "metadata": {},
   "outputs": [
    {
     "name": "stdout",
     "output_type": "stream",
     "text": [
      "Train: 3488 Validation: 388\n",
      "Confusion Matrix:\n",
      " [[ 3  2  1  2  1  0  0  0  0  0]\n",
      " [ 1 68 11  1  6  0  0  0  2  0]\n",
      " [ 0 11 59  3  2  2  0  1  3  0]\n",
      " [ 1  3  8 46  1  0  1  0  1  0]\n",
      " [ 0  4  8  2 60  1  0  0  0  0]\n",
      " [ 0  0  2  0  0  7  0  1  1  0]\n",
      " [ 0  0  0  0  1  0 12  1  0  1]\n",
      " [ 0  0  1  0  0  0  0  6  1  0]\n",
      " [ 0  1  2  3  1  1  0  0 17  1]\n",
      " [ 0  0  1  2  1  1  0  0  1  7]]\n",
      "Train: 3488 Validation: 388\n",
      "Confusion Matrix:\n",
      " [[ 8  1  1  0  1  0  0  0  0  0]\n",
      " [ 1 82  6  5  4  0  0  0  0  1]\n",
      " [ 1  6 73  5  2  0  0  1  0  0]\n",
      " [ 0  3  2 45  0  0  1  0  2  1]\n",
      " [ 0  2  4  3 71  0  0  0  0  0]\n",
      " [ 0  0  1  0  0  6  0  0  0  0]\n",
      " [ 1  1  2  1  1  1  8  0  2  0]\n",
      " [ 0  0  1  0  1  0  0 10  1  0]\n",
      " [ 1  1  0  2  0  0  0  0  3  4]\n",
      " [ 0  0  0  1  1  0  0  0  1  5]]\n",
      "Train: 3488 Validation: 388\n",
      "Confusion Matrix:\n",
      " [[ 8  1  0  1  0  0  0  0  0  0]\n",
      " [ 3 67  7  3  8  0  0  2  0  1]\n",
      " [ 2  9 60 12  5  0  0  0  1  1]\n",
      " [ 0  4  3 47  1  0  0  0  0  0]\n",
      " [ 1  2  1  1 66  0  1  0  0  0]\n",
      " [ 0  0  1  2  0  8  0  0  2  0]\n",
      " [ 0  1  0  3  2  0 10  0  0  1]\n",
      " [ 0  1  1  0  1  0  1  5  0  3]\n",
      " [ 0  1  2  0  0  2  3  0 13  0]\n",
      " [ 0  0  0  2  0  0  1  2  0  2]]\n",
      "Train: 3488 Validation: 388\n",
      "Confusion Matrix:\n",
      " [[ 3  1  1  1  1  0  0  0  0  0]\n",
      " [ 1 60  6  5  2  0  0  1  1  1]\n",
      " [ 0  8 74  7  6  1  0  0  1  0]\n",
      " [ 0  4  9 47  1  0  0  0  1  1]\n",
      " [ 0  5  6  3 72  0  0  1  1  0]\n",
      " [ 0  0  1  0  0  5  0  0  0  0]\n",
      " [ 0  1  2  2  0  0  8  0  0  1]\n",
      " [ 0  0  0  0  0  0  0  7  0  1]\n",
      " [ 0  1  1  0  0  1  1  1 13  1]\n",
      " [ 1  0  1  0  0  1  0  0  0  6]]\n",
      "Train: 3488 Validation: 388\n",
      "Confusion Matrix:\n",
      " [[ 3  0  1  0  1  0  0  0  0  0]\n",
      " [ 0 73  6  1  8  0  0  2  1  0]\n",
      " [ 0  4 66  4  5  0  2  2  1  0]\n",
      " [ 0  5  5 46  2  0  2  0  0  1]\n",
      " [ 2 10  6  1 72  0  0  0  0  0]\n",
      " [ 0  0  0  0  2  4  0  0  0  1]\n",
      " [ 0  0  0  1  0  0  7  0  0  2]\n",
      " [ 0  1  1  0  1  0  1  1  0  0]\n",
      " [ 0  1  0  0  1  0  2  1 19  0]\n",
      " [ 0  2  0  1  2  0  1  0  0  4]]\n",
      "Train: 3488 Validation: 388\n",
      "Confusion Matrix:\n",
      " [[ 3  1  1  0  0  0  0  0  0  0]\n",
      " [ 3 79  7  0  3  1  1  2  0  0]\n",
      " [ 1  5 59  4  4  0  3  0  2  1]\n",
      " [ 1  2  8 45  0  1  0  0  1  1]\n",
      " [ 2  8  9  3 62  1  0  0  0  0]\n",
      " [ 0  0  0  0  0  2  0  1  2  0]\n",
      " [ 0  0  2  0  2  1  7  0  1  2]\n",
      " [ 0  1  0  0  0  0  0 12  0  0]\n",
      " [ 0  0  1  3  0  1  1  1 15  0]\n",
      " [ 1  0  0  0  0  0  1  1  1  5]]\n",
      "Train: 3489 Validation: 387\n",
      "Confusion Matrix:\n",
      " [[ 2  3  1  0  2  0  0  0  0  0]\n",
      " [ 0 76  7  3  8  1  0  0  0  1]\n",
      " [ 0  8 66  7  5  0  1  1  1  1]\n",
      " [ 0  2  7 43  0  1  2  1  0  0]\n",
      " [ 0  6  5  1 59  0  0  0  0  0]\n",
      " [ 0  0  1  0  0  4  2  1  0  0]\n",
      " [ 0  3  0  3  1  1 10  1  0  0]\n",
      " [ 0  2  1  0  1  1  0  5  1  0]\n",
      " [ 1  0  1  0  0  0  0  0 13  1]\n",
      " [ 0  0  0  2  0  1  1  0  0  8]]\n",
      "Train: 3489 Validation: 387\n",
      "Confusion Matrix:\n",
      " [[ 4  2  1  0  0  0  0  0  0  0]\n",
      " [ 1 76 12  5  6  0  1  1  1  0]\n",
      " [ 0  6 59  4  6  0  1  0  1  0]\n",
      " [ 1  1  5 42  0  0  2  0  0  0]\n",
      " [ 0  5  2  0 72  2  1  0  0  0]\n",
      " [ 0  0  1  0  0  8  0  0  1  0]\n",
      " [ 0  0  1  1  0  0  9  0  1  3]\n",
      " [ 0  1  1  0  1  0  3  3  0  0]\n",
      " [ 0  0  1  3  1  1  2  0 15  0]\n",
      " [ 0  0  0  1  0  1  1  0  2  5]]\n",
      "Train: 3489 Validation: 387\n",
      "Confusion Matrix:\n",
      " [[ 6  0  1  1  2  0  0  0  0  0]\n",
      " [ 2 62  6  5  1  0  1  1  1  2]\n",
      " [ 1 14 75  5  2  0  1  2  0  0]\n",
      " [ 1  1  4 41  3  0  0  0  2  0]\n",
      " [ 0  6  5  1 63  0  0  0  1  0]\n",
      " [ 0  0  0  0  0  5  0  1  1  0]\n",
      " [ 0  0  0  0  1  1 11  1  1  1]\n",
      " [ 0  0  1  0  0  1  0  8  1  1]\n",
      " [ 0  1  3  0  0  1  3  1 10  3]\n",
      " [ 0  0  1  1  0  0  1  0  4  4]]\n",
      "Train: 3489 Validation: 387\n",
      "Confusion Matrix:\n",
      " [[ 0  1  1  2  3  0  0  0  0  0]\n",
      " [ 3 73  8  3  3  0  0  0  1  1]\n",
      " [ 0  6 86  6  4  0  0  1  0  0]\n",
      " [ 2  3  6 37  2  0  2  0  1  1]\n",
      " [ 0  6  0  2 38  1  1  1  0  3]\n",
      " [ 0  0  0  0  0  9  0  2  1  0]\n",
      " [ 0  1  1  0  1  0  8  0  1  0]\n",
      " [ 0  0  0  1  0  0  0 16  0  0]\n",
      " [ 0  1  1  1  0  0  2  0 13  2]\n",
      " [ 0  0  3  3  0  0  2  0  3  7]]\n",
      "Average Accuracy: 0.7512820000532778\n",
      "Average Precision: 0.7559874361217441\n",
      "Average Recall: 0.7512820000532778\n",
      "Average F1: 0.7506574280286755\n"
     ]
    }
   ],
   "source": [
    "kfold_10(X60_pro,y60_pro) #applying kfold and getting the accuracy"
   ]
  },
  {
   "attachments": {},
   "cell_type": "markdown",
   "metadata": {},
   "source": [
    "### Random forest Classifier"
   ]
  },
  {
   "cell_type": "code",
   "execution_count": 210,
   "metadata": {},
   "outputs": [],
   "source": [
    "from sklearn.ensemble import RandomForestClassifier\n",
    "\n",
    "def randomforestClassifier(xdata,ydata,xtest,ytest):\n",
    "    # Create a Random Forest Classifier\n",
    "    clf = RandomForestClassifier(n_estimators=100, max_depth=10, random_state=19)\n",
    "\n",
    "    # Train the model\n",
    "    clf.fit(xdata, ydata)\n",
    "\n",
    "    # Make predictions on the test set\n",
    "    y_pred = clf.predict(xtest)\n",
    "\n",
    "    # Evaluate accuracy\n",
    "    accuracy = accuracy_score(ytest, y_pred)\n",
    "    print(f\"Accuracy: {accuracy}\")\n"
   ]
  },
  {
   "attachments": {},
   "cell_type": "markdown",
   "metadata": {},
   "source": [
    "Random forest classifier on the split data for both raw and preprocessed data , raw data, equilized (preprocessed) data"
   ]
  },
  {
   "cell_type": "code",
   "execution_count": 211,
   "metadata": {},
   "outputs": [
    {
     "name": "stderr",
     "output_type": "stream",
     "text": [
      "/var/folders/qk/mydg_vvd1gv6z5wlj72s23lm0000gn/T/ipykernel_81376/1322765778.py:8: DataConversionWarning: A column-vector y was passed when a 1d array was expected. Please change the shape of y to (n_samples,), for example using ravel().\n",
      "  clf.fit(xdata, ydata)\n"
     ]
    },
    {
     "name": "stdout",
     "output_type": "stream",
     "text": [
      "Accuracy: 0.83925295981324\n"
     ]
    }
   ],
   "source": [
    "randomforestClassifier(X30,y30,Xt30,yt30)"
   ]
  },
  {
   "cell_type": "code",
   "execution_count": 212,
   "metadata": {},
   "outputs": [
    {
     "name": "stderr",
     "output_type": "stream",
     "text": [
      "/var/folders/qk/mydg_vvd1gv6z5wlj72s23lm0000gn/T/ipykernel_81376/1322765778.py:8: DataConversionWarning: A column-vector y was passed when a 1d array was expected. Please change the shape of y to (n_samples,), for example using ravel().\n",
      "  clf.fit(xdata, ydata)\n"
     ]
    },
    {
     "name": "stdout",
     "output_type": "stream",
     "text": [
      "Accuracy: 0.8556828391734053\n"
     ]
    }
   ],
   "source": [
    "randomforestClassifier(X60,y60,Xt60,yt60)"
   ]
  },
  {
   "cell_type": "code",
   "execution_count": 213,
   "metadata": {},
   "outputs": [
    {
     "name": "stderr",
     "output_type": "stream",
     "text": [
      "/var/folders/qk/mydg_vvd1gv6z5wlj72s23lm0000gn/T/ipykernel_81376/1322765778.py:8: DataConversionWarning: A column-vector y was passed when a 1d array was expected. Please change the shape of y to (n_samples,), for example using ravel().\n",
      "  clf.fit(xdata, ydata)\n"
     ]
    },
    {
     "name": "stdout",
     "output_type": "stream",
     "text": [
      "Accuracy: 0.9061197265299317\n"
     ]
    }
   ],
   "source": [
    "randomforestClassifier(X30_pro,y30_pro,Xt30_pro,yt30_pro)"
   ]
  },
  {
   "cell_type": "code",
   "execution_count": 214,
   "metadata": {},
   "outputs": [
    {
     "name": "stderr",
     "output_type": "stream",
     "text": [
      "/var/folders/qk/mydg_vvd1gv6z5wlj72s23lm0000gn/T/ipykernel_81376/1322765778.py:8: DataConversionWarning: A column-vector y was passed when a 1d array was expected. Please change the shape of y to (n_samples,), for example using ravel().\n",
      "  clf.fit(xdata, ydata)\n"
     ]
    },
    {
     "name": "stdout",
     "output_type": "stream",
     "text": [
      "Accuracy: 0.890947888589398\n"
     ]
    }
   ],
   "source": [
    "randomforestClassifier(X60_pro,y60_pro,Xt60_pro,yt60_pro)"
   ]
  },
  {
   "cell_type": "code",
   "execution_count": 215,
   "metadata": {},
   "outputs": [
    {
     "name": "stderr",
     "output_type": "stream",
     "text": [
      "/var/folders/qk/mydg_vvd1gv6z5wlj72s23lm0000gn/T/ipykernel_81376/1322765778.py:8: DataConversionWarning: A column-vector y was passed when a 1d array was expected. Please change the shape of y to (n_samples,), for example using ravel().\n",
      "  clf.fit(xdata, ydata)\n"
     ]
    },
    {
     "name": "stdout",
     "output_type": "stream",
     "text": [
      "Accuracy: 0.7640776699029126\n"
     ]
    }
   ],
   "source": [
    "randomforestClassifier(x_train_all,y_train_all,x_test_all,y_test_all)"
   ]
  },
  {
   "cell_type": "code",
   "execution_count": 216,
   "metadata": {},
   "outputs": [
    {
     "name": "stderr",
     "output_type": "stream",
     "text": [
      "/var/folders/qk/mydg_vvd1gv6z5wlj72s23lm0000gn/T/ipykernel_81376/1322765778.py:8: DataConversionWarning: A column-vector y was passed when a 1d array was expected. Please change the shape of y to (n_samples,), for example using ravel().\n",
      "  clf.fit(xdata, ydata)\n"
     ]
    },
    {
     "name": "stdout",
     "output_type": "stream",
     "text": [
      "Accuracy: 0.8796116504854369\n"
     ]
    }
   ],
   "source": [
    "randomforestClassifier(equalized_df,y_train_all,equalized_df_test,y_test_all)"
   ]
  },
  {
   "cell_type": "code",
   "execution_count": null,
   "metadata": {},
   "outputs": [],
   "source": []
  }
 ],
 "metadata": {
  "kernelspec": {
   "display_name": "Python 3",
   "language": "python",
   "name": "python3"
  },
  "language_info": {
   "codemirror_mode": {
    "name": "ipython",
    "version": 3
   },
   "file_extension": ".py",
   "mimetype": "text/x-python",
   "name": "python",
   "nbconvert_exporter": "python",
   "pygments_lexer": "ipython3",
   "version": "3.11.2"
  },
  "orig_nbformat": 4
 },
 "nbformat": 4,
 "nbformat_minor": 2
}
